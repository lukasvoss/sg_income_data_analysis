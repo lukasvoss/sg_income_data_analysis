{
 "cells": [
  {
   "cell_type": "code",
   "execution_count": 1,
   "id": "7ddcad58",
   "metadata": {},
   "outputs": [],
   "source": [
    "# ---------- Imports & Notebook Setup ----------\n",
    "import re\n",
    "import math\n",
    "import numpy as np\n",
    "import pandas as pd\n",
    "import plotly.express as px\n",
    "import plotly.graph_objects as go\n",
    "\n",
    "from IPython.display import display\n",
    "\n",
    "import matplotlib.pyplot as plt\n",
    "plt.rcParams[\"figure.figsize\"] = (11, 6)\n",
    "plt.rcParams[\"axes.grid\"] = True"
   ]
  },
  {
   "cell_type": "code",
   "execution_count": 2,
   "id": "ac6131b2",
   "metadata": {},
   "outputs": [],
   "source": [
    "income_table = pd.read_csv(\n",
    "    \"data/TaxableIndividualsbyAssessedIncomeGroup.csv\"\n",
    ")\n",
    "tax_residents = income_table[income_table['resident_type'] == 'Tax Resident']\n",
    "non_tax_residents = income_table[income_table['resident_type'] == 'Non-Tax Resident']"
   ]
  },
  {
   "cell_type": "code",
   "execution_count": 3,
   "id": "5019830a",
   "metadata": {},
   "outputs": [
    {
     "data": {
      "text/html": [
       "<style type=\"text/css\">\n",
       "</style>\n",
       "<table id=\"T_1d35b\">\n",
       "  <thead>\n",
       "    <tr>\n",
       "      <th class=\"blank level0\" >&nbsp;</th>\n",
       "      <th id=\"T_1d35b_level0_col0\" class=\"col_heading level0 col0\" >year_of_assessment</th>\n",
       "      <th id=\"T_1d35b_level0_col1\" class=\"col_heading level0 col1\" >mean_income_est</th>\n",
       "      <th id=\"T_1d35b_level0_col2\" class=\"col_heading level0 col2\" >median_income_est</th>\n",
       "      <th id=\"T_1d35b_level0_col3\" class=\"col_heading level0 col3\" >gini_est</th>\n",
       "      <th id=\"T_1d35b_level0_col4\" class=\"col_heading level0 col4\" >share_<=50k</th>\n",
       "      <th id=\"T_1d35b_level0_col5\" class=\"col_heading level0 col5\" >share_>=100k</th>\n",
       "    </tr>\n",
       "  </thead>\n",
       "  <tbody>\n",
       "    <tr>\n",
       "      <th id=\"T_1d35b_level0_row0\" class=\"row_heading level0 row0\" >0</th>\n",
       "      <td id=\"T_1d35b_row0_col0\" class=\"data row0 col0\" >2004</td>\n",
       "      <td id=\"T_1d35b_row0_col1\" class=\"data row0 col1\" >S$ 76,198</td>\n",
       "      <td id=\"T_1d35b_row0_col2\" class=\"data row0 col2\" >S$ 48,446</td>\n",
       "      <td id=\"T_1d35b_row0_col3\" class=\"data row0 col3\" >0.424</td>\n",
       "      <td id=\"T_1d35b_row0_col4\" class=\"data row0 col4\" >52.7%</td>\n",
       "      <td id=\"T_1d35b_row0_col5\" class=\"data row0 col5\" >16.3%</td>\n",
       "    </tr>\n",
       "    <tr>\n",
       "      <th id=\"T_1d35b_level0_row1\" class=\"row_heading level0 row1\" >1</th>\n",
       "      <td id=\"T_1d35b_row1_col0\" class=\"data row1 col0\" >2005</td>\n",
       "      <td id=\"T_1d35b_row1_col1\" class=\"data row1 col1\" >S$ 78,182</td>\n",
       "      <td id=\"T_1d35b_row1_col2\" class=\"data row1 col2\" >S$ 49,115</td>\n",
       "      <td id=\"T_1d35b_row1_col3\" class=\"data row1 col3\" >0.428</td>\n",
       "      <td id=\"T_1d35b_row1_col4\" class=\"data row1 col4\" >51.5%</td>\n",
       "      <td id=\"T_1d35b_row1_col5\" class=\"data row1 col5\" >16.9%</td>\n",
       "    </tr>\n",
       "    <tr>\n",
       "      <th id=\"T_1d35b_level0_row2\" class=\"row_heading level0 row2\" >2</th>\n",
       "      <td id=\"T_1d35b_row2_col0\" class=\"data row2 col0\" >2006</td>\n",
       "      <td id=\"T_1d35b_row2_col1\" class=\"data row2 col1\" >S$ 80,744</td>\n",
       "      <td id=\"T_1d35b_row2_col2\" class=\"data row2 col2\" >S$ 49,859</td>\n",
       "      <td id=\"T_1d35b_row2_col3\" class=\"data row2 col3\" >0.438</td>\n",
       "      <td id=\"T_1d35b_row2_col4\" class=\"data row2 col4\" >50.2%</td>\n",
       "      <td id=\"T_1d35b_row2_col5\" class=\"data row2 col5\" >17.8%</td>\n",
       "    </tr>\n",
       "    <tr>\n",
       "      <th id=\"T_1d35b_level0_row3\" class=\"row_heading level0 row3\" >3</th>\n",
       "      <td id=\"T_1d35b_row3_col0\" class=\"data row3 col0\" >2007</td>\n",
       "      <td id=\"T_1d35b_row3_col1\" class=\"data row3 col1\" >S$ 83,179</td>\n",
       "      <td id=\"T_1d35b_row3_col2\" class=\"data row3 col2\" >S$ 50,779</td>\n",
       "      <td id=\"T_1d35b_row3_col3\" class=\"data row3 col3\" >0.445</td>\n",
       "      <td id=\"T_1d35b_row3_col4\" class=\"data row3 col4\" >49.1%</td>\n",
       "      <td id=\"T_1d35b_row3_col5\" class=\"data row3 col5\" >18.6%</td>\n",
       "    </tr>\n",
       "    <tr>\n",
       "      <th id=\"T_1d35b_level0_row4\" class=\"row_heading level0 row4\" >4</th>\n",
       "      <td id=\"T_1d35b_row4_col0\" class=\"data row4 col0\" >2008</td>\n",
       "      <td id=\"T_1d35b_row4_col1\" class=\"data row4 col1\" >S$ 87,198</td>\n",
       "      <td id=\"T_1d35b_row4_col2\" class=\"data row4 col2\" >S$ 52,343</td>\n",
       "      <td id=\"T_1d35b_row4_col3\" class=\"data row4 col3\" >0.457</td>\n",
       "      <td id=\"T_1d35b_row4_col4\" class=\"data row4 col4\" >47.4%</td>\n",
       "      <td id=\"T_1d35b_row4_col5\" class=\"data row4 col5\" >20.1%</td>\n",
       "    </tr>\n",
       "    <tr>\n",
       "      <th id=\"T_1d35b_level0_row5\" class=\"row_heading level0 row5\" >5</th>\n",
       "      <td id=\"T_1d35b_row5_col0\" class=\"data row5 col0\" >2009</td>\n",
       "      <td id=\"T_1d35b_row5_col1\" class=\"data row5 col1\" >S$ 88,114</td>\n",
       "      <td id=\"T_1d35b_row5_col2\" class=\"data row5 col2\" >S$ 53,394</td>\n",
       "      <td id=\"T_1d35b_row5_col3\" class=\"data row5 col3\" >0.457</td>\n",
       "      <td id=\"T_1d35b_row5_col4\" class=\"data row5 col4\" >46.2%</td>\n",
       "      <td id=\"T_1d35b_row5_col5\" class=\"data row5 col5\" >21.0%</td>\n",
       "    </tr>\n",
       "    <tr>\n",
       "      <th id=\"T_1d35b_level0_row6\" class=\"row_heading level0 row6\" >6</th>\n",
       "      <td id=\"T_1d35b_row6_col0\" class=\"data row6 col0\" >2010</td>\n",
       "      <td id=\"T_1d35b_row6_col1\" class=\"data row6 col1\" >S$ 86,196</td>\n",
       "      <td id=\"T_1d35b_row6_col2\" class=\"data row6 col2\" >S$ 52,293</td>\n",
       "      <td id=\"T_1d35b_row6_col3\" class=\"data row6 col3\" >0.454</td>\n",
       "      <td id=\"T_1d35b_row6_col4\" class=\"data row6 col4\" >47.5%</td>\n",
       "      <td id=\"T_1d35b_row6_col5\" class=\"data row6 col5\" >20.7%</td>\n",
       "    </tr>\n",
       "    <tr>\n",
       "      <th id=\"T_1d35b_level0_row7\" class=\"row_heading level0 row7\" >7</th>\n",
       "      <td id=\"T_1d35b_row7_col0\" class=\"data row7 col0\" >2011</td>\n",
       "      <td id=\"T_1d35b_row7_col1\" class=\"data row7 col1\" >S$ 87,831</td>\n",
       "      <td id=\"T_1d35b_row7_col2\" class=\"data row7 col2\" >S$ 52,835</td>\n",
       "      <td id=\"T_1d35b_row7_col3\" class=\"data row7 col3\" >0.460</td>\n",
       "      <td id=\"T_1d35b_row7_col4\" class=\"data row7 col4\" >47.0%</td>\n",
       "      <td id=\"T_1d35b_row7_col5\" class=\"data row7 col5\" >21.3%</td>\n",
       "    </tr>\n",
       "    <tr>\n",
       "      <th id=\"T_1d35b_level0_row8\" class=\"row_heading level0 row8\" >8</th>\n",
       "      <td id=\"T_1d35b_row8_col0\" class=\"data row8 col0\" >2012</td>\n",
       "      <td id=\"T_1d35b_row8_col1\" class=\"data row8 col1\" >S$ 88,487</td>\n",
       "      <td id=\"T_1d35b_row8_col2\" class=\"data row8 col2\" >S$ 53,029</td>\n",
       "      <td id=\"T_1d35b_row8_col3\" class=\"data row8 col3\" >0.463</td>\n",
       "      <td id=\"T_1d35b_row8_col4\" class=\"data row8 col4\" >46.8%</td>\n",
       "      <td id=\"T_1d35b_row8_col5\" class=\"data row8 col5\" >21.8%</td>\n",
       "    </tr>\n",
       "    <tr>\n",
       "      <th id=\"T_1d35b_level0_row9\" class=\"row_heading level0 row9\" >9</th>\n",
       "      <td id=\"T_1d35b_row9_col0\" class=\"data row9 col0\" >2013</td>\n",
       "      <td id=\"T_1d35b_row9_col1\" class=\"data row9 col1\" >S$ 87,882</td>\n",
       "      <td id=\"T_1d35b_row9_col2\" class=\"data row9 col2\" >S$ 52,867</td>\n",
       "      <td id=\"T_1d35b_row9_col3\" class=\"data row9 col3\" >0.461</td>\n",
       "      <td id=\"T_1d35b_row9_col4\" class=\"data row9 col4\" >47.0%</td>\n",
       "      <td id=\"T_1d35b_row9_col5\" class=\"data row9 col5\" >21.7%</td>\n",
       "    </tr>\n",
       "    <tr>\n",
       "      <th id=\"T_1d35b_level0_row10\" class=\"row_heading level0 row10\" >10</th>\n",
       "      <td id=\"T_1d35b_row10_col0\" class=\"data row10 col0\" >2014</td>\n",
       "      <td id=\"T_1d35b_row10_col1\" class=\"data row10 col1\" >S$ 88,259</td>\n",
       "      <td id=\"T_1d35b_row10_col2\" class=\"data row10 col2\" >S$ 53,286</td>\n",
       "      <td id=\"T_1d35b_row10_col3\" class=\"data row10 col3\" >0.460</td>\n",
       "      <td id=\"T_1d35b_row10_col4\" class=\"data row10 col4\" >46.6%</td>\n",
       "      <td id=\"T_1d35b_row10_col5\" class=\"data row10 col5\" >22.2%</td>\n",
       "    </tr>\n",
       "    <tr>\n",
       "      <th id=\"T_1d35b_level0_row11\" class=\"row_heading level0 row11\" >11</th>\n",
       "      <td id=\"T_1d35b_row11_col0\" class=\"data row11 col0\" >2015</td>\n",
       "      <td id=\"T_1d35b_row11_col1\" class=\"data row11 col1\" >S$ 89,639</td>\n",
       "      <td id=\"T_1d35b_row11_col2\" class=\"data row11 col2\" >S$ 53,862</td>\n",
       "      <td id=\"T_1d35b_row11_col3\" class=\"data row11 col3\" >0.463</td>\n",
       "      <td id=\"T_1d35b_row11_col4\" class=\"data row11 col4\" >45.9%</td>\n",
       "      <td id=\"T_1d35b_row11_col5\" class=\"data row11 col5\" >22.5%</td>\n",
       "    </tr>\n",
       "    <tr>\n",
       "      <th id=\"T_1d35b_level0_row12\" class=\"row_heading level0 row12\" >12</th>\n",
       "      <td id=\"T_1d35b_row12_col0\" class=\"data row12 col0\" >2016</td>\n",
       "      <td id=\"T_1d35b_row12_col1\" class=\"data row12 col1\" >S$ 90,754</td>\n",
       "      <td id=\"T_1d35b_row12_col2\" class=\"data row12 col2\" >S$ 54,738</td>\n",
       "      <td id=\"T_1d35b_row12_col3\" class=\"data row12 col3\" >0.462</td>\n",
       "      <td id=\"T_1d35b_row12_col4\" class=\"data row12 col4\" >44.9%</td>\n",
       "      <td id=\"T_1d35b_row12_col5\" class=\"data row12 col5\" >23.1%</td>\n",
       "    </tr>\n",
       "    <tr>\n",
       "      <th id=\"T_1d35b_level0_row13\" class=\"row_heading level0 row13\" >13</th>\n",
       "      <td id=\"T_1d35b_row13_col0\" class=\"data row13 col0\" >2017</td>\n",
       "      <td id=\"T_1d35b_row13_col1\" class=\"data row13 col1\" >S$ 90,995</td>\n",
       "      <td id=\"T_1d35b_row13_col2\" class=\"data row13 col2\" >S$ 55,144</td>\n",
       "      <td id=\"T_1d35b_row13_col3\" class=\"data row13 col3\" >0.460</td>\n",
       "      <td id=\"T_1d35b_row13_col4\" class=\"data row13 col4\" >44.5%</td>\n",
       "      <td id=\"T_1d35b_row13_col5\" class=\"data row13 col5\" >23.4%</td>\n",
       "    </tr>\n",
       "    <tr>\n",
       "      <th id=\"T_1d35b_level0_row14\" class=\"row_heading level0 row14\" >14</th>\n",
       "      <td id=\"T_1d35b_row14_col0\" class=\"data row14 col0\" >2018</td>\n",
       "      <td id=\"T_1d35b_row14_col1\" class=\"data row14 col1\" >S$ 92,480</td>\n",
       "      <td id=\"T_1d35b_row14_col2\" class=\"data row14 col2\" >S$ 56,259</td>\n",
       "      <td id=\"T_1d35b_row14_col3\" class=\"data row14 col3\" >0.459</td>\n",
       "      <td id=\"T_1d35b_row14_col4\" class=\"data row14 col4\" >43.5%</td>\n",
       "      <td id=\"T_1d35b_row14_col5\" class=\"data row14 col5\" >24.3%</td>\n",
       "    </tr>\n",
       "    <tr>\n",
       "      <th id=\"T_1d35b_level0_row15\" class=\"row_heading level0 row15\" >15</th>\n",
       "      <td id=\"T_1d35b_row15_col0\" class=\"data row15 col0\" >2019</td>\n",
       "      <td id=\"T_1d35b_row15_col1\" class=\"data row15 col1\" >S$ 94,277</td>\n",
       "      <td id=\"T_1d35b_row15_col2\" class=\"data row15 col2\" >S$ 57,218</td>\n",
       "      <td id=\"T_1d35b_row15_col3\" class=\"data row15 col3\" >0.461</td>\n",
       "      <td id=\"T_1d35b_row15_col4\" class=\"data row15 col4\" >42.8%</td>\n",
       "      <td id=\"T_1d35b_row15_col5\" class=\"data row15 col5\" >25.1%</td>\n",
       "    </tr>\n",
       "    <tr>\n",
       "      <th id=\"T_1d35b_level0_row16\" class=\"row_heading level0 row16\" >16</th>\n",
       "      <td id=\"T_1d35b_row16_col0\" class=\"data row16 col0\" >2020</td>\n",
       "      <td id=\"T_1d35b_row16_col1\" class=\"data row16 col1\" >S$ 95,109</td>\n",
       "      <td id=\"T_1d35b_row16_col2\" class=\"data row16 col2\" >S$ 57,792</td>\n",
       "      <td id=\"T_1d35b_row16_col3\" class=\"data row16 col3\" >0.461</td>\n",
       "      <td id=\"T_1d35b_row16_col4\" class=\"data row16 col4\" >42.2%</td>\n",
       "      <td id=\"T_1d35b_row16_col5\" class=\"data row16 col5\" >25.6%</td>\n",
       "    </tr>\n",
       "    <tr>\n",
       "      <th id=\"T_1d35b_level0_row17\" class=\"row_heading level0 row17\" >17</th>\n",
       "      <td id=\"T_1d35b_row17_col0\" class=\"data row17 col0\" >2021</td>\n",
       "      <td id=\"T_1d35b_row17_col1\" class=\"data row17 col1\" >S$ 98,228</td>\n",
       "      <td id=\"T_1d35b_row17_col2\" class=\"data row17 col2\" >S$ 59,670</td>\n",
       "      <td id=\"T_1d35b_row17_col3\" class=\"data row17 col3\" >0.462</td>\n",
       "      <td id=\"T_1d35b_row17_col4\" class=\"data row17 col4\" >40.5%</td>\n",
       "      <td id=\"T_1d35b_row17_col5\" class=\"data row17 col5\" >26.9%</td>\n",
       "    </tr>\n",
       "    <tr>\n",
       "      <th id=\"T_1d35b_level0_row18\" class=\"row_heading level0 row18\" >18</th>\n",
       "      <td id=\"T_1d35b_row18_col0\" class=\"data row18 col0\" >2022</td>\n",
       "      <td id=\"T_1d35b_row18_col1\" class=\"data row18 col1\" >S$ 101,935</td>\n",
       "      <td id=\"T_1d35b_row18_col2\" class=\"data row18 col2\" >S$ 61,413</td>\n",
       "      <td id=\"T_1d35b_row18_col3\" class=\"data row18 col3\" >0.466</td>\n",
       "      <td id=\"T_1d35b_row18_col4\" class=\"data row18 col4\" >39.0%</td>\n",
       "      <td id=\"T_1d35b_row18_col5\" class=\"data row18 col5\" >28.3%</td>\n",
       "    </tr>\n",
       "    <tr>\n",
       "      <th id=\"T_1d35b_level0_row19\" class=\"row_heading level0 row19\" >19</th>\n",
       "      <td id=\"T_1d35b_row19_col0\" class=\"data row19 col0\" >2023</td>\n",
       "      <td id=\"T_1d35b_row19_col1\" class=\"data row19 col1\" >S$ 104,986</td>\n",
       "      <td id=\"T_1d35b_row19_col2\" class=\"data row19 col2\" >S$ 63,632</td>\n",
       "      <td id=\"T_1d35b_row19_col3\" class=\"data row19 col3\" >0.466</td>\n",
       "      <td id=\"T_1d35b_row19_col4\" class=\"data row19 col4\" >37.4%</td>\n",
       "      <td id=\"T_1d35b_row19_col5\" class=\"data row19 col5\" >29.9%</td>\n",
       "    </tr>\n",
       "  </tbody>\n",
       "</table>\n"
      ],
      "text/plain": [
       "<pandas.io.formats.style.Styler at 0x30bf74490>"
      ]
     },
     "metadata": {},
     "output_type": "display_data"
    },
    {
     "name": "stdout",
     "output_type": "stream",
     "text": [
      "\n",
      "Key changes from 2004 to 2023:\n",
      "- Estimated mean income: S$ 76,198 → S$ 104,986\n",
      "- Estimated median income: S$ 48,446 → S$ 63,632\n",
      "- Estimated Gini (from binned data): 0.424 → 0.466\n",
      "- Share earning ≤ 50k: 52.7% → 37.4%\n",
      "- Share earning ≥ 100k: 16.3% → 29.9%\n"
     ]
    }
   ],
   "source": [
    "# ---------- 0) Select Tax Residents ----------\n",
    "df = income_table.copy()\n",
    "df = df[df[\"resident_type\"] == \"Tax Resident\"].copy()\n",
    "\n",
    "# Safety: coerce numbers\n",
    "num_cols = [\"number_of_taxpayers\", \"assessable_income\", \"chargeable_income\", \"net_tax_assessed\"]\n",
    "for c in num_cols:\n",
    "    if c in df.columns:\n",
    "        df[c] = pd.to_numeric(df[c], errors=\"coerce\")\n",
    "\n",
    "# ---------- 1) Parse & Order Income Bins ----------\n",
    "# Expected examples:\n",
    "# \"20,000 & below\", \"20,001 - 25,000\", ..., \"1,000,001 & above\"\n",
    "def parse_bin_bounds(label: str):\n",
    "    s = label.replace(\",\", \"\").strip()\n",
    "    # \"& below\"\n",
    "    m = re.match(r\"^(\\d+)\\s*&\\s*below$\", s, flags=re.I)\n",
    "    if m:\n",
    "        upper = int(m.group(1))\n",
    "        lower = 0\n",
    "        return lower, upper, True, False  # closed on upper (<= upper)\n",
    "    # \"& above\"\n",
    "    m = re.match(r\"^(\\d+)\\s*&\\s*above$\", s, flags=re.I)\n",
    "    if m:\n",
    "        lower = int(m.group(1))\n",
    "        upper = math.inf\n",
    "        return lower, upper, False, True\n",
    "    # \"a - b\"\n",
    "    m = re.match(r\"^(\\d+)\\s*-\\s*(\\d+)$\", s)\n",
    "    if m:\n",
    "        lower = int(m.group(1))\n",
    "        upper = int(m.group(2))\n",
    "        return lower, upper, False, False\n",
    "    raise ValueError(f\"Unrecognized bin label: {label!r}\")\n",
    "\n",
    "# Extract bin bounds and order\n",
    "bins_meta = (\n",
    "    df[\"assessed_income_group\"]\n",
    "    .dropna()\n",
    "    .unique()\n",
    ")\n",
    "bin_info = []\n",
    "for lbl in bins_meta:\n",
    "    lo, hi, is_below, is_above = parse_bin_bounds(lbl)\n",
    "    bin_info.append((lbl, lo, hi, is_below, is_above))\n",
    "bin_info = sorted(bin_info, key=lambda x: (x[1], float(\"inf\") if x[2] == math.inf else x[2]))\n",
    "\n",
    "# Create ordered categorical for plotting\n",
    "ordered_labels = [x[0] for x in bin_info]\n",
    "df[\"assessed_income_group\"] = pd.Categorical(df[\"assessed_income_group\"], categories=ordered_labels, ordered=True)\n",
    "\n",
    "# For stats from binned data, we need representative points per bin (midpoints);\n",
    "# For open-ended top bin, assume mean ~ 1.25 * lower bound (adjustable).\n",
    "def representative_value(lo, hi, top_tail_factor=1.25):\n",
    "    if hi == math.inf:\n",
    "        return lo * top_tail_factor\n",
    "    return (lo + hi) / 2.0\n",
    "\n",
    "rep_values = {}\n",
    "for lbl, lo, hi, *_ in bin_info:\n",
    "    rep_values[lbl] = representative_value(lo, hi)\n",
    "\n",
    "# ---------- 2) Build Per-Year Distributions ----------\n",
    "# Sum taxpayers across the same year/bin if duplicated rows exist.\n",
    "dist = (\n",
    "    df.groupby([\"year_of_assessment\", \"assessed_income_group\"], observed=True)[\"number_of_taxpayers\"]\n",
    "      .sum()\n",
    "      .reset_index()\n",
    ")\n",
    "\n",
    "# Normalize to shares within each year\n",
    "dist[\"share_of_taxpayers\"] = dist.groupby(\"year_of_assessment\")[\"number_of_taxpayers\"].transform(\n",
    "    lambda x: x / x.sum()\n",
    ")\n",
    "\n",
    "# ---------- 3) Descriptive Statistics per Year (from binned data) ----------\n",
    "def binned_stats_one_year(dsub: pd.DataFrame):\n",
    "    # dsub has columns: assessed_income_group, number_of_taxpayers, share_of_taxpayers\n",
    "    dsub = dsub.sort_values(\"assessed_income_group\")\n",
    "    # Representative income per bin\n",
    "    vals = dsub[\"assessed_income_group\"].map(rep_values).astype(float).values\n",
    "    weights = dsub[\"share_of_taxpayers\"].values\n",
    "    # Estimated mean\n",
    "    mean_est = np.sum(vals * weights)\n",
    "    # Estimated median (p=0.5) via cumulative weights (linear within-bin assumption)\n",
    "    cdf = np.cumsum(weights)\n",
    "    # Find first bin where CDF >= 0.5\n",
    "    idx = np.searchsorted(cdf, 0.5)\n",
    "    if idx == 0:\n",
    "        median_est = vals[0]\n",
    "    else:\n",
    "        # interpolate between previous and current rep point by weight proportions\n",
    "        prev_cdf = cdf[idx - 1] if idx > 0 else 0.0\n",
    "        bin_w = weights[idx]\n",
    "        if bin_w == 0:\n",
    "            median_est = vals[idx]\n",
    "        else:\n",
    "            frac = (0.5 - prev_cdf) / bin_w\n",
    "            # simple interpolation to next rep point (crude; bins are not continuous points)\n",
    "            # For a better estimate, use bin lower/upper bounds:\n",
    "            lbl = dsub[\"assessed_income_group\"].iloc[idx]\n",
    "            lo, hi, *_ = next((lo, hi, b, a) for lab, lo, hi, b, a in bin_info if lab == lbl)\n",
    "            if hi == math.inf:\n",
    "                hi = representative_value(lo, hi)  # fallback\n",
    "            median_est = lo + frac * (hi - lo)\n",
    "\n",
    "    # Estimated Gini from grouped data using trapezoidal Lorenz approximation\n",
    "    # Steps:\n",
    "    # 1) build (cum_pop, cum_income) using bin means and weights\n",
    "    # 2) gini = 1 - 2 * area_under_lorenz\n",
    "    incomes = vals\n",
    "    pop_shares = weights\n",
    "    income_shares = incomes * pop_shares\n",
    "    income_shares = income_shares / income_shares.sum()\n",
    "\n",
    "    cum_pop = np.concatenate([[0], np.cumsum(pop_shares)])\n",
    "    cum_inc = np.concatenate([[0], np.cumsum(income_shares)])\n",
    "\n",
    "    # trapezoid area\n",
    "    area = np.trapz(cum_inc, cum_pop)\n",
    "    gini_est = 1 - 2 * area\n",
    "\n",
    "    # Some convenient buckets\n",
    "    # Share earning <= 50k\n",
    "    bins_le_50k = [lbl for lbl, lo, hi, *_ in bin_info if (hi != math.inf and hi <= 50000)]\n",
    "    share_le_50k = dsub.loc[dsub[\"assessed_income_group\"].isin(bins_le_50k), \"share_of_taxpayers\"].sum()\n",
    "\n",
    "    # Share earning >= 100k\n",
    "    bins_ge_100k = [lbl for lbl, lo, hi, *_ in bin_info if (lo >= 100000)]\n",
    "    share_ge_100k = dsub.loc[dsub[\"assessed_income_group\"].isin(bins_ge_100k), \"share_of_taxpayers\"].sum()\n",
    "\n",
    "    return pd.Series({\n",
    "        \"mean_income_est\": mean_est,\n",
    "        \"median_income_est\": median_est,\n",
    "        \"gini_est\": gini_est,\n",
    "        \"share_<=50k\": share_le_50k,\n",
    "        \"share_>=100k\": share_ge_100k\n",
    "    })\n",
    "\n",
    "stats_by_year = (\n",
    "    dist.groupby(\"year_of_assessment\")\n",
    "        .apply(binned_stats_one_year)\n",
    "        .reset_index()\n",
    "        .sort_values(\"year_of_assessment\")\n",
    ")\n",
    "\n",
    "display(stats_by_year.style.format({\n",
    "    \"mean_income_est\": \"S$ {:,.0f}\",\n",
    "    \"median_income_est\": \"S$ {:,.0f}\",\n",
    "    \"gini_est\": \"{:.3f}\",\n",
    "    \"share_<=50k\": \"{:.1%}\",\n",
    "    \"share_>=100k\": \"{:.1%}\",\n",
    "}))\n",
    "\n",
    "# Print some quick textual insights\n",
    "if not stats_by_year.empty:\n",
    "    first_year = stats_by_year[\"year_of_assessment\"].min()\n",
    "    last_year = stats_by_year[\"year_of_assessment\"].max()\n",
    "    s0 = stats_by_year.loc[stats_by_year[\"year_of_assessment\"] == first_year].iloc[0]\n",
    "    s1 = stats_by_year.loc[stats_by_year[\"year_of_assessment\"] == last_year].iloc[0]\n",
    "    print(f\"\\nKey changes from {first_year} to {last_year}:\")\n",
    "    print(f\"- Estimated mean income: S$ {s0['mean_income_est']:,.0f} → S$ {s1['mean_income_est']:,.0f}\")\n",
    "    print(f\"- Estimated median income: S$ {s0['median_income_est']:,.0f} → S$ {s1['median_income_est']:,.0f}\")\n",
    "    print(f\"- Estimated Gini (from binned data): {s0['gini_est']:.3f} → {s1['gini_est']:.3f}\")\n",
    "    print(f\"- Share earning ≤ 50k: {s0['share_<=50k']:.1%} → {s1['share_<=50k']:.1%}\")\n",
    "    print(f\"- Share earning ≥ 100k: {s0['share_>=100k']:.1%} → {s1['share_>=100k']:.1%}\")"
   ]
  },
  {
   "cell_type": "code",
   "execution_count": 4,
   "id": "2fed3b33",
   "metadata": {},
   "outputs": [
    {
     "data": {
      "application/vnd.plotly.v1+json": {
       "config": {
        "plotlyServerURL": "https://plot.ly"
       },
       "data": [
        {
         "customdata": [
          [
           0
          ],
          [
           3.7119976931347756
          ],
          [
           6.961344158012088
          ],
          [
           18.15209461010552
          ],
          [
           13.4041549137712
          ],
          [
           9.972079363935087
          ],
          [
           7.4744580630614745
          ],
          [
           6.074080436586515
          ],
          [
           8.696912573795913
          ],
          [
           11.654833245649959
          ],
          [
           5.361365426982245
          ],
          [
           4.501812719559937
          ],
          [
           1.7952851396875402
          ],
          [
           0.8609842727213699
          ],
          [
           1.0694815330632788
          ],
          [
           0.3091158499330999
          ]
         ],
         "hovertemplate": "Year=2020<br>Assessed income group (SGD)=%{x}<br>Share of taxpayers=%{y:.2%}<extra></extra>",
         "legendgroup": "2020",
         "line": {
          "color": "#636efa",
          "dash": "solid"
         },
         "marker": {
          "symbol": "circle"
         },
         "mode": "markers+lines",
         "name": "2020",
         "orientation": "v",
         "showlegend": true,
         "type": "scatter",
         "x": [
          "20,000 & below",
          "20,001 - 25,000",
          "25,001 - 30,000",
          "30,001 - 40,000",
          "40,001 - 50,000",
          "50,001 - 60,000",
          "60,001 - 70,000",
          "70,001 - 80,000",
          "80,001 - 100,000",
          "100,001 - 150,000",
          "150,001 - 200,000",
          "200,001 - 300,000",
          "300,001 - 400,000",
          "400,001 - 500,000",
          "500,001 - 1,000,000",
          "1,000,001 & above"
         ],
         "xaxis": "x",
         "y": [
          0,
          0.037119976931347755,
          0.06961344158012088,
          0.1815209461010552,
          0.134041549137712,
          0.09972079363935087,
          0.07474458063061475,
          0.060740804365865146,
          0.08696912573795913,
          0.11654833245649959,
          0.05361365426982245,
          0.04501812719559937,
          0.017952851396875403,
          0.008609842727213698,
          0.010694815330632788,
          0.003091158499330999
         ],
         "yaxis": "y"
        },
        {
         "customdata": [
          [
           0
          ],
          [
           3.3421641481518813
          ],
          [
           6.448909903638064
          ],
          [
           17.62052067156194
          ],
          [
           13.113444994314047
          ],
          [
           9.798634321313555
          ],
          [
           7.449858087440818
          ],
          [
           6.239269929973004
          ],
          [
           9.081983772721497
          ],
          [
           12.262127144832712
          ],
          [
           5.635760914876616
          ],
          [
           4.747639253339382
          ],
          [
           1.8630814188525822
          ],
          [
           0.9063398110142626
          ],
          [
           1.1475859114377427
          ],
          [
           0.34267971653189433
          ]
         ],
         "hovertemplate": "Year=2021<br>Assessed income group (SGD)=%{x}<br>Share of taxpayers=%{y:.2%}<extra></extra>",
         "legendgroup": "2021",
         "line": {
          "color": "#EF553B",
          "dash": "solid"
         },
         "marker": {
          "symbol": "circle"
         },
         "mode": "markers+lines",
         "name": "2021",
         "orientation": "v",
         "showlegend": true,
         "type": "scatter",
         "x": [
          "20,000 & below",
          "20,001 - 25,000",
          "25,001 - 30,000",
          "30,001 - 40,000",
          "40,001 - 50,000",
          "50,001 - 60,000",
          "60,001 - 70,000",
          "70,001 - 80,000",
          "80,001 - 100,000",
          "100,001 - 150,000",
          "150,001 - 200,000",
          "200,001 - 300,000",
          "300,001 - 400,000",
          "400,001 - 500,000",
          "500,001 - 1,000,000",
          "1,000,001 & above"
         ],
         "xaxis": "x",
         "y": [
          0,
          0.03342164148151881,
          0.06448909903638064,
          0.1762052067156194,
          0.13113444994314047,
          0.09798634321313555,
          0.07449858087440818,
          0.062392699299730035,
          0.09081983772721497,
          0.12262127144832713,
          0.056357609148766155,
          0.047476392533393814,
          0.018630814188525822,
          0.009063398110142626,
          0.011475859114377427,
          0.0034267971653189435
         ],
         "yaxis": "y"
        },
        {
         "customdata": [
          [
           0
          ],
          [
           2.816512853625893
          ],
          [
           5.721585235547355
          ],
          [
           17.233674210885624
          ],
          [
           13.241648566605061
          ],
          [
           9.936708924021723
          ],
          [
           7.4343025237466485
          ],
          [
           6.101111791911096
          ],
          [
           9.223434890255152
          ],
          [
           12.674457772797831
          ],
          [
           6.020148792002055
          ],
          [
           5.019306177077076
          ],
          [
           1.969300029886342
          ],
          [
           0.9551634902849397
          ],
          [
           1.242632117122475
          ],
          [
           0.41001262423072654
          ]
         ],
         "hovertemplate": "Year=2022<br>Assessed income group (SGD)=%{x}<br>Share of taxpayers=%{y:.2%}<extra></extra>",
         "legendgroup": "2022",
         "line": {
          "color": "#00cc96",
          "dash": "solid"
         },
         "marker": {
          "symbol": "circle"
         },
         "mode": "markers+lines",
         "name": "2022",
         "orientation": "v",
         "showlegend": true,
         "type": "scatter",
         "x": [
          "20,000 & below",
          "20,001 - 25,000",
          "25,001 - 30,000",
          "30,001 - 40,000",
          "40,001 - 50,000",
          "50,001 - 60,000",
          "60,001 - 70,000",
          "70,001 - 80,000",
          "80,001 - 100,000",
          "100,001 - 150,000",
          "150,001 - 200,000",
          "200,001 - 300,000",
          "300,001 - 400,000",
          "400,001 - 500,000",
          "500,001 - 1,000,000",
          "1,000,001 & above"
         ],
         "xaxis": "x",
         "y": [
          0,
          0.02816512853625893,
          0.05721585235547355,
          0.17233674210885624,
          0.1324164856660506,
          0.09936708924021723,
          0.07434302523746648,
          0.061011117919110965,
          0.09223434890255153,
          0.1267445777279783,
          0.06020148792002055,
          0.05019306177077076,
          0.01969300029886342,
          0.009551634902849397,
          0.01242632117122475,
          0.004100126242307265
         ],
         "yaxis": "y"
        },
        {
         "customdata": [
          [
           0
          ],
          [
           2.737139348151732
          ],
          [
           5.290614910819788
          ],
          [
           16.196233682858978
          ],
          [
           13.142846509550704
          ],
          [
           9.91468100745262
          ],
          [
           7.4854157556359855
          ],
          [
           6.093329859786563
          ],
          [
           9.254133365587697
          ],
          [
           13.22346690981494
          ],
          [
           6.4002735418081675
          ],
          [
           5.41780254747439
          ],
          [
           2.1217633212069336
          ],
          [
           1.0203388568929745
          ],
          [
           1.2903916113845495
          ],
          [
           0.41156877157398186
          ]
         ],
         "hovertemplate": "Year=2023<br>Assessed income group (SGD)=%{x}<br>Share of taxpayers=%{y:.2%}<extra></extra>",
         "legendgroup": "2023",
         "line": {
          "color": "#ab63fa",
          "dash": "solid"
         },
         "marker": {
          "symbol": "circle"
         },
         "mode": "markers+lines",
         "name": "2023",
         "orientation": "v",
         "showlegend": true,
         "type": "scatter",
         "x": [
          "20,000 & below",
          "20,001 - 25,000",
          "25,001 - 30,000",
          "30,001 - 40,000",
          "40,001 - 50,000",
          "50,001 - 60,000",
          "60,001 - 70,000",
          "70,001 - 80,000",
          "80,001 - 100,000",
          "100,001 - 150,000",
          "150,001 - 200,000",
          "200,001 - 300,000",
          "300,001 - 400,000",
          "400,001 - 500,000",
          "500,001 - 1,000,000",
          "1,000,001 & above"
         ],
         "xaxis": "x",
         "y": [
          0,
          0.02737139348151732,
          0.05290614910819788,
          0.16196233682858976,
          0.13142846509550704,
          0.09914681007452619,
          0.07485415755635985,
          0.06093329859786563,
          0.09254133365587697,
          0.1322346690981494,
          0.06400273541808167,
          0.0541780254747439,
          0.021217633212069334,
          0.010203388568929744,
          0.012903916113845495,
          0.004115687715739819
         ],
         "yaxis": "y"
        }
       ],
       "layout": {
        "legend": {
         "title": {
          "text": "Year"
         },
         "tracegroupgap": 0
        },
        "margin": {
         "b": 80,
         "l": 40,
         "r": 20,
         "t": 60
        },
        "template": {
         "data": {
          "bar": [
           {
            "error_x": {
             "color": "#2a3f5f"
            },
            "error_y": {
             "color": "#2a3f5f"
            },
            "marker": {
             "line": {
              "color": "#E5ECF6",
              "width": 0.5
             },
             "pattern": {
              "fillmode": "overlay",
              "size": 10,
              "solidity": 0.2
             }
            },
            "type": "bar"
           }
          ],
          "barpolar": [
           {
            "marker": {
             "line": {
              "color": "#E5ECF6",
              "width": 0.5
             },
             "pattern": {
              "fillmode": "overlay",
              "size": 10,
              "solidity": 0.2
             }
            },
            "type": "barpolar"
           }
          ],
          "carpet": [
           {
            "aaxis": {
             "endlinecolor": "#2a3f5f",
             "gridcolor": "white",
             "linecolor": "white",
             "minorgridcolor": "white",
             "startlinecolor": "#2a3f5f"
            },
            "baxis": {
             "endlinecolor": "#2a3f5f",
             "gridcolor": "white",
             "linecolor": "white",
             "minorgridcolor": "white",
             "startlinecolor": "#2a3f5f"
            },
            "type": "carpet"
           }
          ],
          "choropleth": [
           {
            "colorbar": {
             "outlinewidth": 0,
             "ticks": ""
            },
            "type": "choropleth"
           }
          ],
          "contour": [
           {
            "colorbar": {
             "outlinewidth": 0,
             "ticks": ""
            },
            "colorscale": [
             [
              0,
              "#0d0887"
             ],
             [
              0.1111111111111111,
              "#46039f"
             ],
             [
              0.2222222222222222,
              "#7201a8"
             ],
             [
              0.3333333333333333,
              "#9c179e"
             ],
             [
              0.4444444444444444,
              "#bd3786"
             ],
             [
              0.5555555555555556,
              "#d8576b"
             ],
             [
              0.6666666666666666,
              "#ed7953"
             ],
             [
              0.7777777777777778,
              "#fb9f3a"
             ],
             [
              0.8888888888888888,
              "#fdca26"
             ],
             [
              1,
              "#f0f921"
             ]
            ],
            "type": "contour"
           }
          ],
          "contourcarpet": [
           {
            "colorbar": {
             "outlinewidth": 0,
             "ticks": ""
            },
            "type": "contourcarpet"
           }
          ],
          "heatmap": [
           {
            "colorbar": {
             "outlinewidth": 0,
             "ticks": ""
            },
            "colorscale": [
             [
              0,
              "#0d0887"
             ],
             [
              0.1111111111111111,
              "#46039f"
             ],
             [
              0.2222222222222222,
              "#7201a8"
             ],
             [
              0.3333333333333333,
              "#9c179e"
             ],
             [
              0.4444444444444444,
              "#bd3786"
             ],
             [
              0.5555555555555556,
              "#d8576b"
             ],
             [
              0.6666666666666666,
              "#ed7953"
             ],
             [
              0.7777777777777778,
              "#fb9f3a"
             ],
             [
              0.8888888888888888,
              "#fdca26"
             ],
             [
              1,
              "#f0f921"
             ]
            ],
            "type": "heatmap"
           }
          ],
          "heatmapgl": [
           {
            "colorbar": {
             "outlinewidth": 0,
             "ticks": ""
            },
            "colorscale": [
             [
              0,
              "#0d0887"
             ],
             [
              0.1111111111111111,
              "#46039f"
             ],
             [
              0.2222222222222222,
              "#7201a8"
             ],
             [
              0.3333333333333333,
              "#9c179e"
             ],
             [
              0.4444444444444444,
              "#bd3786"
             ],
             [
              0.5555555555555556,
              "#d8576b"
             ],
             [
              0.6666666666666666,
              "#ed7953"
             ],
             [
              0.7777777777777778,
              "#fb9f3a"
             ],
             [
              0.8888888888888888,
              "#fdca26"
             ],
             [
              1,
              "#f0f921"
             ]
            ],
            "type": "heatmapgl"
           }
          ],
          "histogram": [
           {
            "marker": {
             "pattern": {
              "fillmode": "overlay",
              "size": 10,
              "solidity": 0.2
             }
            },
            "type": "histogram"
           }
          ],
          "histogram2d": [
           {
            "colorbar": {
             "outlinewidth": 0,
             "ticks": ""
            },
            "colorscale": [
             [
              0,
              "#0d0887"
             ],
             [
              0.1111111111111111,
              "#46039f"
             ],
             [
              0.2222222222222222,
              "#7201a8"
             ],
             [
              0.3333333333333333,
              "#9c179e"
             ],
             [
              0.4444444444444444,
              "#bd3786"
             ],
             [
              0.5555555555555556,
              "#d8576b"
             ],
             [
              0.6666666666666666,
              "#ed7953"
             ],
             [
              0.7777777777777778,
              "#fb9f3a"
             ],
             [
              0.8888888888888888,
              "#fdca26"
             ],
             [
              1,
              "#f0f921"
             ]
            ],
            "type": "histogram2d"
           }
          ],
          "histogram2dcontour": [
           {
            "colorbar": {
             "outlinewidth": 0,
             "ticks": ""
            },
            "colorscale": [
             [
              0,
              "#0d0887"
             ],
             [
              0.1111111111111111,
              "#46039f"
             ],
             [
              0.2222222222222222,
              "#7201a8"
             ],
             [
              0.3333333333333333,
              "#9c179e"
             ],
             [
              0.4444444444444444,
              "#bd3786"
             ],
             [
              0.5555555555555556,
              "#d8576b"
             ],
             [
              0.6666666666666666,
              "#ed7953"
             ],
             [
              0.7777777777777778,
              "#fb9f3a"
             ],
             [
              0.8888888888888888,
              "#fdca26"
             ],
             [
              1,
              "#f0f921"
             ]
            ],
            "type": "histogram2dcontour"
           }
          ],
          "mesh3d": [
           {
            "colorbar": {
             "outlinewidth": 0,
             "ticks": ""
            },
            "type": "mesh3d"
           }
          ],
          "parcoords": [
           {
            "line": {
             "colorbar": {
              "outlinewidth": 0,
              "ticks": ""
             }
            },
            "type": "parcoords"
           }
          ],
          "pie": [
           {
            "automargin": true,
            "type": "pie"
           }
          ],
          "scatter": [
           {
            "fillpattern": {
             "fillmode": "overlay",
             "size": 10,
             "solidity": 0.2
            },
            "type": "scatter"
           }
          ],
          "scatter3d": [
           {
            "line": {
             "colorbar": {
              "outlinewidth": 0,
              "ticks": ""
             }
            },
            "marker": {
             "colorbar": {
              "outlinewidth": 0,
              "ticks": ""
             }
            },
            "type": "scatter3d"
           }
          ],
          "scattercarpet": [
           {
            "marker": {
             "colorbar": {
              "outlinewidth": 0,
              "ticks": ""
             }
            },
            "type": "scattercarpet"
           }
          ],
          "scattergeo": [
           {
            "marker": {
             "colorbar": {
              "outlinewidth": 0,
              "ticks": ""
             }
            },
            "type": "scattergeo"
           }
          ],
          "scattergl": [
           {
            "marker": {
             "colorbar": {
              "outlinewidth": 0,
              "ticks": ""
             }
            },
            "type": "scattergl"
           }
          ],
          "scattermapbox": [
           {
            "marker": {
             "colorbar": {
              "outlinewidth": 0,
              "ticks": ""
             }
            },
            "type": "scattermapbox"
           }
          ],
          "scatterpolar": [
           {
            "marker": {
             "colorbar": {
              "outlinewidth": 0,
              "ticks": ""
             }
            },
            "type": "scatterpolar"
           }
          ],
          "scatterpolargl": [
           {
            "marker": {
             "colorbar": {
              "outlinewidth": 0,
              "ticks": ""
             }
            },
            "type": "scatterpolargl"
           }
          ],
          "scatterternary": [
           {
            "marker": {
             "colorbar": {
              "outlinewidth": 0,
              "ticks": ""
             }
            },
            "type": "scatterternary"
           }
          ],
          "surface": [
           {
            "colorbar": {
             "outlinewidth": 0,
             "ticks": ""
            },
            "colorscale": [
             [
              0,
              "#0d0887"
             ],
             [
              0.1111111111111111,
              "#46039f"
             ],
             [
              0.2222222222222222,
              "#7201a8"
             ],
             [
              0.3333333333333333,
              "#9c179e"
             ],
             [
              0.4444444444444444,
              "#bd3786"
             ],
             [
              0.5555555555555556,
              "#d8576b"
             ],
             [
              0.6666666666666666,
              "#ed7953"
             ],
             [
              0.7777777777777778,
              "#fb9f3a"
             ],
             [
              0.8888888888888888,
              "#fdca26"
             ],
             [
              1,
              "#f0f921"
             ]
            ],
            "type": "surface"
           }
          ],
          "table": [
           {
            "cells": {
             "fill": {
              "color": "#EBF0F8"
             },
             "line": {
              "color": "white"
             }
            },
            "header": {
             "fill": {
              "color": "#C8D4E3"
             },
             "line": {
              "color": "white"
             }
            },
            "type": "table"
           }
          ]
         },
         "layout": {
          "annotationdefaults": {
           "arrowcolor": "#2a3f5f",
           "arrowhead": 0,
           "arrowwidth": 1
          },
          "autotypenumbers": "strict",
          "coloraxis": {
           "colorbar": {
            "outlinewidth": 0,
            "ticks": ""
           }
          },
          "colorscale": {
           "diverging": [
            [
             0,
             "#8e0152"
            ],
            [
             0.1,
             "#c51b7d"
            ],
            [
             0.2,
             "#de77ae"
            ],
            [
             0.3,
             "#f1b6da"
            ],
            [
             0.4,
             "#fde0ef"
            ],
            [
             0.5,
             "#f7f7f7"
            ],
            [
             0.6,
             "#e6f5d0"
            ],
            [
             0.7,
             "#b8e186"
            ],
            [
             0.8,
             "#7fbc41"
            ],
            [
             0.9,
             "#4d9221"
            ],
            [
             1,
             "#276419"
            ]
           ],
           "sequential": [
            [
             0,
             "#0d0887"
            ],
            [
             0.1111111111111111,
             "#46039f"
            ],
            [
             0.2222222222222222,
             "#7201a8"
            ],
            [
             0.3333333333333333,
             "#9c179e"
            ],
            [
             0.4444444444444444,
             "#bd3786"
            ],
            [
             0.5555555555555556,
             "#d8576b"
            ],
            [
             0.6666666666666666,
             "#ed7953"
            ],
            [
             0.7777777777777778,
             "#fb9f3a"
            ],
            [
             0.8888888888888888,
             "#fdca26"
            ],
            [
             1,
             "#f0f921"
            ]
           ],
           "sequentialminus": [
            [
             0,
             "#0d0887"
            ],
            [
             0.1111111111111111,
             "#46039f"
            ],
            [
             0.2222222222222222,
             "#7201a8"
            ],
            [
             0.3333333333333333,
             "#9c179e"
            ],
            [
             0.4444444444444444,
             "#bd3786"
            ],
            [
             0.5555555555555556,
             "#d8576b"
            ],
            [
             0.6666666666666666,
             "#ed7953"
            ],
            [
             0.7777777777777778,
             "#fb9f3a"
            ],
            [
             0.8888888888888888,
             "#fdca26"
            ],
            [
             1,
             "#f0f921"
            ]
           ]
          },
          "colorway": [
           "#636efa",
           "#EF553B",
           "#00cc96",
           "#ab63fa",
           "#FFA15A",
           "#19d3f3",
           "#FF6692",
           "#B6E880",
           "#FF97FF",
           "#FECB52"
          ],
          "font": {
           "color": "#2a3f5f"
          },
          "geo": {
           "bgcolor": "white",
           "lakecolor": "white",
           "landcolor": "#E5ECF6",
           "showlakes": true,
           "showland": true,
           "subunitcolor": "white"
          },
          "hoverlabel": {
           "align": "left"
          },
          "hovermode": "closest",
          "mapbox": {
           "style": "light"
          },
          "paper_bgcolor": "white",
          "plot_bgcolor": "#E5ECF6",
          "polar": {
           "angularaxis": {
            "gridcolor": "white",
            "linecolor": "white",
            "ticks": ""
           },
           "bgcolor": "#E5ECF6",
           "radialaxis": {
            "gridcolor": "white",
            "linecolor": "white",
            "ticks": ""
           }
          },
          "scene": {
           "xaxis": {
            "backgroundcolor": "#E5ECF6",
            "gridcolor": "white",
            "gridwidth": 2,
            "linecolor": "white",
            "showbackground": true,
            "ticks": "",
            "zerolinecolor": "white"
           },
           "yaxis": {
            "backgroundcolor": "#E5ECF6",
            "gridcolor": "white",
            "gridwidth": 2,
            "linecolor": "white",
            "showbackground": true,
            "ticks": "",
            "zerolinecolor": "white"
           },
           "zaxis": {
            "backgroundcolor": "#E5ECF6",
            "gridcolor": "white",
            "gridwidth": 2,
            "linecolor": "white",
            "showbackground": true,
            "ticks": "",
            "zerolinecolor": "white"
           }
          },
          "shapedefaults": {
           "line": {
            "color": "#2a3f5f"
           }
          },
          "ternary": {
           "aaxis": {
            "gridcolor": "white",
            "linecolor": "white",
            "ticks": ""
           },
           "baxis": {
            "gridcolor": "white",
            "linecolor": "white",
            "ticks": ""
           },
           "bgcolor": "#E5ECF6",
           "caxis": {
            "gridcolor": "white",
            "linecolor": "white",
            "ticks": ""
           }
          },
          "title": {
           "x": 0.05
          },
          "xaxis": {
           "automargin": true,
           "gridcolor": "white",
           "linecolor": "white",
           "ticks": "",
           "title": {
            "standoff": 15
           },
           "zerolinecolor": "white",
           "zerolinewidth": 2
          },
          "yaxis": {
           "automargin": true,
           "gridcolor": "white",
           "linecolor": "white",
           "ticks": "",
           "title": {
            "standoff": 15
           },
           "zerolinecolor": "white",
           "zerolinewidth": 2
          }
         }
        },
        "title": {
         "text": "Distribution of Tax Residents by Assessed Income Group — 2020 and later"
        },
        "xaxis": {
         "anchor": "y",
         "categoryarray": [
          "20,000 & below",
          "20,001 - 25,000",
          "25,001 - 30,000",
          "30,001 - 40,000",
          "40,001 - 50,000",
          "50,001 - 60,000",
          "60,001 - 70,000",
          "70,001 - 80,000",
          "80,001 - 100,000",
          "100,001 - 150,000",
          "150,001 - 200,000",
          "200,001 - 300,000",
          "300,001 - 400,000",
          "400,001 - 500,000",
          "500,001 - 1,000,000",
          "1,000,001 & above"
         ],
         "categoryorder": "array",
         "domain": [
          0,
          1
         ],
         "title": {
          "text": "Assessed income group (SGD)"
         }
        },
        "yaxis": {
         "anchor": "x",
         "domain": [
          0,
          1
         ],
         "rangemode": "tozero",
         "tickformat": ".0%",
         "title": {
          "text": "Share of taxpayers"
         }
        }
       }
      }
     },
     "metadata": {},
     "output_type": "display_data"
    },
    {
     "data": {
      "application/vnd.plotly.v1+json": {
       "config": {
        "plotlyServerURL": "https://plot.ly"
       },
       "data": [
        {
         "hovertemplate": "Group: %{x}<br>Share: %{y:.2%}<extra></extra>",
         "type": "bar",
         "x": [
          "20,000 & below",
          "20,001 - 25,000",
          "25,001 - 30,000",
          "30,001 - 40,000",
          "40,001 - 50,000",
          "50,001 - 60,000",
          "60,001 - 70,000",
          "70,001 - 80,000",
          "80,001 - 100,000",
          "100,001 - 150,000",
          "150,001 - 200,000",
          "200,001 - 300,000",
          "300,001 - 400,000",
          "400,001 - 500,000",
          "500,001 - 1,000,000",
          "1,000,001 & above"
         ],
         "y": [
          0,
          0.02737139348151732,
          0.05290614910819788,
          0.16196233682858976,
          0.13142846509550704,
          0.09914681007452619,
          0.07485415755635985,
          0.06093329859786563,
          0.09254133365587697,
          0.1322346690981494,
          0.06400273541808167,
          0.0541780254747439,
          0.021217633212069334,
          0.010203388568929744,
          0.012903916113845495,
          0.004115687715739819
         ]
        }
       ],
       "frames": [
        {
         "data": [
          {
           "hovertemplate": "Group: %{x}<br>Share: %{y:.2%}<extra></extra>",
           "type": "bar",
           "x": [
            "20,000 & below",
            "20,001 - 25,000",
            "25,001 - 30,000",
            "30,001 - 40,000",
            "40,001 - 50,000",
            "50,001 - 60,000",
            "60,001 - 70,000",
            "70,001 - 80,000",
            "80,001 - 100,000",
            "100,001 - 150,000",
            "150,001 - 200,000",
            "200,001 - 300,000",
            "300,001 - 400,000",
            "400,001 - 500,000",
            "500,001 - 1,000,000",
            "1,000,001 & above"
           ],
           "y": [
            0,
            0.0341845491390242,
            0.08523580861163767,
            0.2355208726444081,
            0.17175704418311769,
            0.11040068016292678,
            0.07614528071902937,
            0.05538324954200339,
            0.0686727424417907,
            0.07815800774726395,
            0.032271590907447814,
            0.028085639221572038,
            0.011013607596309422,
            0.004919035452625004,
            0.006132166183004891,
            0.0021197254478389936
           ]
          }
         ],
         "name": "2004"
        },
        {
         "data": [
          {
           "hovertemplate": "Group: %{x}<br>Share: %{y:.2%}<extra></extra>",
           "type": "bar",
           "x": [
            "20,000 & below",
            "20,001 - 25,000",
            "25,001 - 30,000",
            "30,001 - 40,000",
            "40,001 - 50,000",
            "50,001 - 60,000",
            "60,001 - 70,000",
            "70,001 - 80,000",
            "80,001 - 100,000",
            "100,001 - 150,000",
            "150,001 - 200,000",
            "200,001 - 300,000",
            "300,001 - 400,000",
            "400,001 - 500,000",
            "500,001 - 1,000,000",
            "1,000,001 & above"
           ],
           "y": [
            0,
            0.026706684733258466,
            0.08216951856681763,
            0.2359401652583966,
            0.1702540543751609,
            0.11178137915232231,
            0.07655859714234796,
            0.05623509576896638,
            0.07137199546260753,
            0.0811214487973364,
            0.032722124314370014,
            0.029174811248433553,
            0.011583929031108295,
            0.005277123225282667,
            0.006664648790547288,
            0.0024384241330440417
           ]
          }
         ],
         "name": "2005"
        },
        {
         "data": [
          {
           "hovertemplate": "Group: %{x}<br>Share: %{y:.2%}<extra></extra>",
           "type": "bar",
           "x": [
            "20,000 & below",
            "20,001 - 25,000",
            "25,001 - 30,000",
            "30,001 - 40,000",
            "40,001 - 50,000",
            "50,001 - 60,000",
            "60,001 - 70,000",
            "70,001 - 80,000",
            "80,001 - 100,000",
            "100,001 - 150,000",
            "150,001 - 200,000",
            "200,001 - 300,000",
            "300,001 - 400,000",
            "400,001 - 500,000",
            "500,001 - 1,000,000",
            "1,000,001 & above"
           ],
           "y": [
            0,
            0.02821341858695346,
            0.07872135675660441,
            0.2282614676990515,
            0.167155881788447,
            0.11384418397709749,
            0.07710540337766468,
            0.05674224335667339,
            0.07225620108687629,
            0.08327125871225695,
            0.035085246909354946,
            0.03081182867136152,
            0.012365264518415024,
            0.005688048521550295,
            0.007673094242025257,
            0.0028051017956677955
           ]
          }
         ],
         "name": "2006"
        },
        {
         "data": [
          {
           "hovertemplate": "Group: %{x}<br>Share: %{y:.2%}<extra></extra>",
           "type": "bar",
           "x": [
            "20,000 & below",
            "20,001 - 25,000",
            "25,001 - 30,000",
            "30,001 - 40,000",
            "40,001 - 50,000",
            "50,001 - 60,000",
            "60,001 - 70,000",
            "70,001 - 80,000",
            "80,001 - 100,000",
            "100,001 - 150,000",
            "150,001 - 200,000",
            "200,001 - 300,000",
            "300,001 - 400,000",
            "400,001 - 500,000",
            "500,001 - 1,000,000",
            "1,000,001 & above"
           ],
           "y": [
            0,
            0.02845937614447487,
            0.07556020150033833,
            0.21990288789664011,
            0.16725765024605452,
            0.11328330588614795,
            0.07755992500733677,
            0.05711035708828616,
            0.07438025548923496,
            0.08691581758252952,
            0.03678812147259203,
            0.03197010965130352,
            0.013186775873317697,
            0.005978554814737562,
            0.008342084902754501,
            0.0033045764442514924
           ]
          }
         ],
         "name": "2007"
        },
        {
         "data": [
          {
           "hovertemplate": "Group: %{x}<br>Share: %{y:.2%}<extra></extra>",
           "type": "bar",
           "x": [
            "20,000 & below",
            "20,001 - 25,000",
            "25,001 - 30,000",
            "30,001 - 40,000",
            "40,001 - 50,000",
            "50,001 - 60,000",
            "60,001 - 70,000",
            "70,001 - 80,000",
            "80,001 - 100,000",
            "100,001 - 150,000",
            "150,001 - 200,000",
            "200,001 - 300,000",
            "300,001 - 400,000",
            "400,001 - 500,000",
            "500,001 - 1,000,000",
            "1,000,001 & above"
           ],
           "y": [
            0,
            0.030188651048399406,
            0.07347068612705472,
            0.2064316205331076,
            0.16351892434850648,
            0.11268785846421202,
            0.07848558243996374,
            0.05709381528145011,
            0.07759532626181004,
            0.09151598671660925,
            0.0392844219045718,
            0.03478297070160513,
            0.014617707558317651,
            0.006829567179649214,
            0.009441625774304047,
            0.004055255660438788
           ]
          }
         ],
         "name": "2008"
        },
        {
         "data": [
          {
           "hovertemplate": "Group: %{x}<br>Share: %{y:.2%}<extra></extra>",
           "type": "bar",
           "x": [
            "20,000 & below",
            "20,001 - 25,000",
            "25,001 - 30,000",
            "30,001 - 40,000",
            "40,001 - 50,000",
            "50,001 - 60,000",
            "60,001 - 70,000",
            "70,001 - 80,000",
            "80,001 - 100,000",
            "100,001 - 150,000",
            "150,001 - 200,000",
            "200,001 - 300,000",
            "300,001 - 400,000",
            "400,001 - 500,000",
            "500,001 - 1,000,000",
            "1,000,001 & above"
           ],
           "y": [
            0,
            0.03635466970053565,
            0.07866444660374318,
            0.19215132886391048,
            0.15475173218619231,
            0.1122290636184747,
            0.07863807928749653,
            0.058084267989589794,
            0.07870839213082095,
            0.09610691458454387,
            0.041695516091387164,
            0.03668279630271632,
            0.015765701980966704,
            0.007195347633533367,
            0.009464889965283033,
            0.003506853060805961
           ]
          }
         ],
         "name": "2009"
        },
        {
         "data": [
          {
           "hovertemplate": "Group: %{x}<br>Share: %{y:.2%}<extra></extra>",
           "type": "bar",
           "x": [
            "20,000 & below",
            "20,001 - 25,000",
            "25,001 - 30,000",
            "30,001 - 40,000",
            "40,001 - 50,000",
            "50,001 - 60,000",
            "60,001 - 70,000",
            "70,001 - 80,000",
            "80,001 - 100,000",
            "100,001 - 150,000",
            "150,001 - 200,000",
            "200,001 - 300,000",
            "300,001 - 400,000",
            "400,001 - 500,000",
            "500,001 - 1,000,000",
            "1,000,001 & above"
           ],
           "y": [
            0,
            0.039849766863242264,
            0.08305746275034899,
            0.1984587333694197,
            0.15341728155892995,
            0.11002250648129683,
            0.07532074109949384,
            0.05618073559157859,
            0.07648215150565511,
            0.09569717861789313,
            0.04059903326590885,
            0.03632755002231655,
            0.015611141183062211,
            0.007065325774194467,
            0.009117499026618426,
            0.0027928928900411193
           ]
          }
         ],
         "name": "2010"
        },
        {
         "data": [
          {
           "hovertemplate": "Group: %{x}<br>Share: %{y:.2%}<extra></extra>",
           "type": "bar",
           "x": [
            "20,000 & below",
            "20,001 - 25,000",
            "25,001 - 30,000",
            "30,001 - 40,000",
            "40,001 - 50,000",
            "50,001 - 60,000",
            "60,001 - 70,000",
            "70,001 - 80,000",
            "80,001 - 100,000",
            "100,001 - 150,000",
            "150,001 - 200,000",
            "200,001 - 300,000",
            "300,001 - 400,000",
            "400,001 - 500,000",
            "500,001 - 1,000,000",
            "1,000,001 & above"
           ],
           "y": [
            0,
            0.03904178649047106,
            0.08532911176616219,
            0.19555416207288542,
            0.14979538934277017,
            0.10681472991136251,
            0.07570979809635418,
            0.05704769565653165,
            0.07735113792994151,
            0.09864229671072414,
            0.041724811729925926,
            0.03702009441987289,
            0.015919968406778152,
            0.0072318323983007506,
            0.009501952731811411,
            0.00331523233610802
           ]
          }
         ],
         "name": "2011"
        },
        {
         "data": [
          {
           "hovertemplate": "Group: %{x}<br>Share: %{y:.2%}<extra></extra>",
           "type": "bar",
           "x": [
            "20,000 & below",
            "20,001 - 25,000",
            "25,001 - 30,000",
            "30,001 - 40,000",
            "40,001 - 50,000",
            "50,001 - 60,000",
            "60,001 - 70,000",
            "70,001 - 80,000",
            "80,001 - 100,000",
            "100,001 - 150,000",
            "150,001 - 200,000",
            "200,001 - 300,000",
            "300,001 - 400,000",
            "400,001 - 500,000",
            "500,001 - 1,000,000",
            "1,000,001 & above"
           ],
           "y": [
            0,
            0.043711604232627765,
            0.0863997038109102,
            0.19346838801076746,
            0.14453446219726102,
            0.10528252323730392,
            0.07512967834568601,
            0.05656048889558646,
            0.07729678498676253,
            0.0996119402756731,
            0.04348670859109,
            0.037748044976068505,
            0.016138174658238944,
            0.007519469919442993,
            0.009883933960236308,
            0.003228093902344805
           ]
          }
         ],
         "name": "2012"
        },
        {
         "data": [
          {
           "hovertemplate": "Group: %{x}<br>Share: %{y:.2%}<extra></extra>",
           "type": "bar",
           "x": [
            "20,000 & below",
            "20,001 - 25,000",
            "25,001 - 30,000",
            "30,001 - 40,000",
            "40,001 - 50,000",
            "50,001 - 60,000",
            "60,001 - 70,000",
            "70,001 - 80,000",
            "80,001 - 100,000",
            "100,001 - 150,000",
            "150,001 - 200,000",
            "200,001 - 300,000",
            "300,001 - 400,000",
            "400,001 - 500,000",
            "500,001 - 1,000,000",
            "1,000,001 & above"
           ],
           "y": [
            0,
            0.04688677067278739,
            0.08563454582809407,
            0.19112166061490082,
            0.1463225903016893,
            0.10478744922835573,
            0.07563942442447036,
            0.05629942579414865,
            0.07678247037717692,
            0.09948806508937151,
            0.04308767847296403,
            0.03785889630758738,
            0.01591015475246595,
            0.007511343972109397,
            0.00968235466054218,
            0.0029871695033362963
           ]
          }
         ],
         "name": "2013"
        },
        {
         "data": [
          {
           "hovertemplate": "Group: %{x}<br>Share: %{y:.2%}<extra></extra>",
           "type": "bar",
           "x": [
            "20,000 & below",
            "20,001 - 25,000",
            "25,001 - 30,000",
            "30,001 - 40,000",
            "40,001 - 50,000",
            "50,001 - 60,000",
            "60,001 - 70,000",
            "70,001 - 80,000",
            "80,001 - 100,000",
            "100,001 - 150,000",
            "150,001 - 200,000",
            "200,001 - 300,000",
            "300,001 - 400,000",
            "400,001 - 500,000",
            "500,001 - 1,000,000",
            "1,000,001 & above"
           ],
           "y": [
            0,
            0.046407702017102676,
            0.08801714660007158,
            0.18637431834125506,
            0.1447241777138125,
            0.1049311978460811,
            0.07434392162587804,
            0.05579233906652317,
            0.07786380648837062,
            0.10222071209034264,
            0.04542130741533608,
            0.038335673894198036,
            0.01567637471884201,
            0.007415077690686807,
            0.009532563941237495,
            0.002943680550262199
           ]
          }
         ],
         "name": "2014"
        },
        {
         "data": [
          {
           "hovertemplate": "Group: %{x}<br>Share: %{y:.2%}<extra></extra>",
           "type": "bar",
           "x": [
            "20,000 & below",
            "20,001 - 25,000",
            "25,001 - 30,000",
            "30,001 - 40,000",
            "40,001 - 50,000",
            "50,001 - 60,000",
            "60,001 - 70,000",
            "70,001 - 80,000",
            "80,001 - 100,000",
            "100,001 - 150,000",
            "150,001 - 200,000",
            "200,001 - 300,000",
            "300,001 - 400,000",
            "400,001 - 500,000",
            "500,001 - 1,000,000",
            "1,000,001 & above"
           ],
           "y": [
            0,
            0.04209863250226138,
            0.08701156031516227,
            0.18549916456291726,
            0.14404560104181066,
            0.1070735693897793,
            0.07526148331914667,
            0.05635441447864603,
            0.07785934101110925,
            0.10228950986882789,
            0.04616365836564741,
            0.03925826767452632,
            0.016000014550428147,
            0.007807517236194675,
            0.010160442721027067,
            0.003116822962515672
           ]
          }
         ],
         "name": "2015"
        },
        {
         "data": [
          {
           "hovertemplate": "Group: %{x}<br>Share: %{y:.2%}<extra></extra>",
           "type": "bar",
           "x": [
            "20,000 & below",
            "20,001 - 25,000",
            "25,001 - 30,000",
            "30,001 - 40,000",
            "40,001 - 50,000",
            "50,001 - 60,000",
            "60,001 - 70,000",
            "70,001 - 80,000",
            "80,001 - 100,000",
            "100,001 - 150,000",
            "150,001 - 200,000",
            "200,001 - 300,000",
            "300,001 - 400,000",
            "400,001 - 500,000",
            "500,001 - 1,000,000",
            "1,000,001 & above"
           ],
           "y": [
            0,
            0.04010878802938272,
            0.0820463303710329,
            0.1863188812952741,
            0.140703581546764,
            0.1072763131479972,
            0.07577499321665793,
            0.05730116129659317,
            0.07992541505664741,
            0.10517217539610957,
            0.04757075358446838,
            0.04028524170392925,
            0.01624183757121063,
            0.007824708027022289,
            0.010270760931883675,
            0.0031790588250268006
           ]
          }
         ],
         "name": "2016"
        },
        {
         "data": [
          {
           "hovertemplate": "Group: %{x}<br>Share: %{y:.2%}<extra></extra>",
           "type": "bar",
           "x": [
            "20,000 & below",
            "20,001 - 25,000",
            "25,001 - 30,000",
            "30,001 - 40,000",
            "40,001 - 50,000",
            "50,001 - 60,000",
            "60,001 - 70,000",
            "70,001 - 80,000",
            "80,001 - 100,000",
            "100,001 - 150,000",
            "150,001 - 200,000",
            "200,001 - 300,000",
            "300,001 - 400,000",
            "400,001 - 500,000",
            "500,001 - 1,000,000",
            "1,000,001 & above"
           ],
           "y": [
            0,
            0.040608413818326236,
            0.07854060112164798,
            0.18677828548734696,
            0.13952614355254345,
            0.10605564262531594,
            0.07641914048871004,
            0.057947512079760635,
            0.08037598430276194,
            0.10612856432872206,
            0.049186249883605745,
            0.040865322588787785,
            0.016562762588249284,
            0.00792715009642493,
            0.01015462766739177,
            0.0029235993704052315
           ]
          }
         ],
         "name": "2017"
        },
        {
         "data": [
          {
           "hovertemplate": "Group: %{x}<br>Share: %{y:.2%}<extra></extra>",
           "type": "bar",
           "x": [
            "20,000 & below",
            "20,001 - 25,000",
            "25,001 - 30,000",
            "30,001 - 40,000",
            "40,001 - 50,000",
            "50,001 - 60,000",
            "60,001 - 70,000",
            "70,001 - 80,000",
            "80,001 - 100,000",
            "100,001 - 150,000",
            "150,001 - 200,000",
            "200,001 - 300,000",
            "300,001 - 400,000",
            "400,001 - 500,000",
            "500,001 - 1,000,000",
            "1,000,001 & above"
           ],
           "y": [
            0,
            0.03857088412964723,
            0.07477023931032369,
            0.18416556787468077,
            0.13779180045645498,
            0.1033830016514734,
            0.07746866800127912,
            0.05904838773266281,
            0.0821471125498837,
            0.11028732132766196,
            0.05177391022467923,
            0.0426672609634617,
            0.016812612525790582,
            0.007966059374192333,
            0.010100490185341749,
            0.0030466836924667407
           ]
          }
         ],
         "name": "2018"
        },
        {
         "data": [
          {
           "hovertemplate": "Group: %{x}<br>Share: %{y:.2%}<extra></extra>",
           "type": "bar",
           "x": [
            "20,000 & below",
            "20,001 - 25,000",
            "25,001 - 30,000",
            "30,001 - 40,000",
            "40,001 - 50,000",
            "50,001 - 60,000",
            "60,001 - 70,000",
            "70,001 - 80,000",
            "80,001 - 100,000",
            "100,001 - 150,000",
            "150,001 - 200,000",
            "200,001 - 300,000",
            "300,001 - 400,000",
            "400,001 - 500,000",
            "500,001 - 1,000,000",
            "1,000,001 & above"
           ],
           "y": [
            0,
            0.0379491200215585,
            0.07194301849819347,
            0.1820473470149907,
            0.13563874228623052,
            0.10033616200281895,
            0.07577463936983815,
            0.06045133873321511,
            0.08476353811966773,
            0.11352270936919627,
            0.053781676651090154,
            0.044231004884083255,
            0.017561374630457857,
            0.00831307360924045,
            0.010586158952587736,
            0.0031000958568311652
           ]
          }
         ],
         "name": "2019"
        },
        {
         "data": [
          {
           "hovertemplate": "Group: %{x}<br>Share: %{y:.2%}<extra></extra>",
           "type": "bar",
           "x": [
            "20,000 & below",
            "20,001 - 25,000",
            "25,001 - 30,000",
            "30,001 - 40,000",
            "40,001 - 50,000",
            "50,001 - 60,000",
            "60,001 - 70,000",
            "70,001 - 80,000",
            "80,001 - 100,000",
            "100,001 - 150,000",
            "150,001 - 200,000",
            "200,001 - 300,000",
            "300,001 - 400,000",
            "400,001 - 500,000",
            "500,001 - 1,000,000",
            "1,000,001 & above"
           ],
           "y": [
            0,
            0.037119976931347755,
            0.06961344158012088,
            0.1815209461010552,
            0.134041549137712,
            0.09972079363935087,
            0.07474458063061475,
            0.060740804365865146,
            0.08696912573795913,
            0.11654833245649959,
            0.05361365426982245,
            0.04501812719559937,
            0.017952851396875403,
            0.008609842727213698,
            0.010694815330632788,
            0.003091158499330999
           ]
          }
         ],
         "name": "2020"
        },
        {
         "data": [
          {
           "hovertemplate": "Group: %{x}<br>Share: %{y:.2%}<extra></extra>",
           "type": "bar",
           "x": [
            "20,000 & below",
            "20,001 - 25,000",
            "25,001 - 30,000",
            "30,001 - 40,000",
            "40,001 - 50,000",
            "50,001 - 60,000",
            "60,001 - 70,000",
            "70,001 - 80,000",
            "80,001 - 100,000",
            "100,001 - 150,000",
            "150,001 - 200,000",
            "200,001 - 300,000",
            "300,001 - 400,000",
            "400,001 - 500,000",
            "500,001 - 1,000,000",
            "1,000,001 & above"
           ],
           "y": [
            0,
            0.03342164148151881,
            0.06448909903638064,
            0.1762052067156194,
            0.13113444994314047,
            0.09798634321313555,
            0.07449858087440818,
            0.062392699299730035,
            0.09081983772721497,
            0.12262127144832713,
            0.056357609148766155,
            0.047476392533393814,
            0.018630814188525822,
            0.009063398110142626,
            0.011475859114377427,
            0.0034267971653189435
           ]
          }
         ],
         "name": "2021"
        },
        {
         "data": [
          {
           "hovertemplate": "Group: %{x}<br>Share: %{y:.2%}<extra></extra>",
           "type": "bar",
           "x": [
            "20,000 & below",
            "20,001 - 25,000",
            "25,001 - 30,000",
            "30,001 - 40,000",
            "40,001 - 50,000",
            "50,001 - 60,000",
            "60,001 - 70,000",
            "70,001 - 80,000",
            "80,001 - 100,000",
            "100,001 - 150,000",
            "150,001 - 200,000",
            "200,001 - 300,000",
            "300,001 - 400,000",
            "400,001 - 500,000",
            "500,001 - 1,000,000",
            "1,000,001 & above"
           ],
           "y": [
            0,
            0.02816512853625893,
            0.05721585235547355,
            0.17233674210885624,
            0.1324164856660506,
            0.09936708924021723,
            0.07434302523746648,
            0.061011117919110965,
            0.09223434890255153,
            0.1267445777279783,
            0.06020148792002055,
            0.05019306177077076,
            0.01969300029886342,
            0.009551634902849397,
            0.01242632117122475,
            0.004100126242307265
           ]
          }
         ],
         "name": "2022"
        },
        {
         "data": [
          {
           "hovertemplate": "Group: %{x}<br>Share: %{y:.2%}<extra></extra>",
           "type": "bar",
           "x": [
            "20,000 & below",
            "20,001 - 25,000",
            "25,001 - 30,000",
            "30,001 - 40,000",
            "40,001 - 50,000",
            "50,001 - 60,000",
            "60,001 - 70,000",
            "70,001 - 80,000",
            "80,001 - 100,000",
            "100,001 - 150,000",
            "150,001 - 200,000",
            "200,001 - 300,000",
            "300,001 - 400,000",
            "400,001 - 500,000",
            "500,001 - 1,000,000",
            "1,000,001 & above"
           ],
           "y": [
            0,
            0.02737139348151732,
            0.05290614910819788,
            0.16196233682858976,
            0.13142846509550704,
            0.09914681007452619,
            0.07485415755635985,
            0.06093329859786563,
            0.09254133365587697,
            0.1322346690981494,
            0.06400273541808167,
            0.0541780254747439,
            0.021217633212069334,
            0.010203388568929744,
            0.012903916113845495,
            0.004115687715739819
           ]
          }
         ],
         "name": "2023"
        }
       ],
       "layout": {
        "margin": {
         "b": 160,
         "l": 40,
         "r": 20,
         "t": 70
        },
        "sliders": [
         {
          "active": 19,
          "currentvalue": {
           "prefix": "Year: "
          },
          "len": 1,
          "pad": {
           "b": 10,
           "t": 10
          },
          "steps": [
           {
            "args": [
             [
              "2004"
             ],
             {
              "frame": {
               "duration": 0,
               "redraw": true
              },
              "mode": "immediate",
              "transition": {
               "duration": 200
              }
             }
            ],
            "label": "2004",
            "method": "animate"
           },
           {
            "args": [
             [
              "2005"
             ],
             {
              "frame": {
               "duration": 0,
               "redraw": true
              },
              "mode": "immediate",
              "transition": {
               "duration": 200
              }
             }
            ],
            "label": "2005",
            "method": "animate"
           },
           {
            "args": [
             [
              "2006"
             ],
             {
              "frame": {
               "duration": 0,
               "redraw": true
              },
              "mode": "immediate",
              "transition": {
               "duration": 200
              }
             }
            ],
            "label": "2006",
            "method": "animate"
           },
           {
            "args": [
             [
              "2007"
             ],
             {
              "frame": {
               "duration": 0,
               "redraw": true
              },
              "mode": "immediate",
              "transition": {
               "duration": 200
              }
             }
            ],
            "label": "2007",
            "method": "animate"
           },
           {
            "args": [
             [
              "2008"
             ],
             {
              "frame": {
               "duration": 0,
               "redraw": true
              },
              "mode": "immediate",
              "transition": {
               "duration": 200
              }
             }
            ],
            "label": "2008",
            "method": "animate"
           },
           {
            "args": [
             [
              "2009"
             ],
             {
              "frame": {
               "duration": 0,
               "redraw": true
              },
              "mode": "immediate",
              "transition": {
               "duration": 200
              }
             }
            ],
            "label": "2009",
            "method": "animate"
           },
           {
            "args": [
             [
              "2010"
             ],
             {
              "frame": {
               "duration": 0,
               "redraw": true
              },
              "mode": "immediate",
              "transition": {
               "duration": 200
              }
             }
            ],
            "label": "2010",
            "method": "animate"
           },
           {
            "args": [
             [
              "2011"
             ],
             {
              "frame": {
               "duration": 0,
               "redraw": true
              },
              "mode": "immediate",
              "transition": {
               "duration": 200
              }
             }
            ],
            "label": "2011",
            "method": "animate"
           },
           {
            "args": [
             [
              "2012"
             ],
             {
              "frame": {
               "duration": 0,
               "redraw": true
              },
              "mode": "immediate",
              "transition": {
               "duration": 200
              }
             }
            ],
            "label": "2012",
            "method": "animate"
           },
           {
            "args": [
             [
              "2013"
             ],
             {
              "frame": {
               "duration": 0,
               "redraw": true
              },
              "mode": "immediate",
              "transition": {
               "duration": 200
              }
             }
            ],
            "label": "2013",
            "method": "animate"
           },
           {
            "args": [
             [
              "2014"
             ],
             {
              "frame": {
               "duration": 0,
               "redraw": true
              },
              "mode": "immediate",
              "transition": {
               "duration": 200
              }
             }
            ],
            "label": "2014",
            "method": "animate"
           },
           {
            "args": [
             [
              "2015"
             ],
             {
              "frame": {
               "duration": 0,
               "redraw": true
              },
              "mode": "immediate",
              "transition": {
               "duration": 200
              }
             }
            ],
            "label": "2015",
            "method": "animate"
           },
           {
            "args": [
             [
              "2016"
             ],
             {
              "frame": {
               "duration": 0,
               "redraw": true
              },
              "mode": "immediate",
              "transition": {
               "duration": 200
              }
             }
            ],
            "label": "2016",
            "method": "animate"
           },
           {
            "args": [
             [
              "2017"
             ],
             {
              "frame": {
               "duration": 0,
               "redraw": true
              },
              "mode": "immediate",
              "transition": {
               "duration": 200
              }
             }
            ],
            "label": "2017",
            "method": "animate"
           },
           {
            "args": [
             [
              "2018"
             ],
             {
              "frame": {
               "duration": 0,
               "redraw": true
              },
              "mode": "immediate",
              "transition": {
               "duration": 200
              }
             }
            ],
            "label": "2018",
            "method": "animate"
           },
           {
            "args": [
             [
              "2019"
             ],
             {
              "frame": {
               "duration": 0,
               "redraw": true
              },
              "mode": "immediate",
              "transition": {
               "duration": 200
              }
             }
            ],
            "label": "2019",
            "method": "animate"
           },
           {
            "args": [
             [
              "2020"
             ],
             {
              "frame": {
               "duration": 0,
               "redraw": true
              },
              "mode": "immediate",
              "transition": {
               "duration": 200
              }
             }
            ],
            "label": "2020",
            "method": "animate"
           },
           {
            "args": [
             [
              "2021"
             ],
             {
              "frame": {
               "duration": 0,
               "redraw": true
              },
              "mode": "immediate",
              "transition": {
               "duration": 200
              }
             }
            ],
            "label": "2021",
            "method": "animate"
           },
           {
            "args": [
             [
              "2022"
             ],
             {
              "frame": {
               "duration": 0,
               "redraw": true
              },
              "mode": "immediate",
              "transition": {
               "duration": 200
              }
             }
            ],
            "label": "2022",
            "method": "animate"
           },
           {
            "args": [
             [
              "2023"
             ],
             {
              "frame": {
               "duration": 0,
               "redraw": true
              },
              "mode": "immediate",
              "transition": {
               "duration": 200
              }
             }
            ],
            "label": "2023",
            "method": "animate"
           }
          ],
          "x": 0,
          "xanchor": "left",
          "y": -0.4,
          "yanchor": "top"
         }
        ],
        "template": {
         "data": {
          "bar": [
           {
            "error_x": {
             "color": "#2a3f5f"
            },
            "error_y": {
             "color": "#2a3f5f"
            },
            "marker": {
             "line": {
              "color": "#E5ECF6",
              "width": 0.5
             },
             "pattern": {
              "fillmode": "overlay",
              "size": 10,
              "solidity": 0.2
             }
            },
            "type": "bar"
           }
          ],
          "barpolar": [
           {
            "marker": {
             "line": {
              "color": "#E5ECF6",
              "width": 0.5
             },
             "pattern": {
              "fillmode": "overlay",
              "size": 10,
              "solidity": 0.2
             }
            },
            "type": "barpolar"
           }
          ],
          "carpet": [
           {
            "aaxis": {
             "endlinecolor": "#2a3f5f",
             "gridcolor": "white",
             "linecolor": "white",
             "minorgridcolor": "white",
             "startlinecolor": "#2a3f5f"
            },
            "baxis": {
             "endlinecolor": "#2a3f5f",
             "gridcolor": "white",
             "linecolor": "white",
             "minorgridcolor": "white",
             "startlinecolor": "#2a3f5f"
            },
            "type": "carpet"
           }
          ],
          "choropleth": [
           {
            "colorbar": {
             "outlinewidth": 0,
             "ticks": ""
            },
            "type": "choropleth"
           }
          ],
          "contour": [
           {
            "colorbar": {
             "outlinewidth": 0,
             "ticks": ""
            },
            "colorscale": [
             [
              0,
              "#0d0887"
             ],
             [
              0.1111111111111111,
              "#46039f"
             ],
             [
              0.2222222222222222,
              "#7201a8"
             ],
             [
              0.3333333333333333,
              "#9c179e"
             ],
             [
              0.4444444444444444,
              "#bd3786"
             ],
             [
              0.5555555555555556,
              "#d8576b"
             ],
             [
              0.6666666666666666,
              "#ed7953"
             ],
             [
              0.7777777777777778,
              "#fb9f3a"
             ],
             [
              0.8888888888888888,
              "#fdca26"
             ],
             [
              1,
              "#f0f921"
             ]
            ],
            "type": "contour"
           }
          ],
          "contourcarpet": [
           {
            "colorbar": {
             "outlinewidth": 0,
             "ticks": ""
            },
            "type": "contourcarpet"
           }
          ],
          "heatmap": [
           {
            "colorbar": {
             "outlinewidth": 0,
             "ticks": ""
            },
            "colorscale": [
             [
              0,
              "#0d0887"
             ],
             [
              0.1111111111111111,
              "#46039f"
             ],
             [
              0.2222222222222222,
              "#7201a8"
             ],
             [
              0.3333333333333333,
              "#9c179e"
             ],
             [
              0.4444444444444444,
              "#bd3786"
             ],
             [
              0.5555555555555556,
              "#d8576b"
             ],
             [
              0.6666666666666666,
              "#ed7953"
             ],
             [
              0.7777777777777778,
              "#fb9f3a"
             ],
             [
              0.8888888888888888,
              "#fdca26"
             ],
             [
              1,
              "#f0f921"
             ]
            ],
            "type": "heatmap"
           }
          ],
          "heatmapgl": [
           {
            "colorbar": {
             "outlinewidth": 0,
             "ticks": ""
            },
            "colorscale": [
             [
              0,
              "#0d0887"
             ],
             [
              0.1111111111111111,
              "#46039f"
             ],
             [
              0.2222222222222222,
              "#7201a8"
             ],
             [
              0.3333333333333333,
              "#9c179e"
             ],
             [
              0.4444444444444444,
              "#bd3786"
             ],
             [
              0.5555555555555556,
              "#d8576b"
             ],
             [
              0.6666666666666666,
              "#ed7953"
             ],
             [
              0.7777777777777778,
              "#fb9f3a"
             ],
             [
              0.8888888888888888,
              "#fdca26"
             ],
             [
              1,
              "#f0f921"
             ]
            ],
            "type": "heatmapgl"
           }
          ],
          "histogram": [
           {
            "marker": {
             "pattern": {
              "fillmode": "overlay",
              "size": 10,
              "solidity": 0.2
             }
            },
            "type": "histogram"
           }
          ],
          "histogram2d": [
           {
            "colorbar": {
             "outlinewidth": 0,
             "ticks": ""
            },
            "colorscale": [
             [
              0,
              "#0d0887"
             ],
             [
              0.1111111111111111,
              "#46039f"
             ],
             [
              0.2222222222222222,
              "#7201a8"
             ],
             [
              0.3333333333333333,
              "#9c179e"
             ],
             [
              0.4444444444444444,
              "#bd3786"
             ],
             [
              0.5555555555555556,
              "#d8576b"
             ],
             [
              0.6666666666666666,
              "#ed7953"
             ],
             [
              0.7777777777777778,
              "#fb9f3a"
             ],
             [
              0.8888888888888888,
              "#fdca26"
             ],
             [
              1,
              "#f0f921"
             ]
            ],
            "type": "histogram2d"
           }
          ],
          "histogram2dcontour": [
           {
            "colorbar": {
             "outlinewidth": 0,
             "ticks": ""
            },
            "colorscale": [
             [
              0,
              "#0d0887"
             ],
             [
              0.1111111111111111,
              "#46039f"
             ],
             [
              0.2222222222222222,
              "#7201a8"
             ],
             [
              0.3333333333333333,
              "#9c179e"
             ],
             [
              0.4444444444444444,
              "#bd3786"
             ],
             [
              0.5555555555555556,
              "#d8576b"
             ],
             [
              0.6666666666666666,
              "#ed7953"
             ],
             [
              0.7777777777777778,
              "#fb9f3a"
             ],
             [
              0.8888888888888888,
              "#fdca26"
             ],
             [
              1,
              "#f0f921"
             ]
            ],
            "type": "histogram2dcontour"
           }
          ],
          "mesh3d": [
           {
            "colorbar": {
             "outlinewidth": 0,
             "ticks": ""
            },
            "type": "mesh3d"
           }
          ],
          "parcoords": [
           {
            "line": {
             "colorbar": {
              "outlinewidth": 0,
              "ticks": ""
             }
            },
            "type": "parcoords"
           }
          ],
          "pie": [
           {
            "automargin": true,
            "type": "pie"
           }
          ],
          "scatter": [
           {
            "fillpattern": {
             "fillmode": "overlay",
             "size": 10,
             "solidity": 0.2
            },
            "type": "scatter"
           }
          ],
          "scatter3d": [
           {
            "line": {
             "colorbar": {
              "outlinewidth": 0,
              "ticks": ""
             }
            },
            "marker": {
             "colorbar": {
              "outlinewidth": 0,
              "ticks": ""
             }
            },
            "type": "scatter3d"
           }
          ],
          "scattercarpet": [
           {
            "marker": {
             "colorbar": {
              "outlinewidth": 0,
              "ticks": ""
             }
            },
            "type": "scattercarpet"
           }
          ],
          "scattergeo": [
           {
            "marker": {
             "colorbar": {
              "outlinewidth": 0,
              "ticks": ""
             }
            },
            "type": "scattergeo"
           }
          ],
          "scattergl": [
           {
            "marker": {
             "colorbar": {
              "outlinewidth": 0,
              "ticks": ""
             }
            },
            "type": "scattergl"
           }
          ],
          "scattermapbox": [
           {
            "marker": {
             "colorbar": {
              "outlinewidth": 0,
              "ticks": ""
             }
            },
            "type": "scattermapbox"
           }
          ],
          "scatterpolar": [
           {
            "marker": {
             "colorbar": {
              "outlinewidth": 0,
              "ticks": ""
             }
            },
            "type": "scatterpolar"
           }
          ],
          "scatterpolargl": [
           {
            "marker": {
             "colorbar": {
              "outlinewidth": 0,
              "ticks": ""
             }
            },
            "type": "scatterpolargl"
           }
          ],
          "scatterternary": [
           {
            "marker": {
             "colorbar": {
              "outlinewidth": 0,
              "ticks": ""
             }
            },
            "type": "scatterternary"
           }
          ],
          "surface": [
           {
            "colorbar": {
             "outlinewidth": 0,
             "ticks": ""
            },
            "colorscale": [
             [
              0,
              "#0d0887"
             ],
             [
              0.1111111111111111,
              "#46039f"
             ],
             [
              0.2222222222222222,
              "#7201a8"
             ],
             [
              0.3333333333333333,
              "#9c179e"
             ],
             [
              0.4444444444444444,
              "#bd3786"
             ],
             [
              0.5555555555555556,
              "#d8576b"
             ],
             [
              0.6666666666666666,
              "#ed7953"
             ],
             [
              0.7777777777777778,
              "#fb9f3a"
             ],
             [
              0.8888888888888888,
              "#fdca26"
             ],
             [
              1,
              "#f0f921"
             ]
            ],
            "type": "surface"
           }
          ],
          "table": [
           {
            "cells": {
             "fill": {
              "color": "#EBF0F8"
             },
             "line": {
              "color": "white"
             }
            },
            "header": {
             "fill": {
              "color": "#C8D4E3"
             },
             "line": {
              "color": "white"
             }
            },
            "type": "table"
           }
          ]
         },
         "layout": {
          "annotationdefaults": {
           "arrowcolor": "#2a3f5f",
           "arrowhead": 0,
           "arrowwidth": 1
          },
          "autotypenumbers": "strict",
          "coloraxis": {
           "colorbar": {
            "outlinewidth": 0,
            "ticks": ""
           }
          },
          "colorscale": {
           "diverging": [
            [
             0,
             "#8e0152"
            ],
            [
             0.1,
             "#c51b7d"
            ],
            [
             0.2,
             "#de77ae"
            ],
            [
             0.3,
             "#f1b6da"
            ],
            [
             0.4,
             "#fde0ef"
            ],
            [
             0.5,
             "#f7f7f7"
            ],
            [
             0.6,
             "#e6f5d0"
            ],
            [
             0.7,
             "#b8e186"
            ],
            [
             0.8,
             "#7fbc41"
            ],
            [
             0.9,
             "#4d9221"
            ],
            [
             1,
             "#276419"
            ]
           ],
           "sequential": [
            [
             0,
             "#0d0887"
            ],
            [
             0.1111111111111111,
             "#46039f"
            ],
            [
             0.2222222222222222,
             "#7201a8"
            ],
            [
             0.3333333333333333,
             "#9c179e"
            ],
            [
             0.4444444444444444,
             "#bd3786"
            ],
            [
             0.5555555555555556,
             "#d8576b"
            ],
            [
             0.6666666666666666,
             "#ed7953"
            ],
            [
             0.7777777777777778,
             "#fb9f3a"
            ],
            [
             0.8888888888888888,
             "#fdca26"
            ],
            [
             1,
             "#f0f921"
            ]
           ],
           "sequentialminus": [
            [
             0,
             "#0d0887"
            ],
            [
             0.1111111111111111,
             "#46039f"
            ],
            [
             0.2222222222222222,
             "#7201a8"
            ],
            [
             0.3333333333333333,
             "#9c179e"
            ],
            [
             0.4444444444444444,
             "#bd3786"
            ],
            [
             0.5555555555555556,
             "#d8576b"
            ],
            [
             0.6666666666666666,
             "#ed7953"
            ],
            [
             0.7777777777777778,
             "#fb9f3a"
            ],
            [
             0.8888888888888888,
             "#fdca26"
            ],
            [
             1,
             "#f0f921"
            ]
           ]
          },
          "colorway": [
           "#636efa",
           "#EF553B",
           "#00cc96",
           "#ab63fa",
           "#FFA15A",
           "#19d3f3",
           "#FF6692",
           "#B6E880",
           "#FF97FF",
           "#FECB52"
          ],
          "font": {
           "color": "#2a3f5f"
          },
          "geo": {
           "bgcolor": "white",
           "lakecolor": "white",
           "landcolor": "#E5ECF6",
           "showlakes": true,
           "showland": true,
           "subunitcolor": "white"
          },
          "hoverlabel": {
           "align": "left"
          },
          "hovermode": "closest",
          "mapbox": {
           "style": "light"
          },
          "paper_bgcolor": "white",
          "plot_bgcolor": "#E5ECF6",
          "polar": {
           "angularaxis": {
            "gridcolor": "white",
            "linecolor": "white",
            "ticks": ""
           },
           "bgcolor": "#E5ECF6",
           "radialaxis": {
            "gridcolor": "white",
            "linecolor": "white",
            "ticks": ""
           }
          },
          "scene": {
           "xaxis": {
            "backgroundcolor": "#E5ECF6",
            "gridcolor": "white",
            "gridwidth": 2,
            "linecolor": "white",
            "showbackground": true,
            "ticks": "",
            "zerolinecolor": "white"
           },
           "yaxis": {
            "backgroundcolor": "#E5ECF6",
            "gridcolor": "white",
            "gridwidth": 2,
            "linecolor": "white",
            "showbackground": true,
            "ticks": "",
            "zerolinecolor": "white"
           },
           "zaxis": {
            "backgroundcolor": "#E5ECF6",
            "gridcolor": "white",
            "gridwidth": 2,
            "linecolor": "white",
            "showbackground": true,
            "ticks": "",
            "zerolinecolor": "white"
           }
          },
          "shapedefaults": {
           "line": {
            "color": "#2a3f5f"
           }
          },
          "ternary": {
           "aaxis": {
            "gridcolor": "white",
            "linecolor": "white",
            "ticks": ""
           },
           "baxis": {
            "gridcolor": "white",
            "linecolor": "white",
            "ticks": ""
           },
           "bgcolor": "#E5ECF6",
           "caxis": {
            "gridcolor": "white",
            "linecolor": "white",
            "ticks": ""
           }
          },
          "title": {
           "x": 0.05
          },
          "xaxis": {
           "automargin": true,
           "gridcolor": "white",
           "linecolor": "white",
           "ticks": "",
           "title": {
            "standoff": 15
           },
           "zerolinecolor": "white",
           "zerolinewidth": 2
          },
          "yaxis": {
           "automargin": true,
           "gridcolor": "white",
           "linecolor": "white",
           "ticks": "",
           "title": {
            "standoff": 15
           },
           "zerolinecolor": "white",
           "zerolinewidth": 2
          }
         }
        },
        "title": {
         "text": "Evolution of Tax Resident Income Distribution"
        },
        "updatemenus": [
         {
          "buttons": [
           {
            "args": [
             null,
             {
              "frame": {
               "duration": 800,
               "redraw": true
              },
              "fromcurrent": true,
              "transition": {
               "duration": 300
              }
             }
            ],
            "label": "▶ Play",
            "method": "animate"
           },
           {
            "args": [
             [
              null
             ],
             {
              "frame": {
               "duration": 0,
               "redraw": false
              },
              "mode": "immediate",
              "transition": {
               "duration": 0
              }
             }
            ],
            "label": "⏸ Pause",
            "method": "animate"
           }
          ],
          "showactive": false,
          "type": "buttons",
          "x": 1,
          "xanchor": "right",
          "y": 1.15,
          "yanchor": "top"
         }
        ],
        "xaxis": {
         "automargin": true,
         "categoryarray": [
          "20,000 & below",
          "20,001 - 25,000",
          "25,001 - 30,000",
          "30,001 - 40,000",
          "40,001 - 50,000",
          "50,001 - 60,000",
          "60,001 - 70,000",
          "70,001 - 80,000",
          "80,001 - 100,000",
          "100,001 - 150,000",
          "150,001 - 200,000",
          "200,001 - 300,000",
          "300,001 - 400,000",
          "400,001 - 500,000",
          "500,001 - 1,000,000",
          "1,000,001 & above"
         ],
         "categoryorder": "array",
         "tickangle": -35,
         "title": {
          "text": "Assessed income group (SGD)"
         }
        },
        "yaxis": {
         "rangemode": "tozero",
         "tickformat": ".0%",
         "title": {
          "text": "Share of taxpayers"
         }
        }
       }
      }
     },
     "metadata": {},
     "output_type": "display_data"
    }
   ],
   "source": [
    "# --- 1) Filter to Tax Residents\n",
    "df = income_table.copy()\n",
    "df = df[df[\"resident_type\"] == \"Tax Resident\"].copy()\n",
    "\n",
    "# Ensure numeric\n",
    "for c in [\"number_of_taxpayers\", \"assessable_income\", \"chargeable_income\", \"net_tax_assessed\"]:\n",
    "    if c in df.columns:\n",
    "        df[c] = pd.to_numeric(df[c], errors=\"coerce\")\n",
    "\n",
    "# --- 2) Parse and order income bins\n",
    "# Supported examples:\n",
    "# \"20,000 & below\", \"20,001 - 25,000\", ..., \"1,000,001 & above\"\n",
    "def parse_bin_bounds(label: str):\n",
    "    s = label.replace(\",\", \"\").strip()\n",
    "    m = re.match(r\"^(\\d+)\\s*&\\s*below$\", s, flags=re.I)\n",
    "    if m:\n",
    "        upper = int(m.group(1))\n",
    "        lower = 0\n",
    "        return lower, upper, True, False  # (lo, hi, is_below, is_above)\n",
    "    m = re.match(r\"^(\\d+)\\s*&\\s*above$\", s, flags=re.I)\n",
    "    if m:\n",
    "        lower = int(m.group(1))\n",
    "        upper = math.inf\n",
    "        return lower, upper, False, True\n",
    "    m = re.match(r\"^(\\d+)\\s*-\\s*(\\d+)$\", s)\n",
    "    if m:\n",
    "        return int(m.group(1)), int(m.group(2)), False, False\n",
    "    raise ValueError(f\"Unrecognized bin label: {label!r}\")\n",
    "\n",
    "bin_info = []\n",
    "for lbl in df[\"assessed_income_group\"].dropna().unique():\n",
    "    lo, hi, is_below, is_above = parse_bin_bounds(lbl)\n",
    "    bin_info.append((lbl, lo, hi, is_below, is_above))\n",
    "bin_info = sorted(bin_info, key=lambda x: (x[1], float(\"inf\") if x[2] == math.inf else x[2]))\n",
    "ordered_labels = [x[0] for x in bin_info]\n",
    "\n",
    "# Categorical order for plotting\n",
    "df[\"assessed_income_group\"] = pd.Categorical(\n",
    "    df[\"assessed_income_group\"],\n",
    "    categories=ordered_labels,\n",
    "    ordered=True\n",
    ")\n",
    "\n",
    "# --- 3) Build distributions: shares per year/bin\n",
    "dist = (\n",
    "    df.groupby([\"year_of_assessment\", \"assessed_income_group\"], observed=True)[\"number_of_taxpayers\"]\n",
    "      .sum()\n",
    "      .reset_index()\n",
    "      .sort_values([\"year_of_assessment\", \"assessed_income_group\"])\n",
    ")\n",
    "# Normalize to shares within each year (0..1)\n",
    "dist[\"share_of_taxpayers\"] = dist.groupby(\"year_of_assessment\")[\"number_of_taxpayers\"].transform(\n",
    "    lambda x: x / x.sum()\n",
    ")\n",
    "\n",
    "# ==============================\n",
    "# Helper: Top-percent function\n",
    "# ==============================\n",
    "# Compute \"what top-percent are you in this year?\" given annual income in SGD.\n",
    "# Method:\n",
    "#  - locate income bin by bounds\n",
    "#  - assume uniform distribution within the bin for interpolation\n",
    "#  - compute CDF at income; top% = 100 * (1 - CDF)\n",
    "bin_bounds_map = {lbl: (lo, hi) for (lbl, lo, hi, *_ ) in bin_info}\n",
    "\n",
    "def income_top_percent(year: int, income_sgd: float) -> str:\n",
    "    if year not in dist[\"year_of_assessment\"].unique():\n",
    "        return f\"No data for year {year}.\"\n",
    "\n",
    "    dsub = dist[dist[\"year_of_assessment\"] == year].copy()\n",
    "    if dsub.empty:\n",
    "        return f\"No data for year {year}.\"\n",
    "\n",
    "    # Ensure correct order\n",
    "    dsub = dsub.sort_values(\"assessed_income_group\")\n",
    "    labels = dsub[\"assessed_income_group\"].astype(str).tolist()\n",
    "    weights = dsub[\"share_of_taxpayers\"].values  # sums to 1.0\n",
    "\n",
    "    # Find the bin that contains the income\n",
    "    target_idx = None\n",
    "    for i, lbl in enumerate(labels):\n",
    "        lo, hi = bin_bounds_map[lbl]\n",
    "        if (income_sgd <= hi if hi != math.inf else True) and income_sgd >= lo:\n",
    "            target_idx = i\n",
    "            break\n",
    "\n",
    "    if target_idx is None:\n",
    "        # If income is below the lowest \"below\" boundary, or any odd gap\n",
    "        if income_sgd < bin_bounds_map[labels[0]][0]:\n",
    "            target_idx = 0\n",
    "        else:\n",
    "            target_idx = len(labels) - 1\n",
    "\n",
    "    # CDF up to the start of the target bin\n",
    "    cdf_before = weights[:target_idx].sum()\n",
    "\n",
    "    # Within-bin interpolation\n",
    "    lo, hi = bin_bounds_map[labels[target_idx]]\n",
    "    w = weights[target_idx]\n",
    "\n",
    "    if hi == math.inf:\n",
    "        # For open-ended top bin, assume an effective width equal to the span of the previous finite bin\n",
    "        # (fallback if it's the only bin: use 0.25 * lo)\n",
    "        if target_idx > 0:\n",
    "            prev_lo, prev_hi = bin_bounds_map[labels[target_idx - 1]]\n",
    "            eff_width = max(prev_hi - prev_lo, 1.0)\n",
    "        else:\n",
    "            eff_width = max(0.25 * lo, 1.0)\n",
    "        frac_in_bin = min(max((income_sgd - lo) / eff_width, 0.0), 1.0)\n",
    "    else:\n",
    "        width = max(hi - lo, 1.0)\n",
    "        frac_in_bin = min(max((income_sgd - lo) / width, 0.0), 1.0)\n",
    "\n",
    "    cdf_at_income = cdf_before + w * frac_in_bin\n",
    "    top_percent = max(0.0, 1.0 - cdf_at_income) * 100.0\n",
    "\n",
    "    return print(\n",
    "        f\"With an annual income of S$ {income_sgd:,.0f} in {int(year)}, \"\n",
    "        f\"you belong to the top {top_percent:.1f}% earners.\"\n",
    "    )\n",
    "\n",
    "# ==============================\n",
    "# Helper: Income needed to be in the top NN% in a given year\n",
    "# ==============================\n",
    "def income_needed_for_top_percent(year: int, top_percent: float) -> str:\n",
    "    \"\"\"\n",
    "    Returns the minimum annual income (SGD) needed to be in the top `top_percent` percent\n",
    "    of earners for the given year, assuming uniform distribution within each bin.\n",
    "\n",
    "    Example:\n",
    "        income_needed_for_top_percent(2022, 10.0)  # threshold for top 10%\n",
    "    \"\"\"\n",
    "    if top_percent < 0 or top_percent > 100:\n",
    "        return \"top_percent must be between 0 and 100.\"\n",
    "\n",
    "    if year not in dist[\"year_of_assessment\"].unique():\n",
    "        return f\"No data for year {year}.\"\n",
    "\n",
    "    dsub = dist[dist[\"year_of_assessment\"] == year].copy()\n",
    "    dsub = dsub.sort_values(\"assessed_income_group\")\n",
    "\n",
    "    labels = dsub[\"assessed_income_group\"].astype(str).tolist()\n",
    "    weights = dsub[\"share_of_taxpayers\"].values  # sums to 1\n",
    "\n",
    "    # Convert \"top p%\" to CDF quantile q in [0,1]\n",
    "    # top 10% => q = 0.90; we need the 90th percentile threshold\n",
    "    q = 1.0 - (top_percent / 100.0)\n",
    "    q = min(max(q, 0.0), 1.0)\n",
    "\n",
    "    # cumulative distribution\n",
    "    cdf = np.cumsum(weights)\n",
    "\n",
    "    # find first bin where CDF >= q\n",
    "    idx = np.searchsorted(cdf, q, side=\"left\")\n",
    "\n",
    "    if idx == 0:\n",
    "        # threshold lies in the first bin\n",
    "        lo, hi = bin_bounds_map[labels[0]]\n",
    "        if hi == math.inf:\n",
    "            # degenerate case: only one open-ended bin\n",
    "            return f\"Estimated threshold income for top {top_percent:.1f}% in {int(year)}: S$ {lo:,.0f}+\"\n",
    "        width = max(hi - lo, 1.0)\n",
    "        # fraction within bin to reach q\n",
    "        frac = q / weights[0] if weights[0] > 0 else 0.0\n",
    "        income = lo + frac * width\n",
    "    elif idx >= len(labels):\n",
    "        # q beyond all bins due to rounding; threshold at top of last finite bin\n",
    "        lo, hi = bin_bounds_map[labels[-1]]\n",
    "        income = lo if hi == math.inf else hi\n",
    "    else:\n",
    "        # interpolate within the idx-th bin\n",
    "        prev_cdf = cdf[idx - 1]\n",
    "        lo, hi = bin_bounds_map[labels[idx]]\n",
    "        w = weights[idx]\n",
    "        if hi == math.inf:\n",
    "            # approximate an effective width from previous finite bin\n",
    "            if idx > 0:\n",
    "                prev_lo, prev_hi = bin_bounds_map[labels[idx - 1]]\n",
    "                eff_width = max(prev_hi - prev_lo, 1.0)\n",
    "            else:\n",
    "                eff_width = max(0.25 * lo, 1.0)\n",
    "            frac = 0.0 if w == 0 else (q - prev_cdf) / w\n",
    "            frac = min(max(frac, 0.0), 1.0)\n",
    "            income = lo + frac * eff_width\n",
    "        else:\n",
    "            width = max(hi - lo, 1.0)\n",
    "            frac = 0.0 if w == 0 else (q - prev_cdf) / w\n",
    "            frac = min(max(frac, 0.0), 1.0)\n",
    "            income = lo + frac * width\n",
    "\n",
    "    return print(\n",
    "        f\"To be in the top {top_percent:.1f}% of earners in {int(year)}, \"\n",
    "        f\"you would need an annual income of approximately S$ {income:,.0f}.\"\n",
    "    )\n",
    "\n",
    "# ==============================\n",
    "# Plotly: Static plot (2020+)\n",
    "# ==============================\n",
    "years_2020_plus = sorted([int(y) for y in dist[\"year_of_assessment\"].dropna().unique() if int(y) >= 2020])\n",
    "if years_2020_plus:\n",
    "    d2020p = dist[dist[\"year_of_assessment\"].isin(years_2020_plus)].copy()\n",
    "\n",
    "    # Convert shares (0..1) to percentage for tooltips if you like; axis will format as %\n",
    "    d2020p[\"share_pct\"] = d2020p[\"share_of_taxpayers\"] * 100\n",
    "\n",
    "    fig_line = px.line(\n",
    "        d2020p,\n",
    "        x=\"assessed_income_group\",\n",
    "        y=\"share_of_taxpayers\",\n",
    "        color=\"year_of_assessment\",\n",
    "        markers=True,\n",
    "        category_orders={\"assessed_income_group\": ordered_labels},\n",
    "        labels={\n",
    "            \"assessed_income_group\": \"Assessed income group (SGD)\",\n",
    "            \"share_of_taxpayers\": \"Share of taxpayers\",\n",
    "            \"year_of_assessment\": \"Year\"\n",
    "        },\n",
    "        hover_data={\"share_of_taxpayers\": \":.2%\", \"share_pct\": False}\n",
    "    )\n",
    "    # Y axis in percentage\n",
    "    fig_line.update_yaxes(tickformat=\".0%\", rangemode=\"tozero\")\n",
    "    fig_line.update_layout(\n",
    "        title=\"Distribution of Tax Residents by Assessed Income Group — 2020 and later\",\n",
    "        legend_title_text=\"Year\",\n",
    "        margin=dict(l=40, r=20, t=60, b=80)\n",
    "    )\n",
    "    fig_line.show()\n",
    "else:\n",
    "    print(\"No years ≥ 2020 found in the data to plot.\")\n",
    "\n",
    "# ==============================\n",
    "# Plotly: Animated bars (all years)\n",
    "# ==============================\n",
    "# ==============================\n",
    "# Plotly: Animated bars (all years) — improved layout\n",
    "# ==============================\n",
    "years_all = sorted([int(y) for y in dist[\"year_of_assessment\"].dropna().unique()])\n",
    "if years_all:\n",
    "    frames = []\n",
    "    for y in years_all:\n",
    "        ysub = dist[dist[\"year_of_assessment\"] == y]\n",
    "        frames.append(go.Frame(\n",
    "            name=str(y),\n",
    "            data=[go.Bar(\n",
    "                x=ysub[\"assessed_income_group\"].astype(str),\n",
    "                y=ysub[\"share_of_taxpayers\"],\n",
    "                hovertemplate=\"Group: %{x}<br>Share: %{y:.2%}<extra></extra>\"\n",
    "            )]\n",
    "        ))\n",
    "\n",
    "    y0 = years_all[0]\n",
    "    base = dist[dist[\"year_of_assessment\"] == y0]\n",
    "\n",
    "    # Build the slider steps\n",
    "    slider_steps = [\n",
    "        dict(\n",
    "            label=str(y),\n",
    "            method=\"animate\",\n",
    "            args=[[str(y)], {\"mode\": \"immediate\", \"frame\": {\"duration\": 0, \"redraw\": True}, \"transition\": {\"duration\": 200}}]\n",
    "        )\n",
    "        for y in years_all\n",
    "    ]\n",
    "\n",
    "    # Use the latest year as the initial frame for display\n",
    "    y_init = years_all[-1]\n",
    "    base = dist[dist[\"year_of_assessment\"] == y_init]\n",
    "\n",
    "    fig_anim = go.Figure(\n",
    "        data=[go.Bar(\n",
    "            x=base[\"assessed_income_group\"].astype(str),\n",
    "            y=base[\"share_of_taxpayers\"],\n",
    "            hovertemplate=\"Group: %{x}<br>Share: %{y:.2%}<extra></extra>\"\n",
    "        )],\n",
    "        layout=go.Layout(\n",
    "            title=f\"Evolution of Tax Resident Income Distribution\",\n",
    "            xaxis=dict(\n",
    "                title=\"Assessed income group (SGD)\",\n",
    "                categoryorder=\"array\",\n",
    "                categoryarray=ordered_labels,\n",
    "                tickangle=-35,\n",
    "                automargin=True\n",
    "            ),\n",
    "            yaxis=dict(\n",
    "                title=\"Share of taxpayers\",\n",
    "                tickformat=\".0%\",\n",
    "                rangemode=\"tozero\"\n",
    "            ),\n",
    "            updatemenus=[dict(\n",
    "                type=\"buttons\",\n",
    "                showactive=False,\n",
    "                x=1.0, y=1.15, xanchor=\"right\", yanchor=\"top\",\n",
    "                buttons=[\n",
    "                    dict(label=\"▶ Play\", method=\"animate\",\n",
    "                         args=[None, {\"frame\": {\"duration\": 800, \"redraw\": True}, \"fromcurrent\": True, \"transition\": {\"duration\": 300}}]),\n",
    "                    dict(label=\"⏸ Pause\", method=\"animate\",\n",
    "                         args=[[None], {\"mode\": \"immediate\", \"frame\": {\"duration\": 0, \"redraw\": False}, \"transition\": {\"duration\": 0}}])\n",
    "                ]\n",
    "            )],\n",
    "            sliders=[dict(\n",
    "                active=len(years_all) - 1,\n",
    "                x=0.0, y=-0.40,\n",
    "                xanchor=\"left\", yanchor=\"top\",\n",
    "                len=1.0,\n",
    "                pad={\"t\": 10, \"b\": 10},\n",
    "                currentvalue={\"prefix\": \"Year: \"},\n",
    "                steps=slider_steps\n",
    "            )],\n",
    "            margin=dict(l=40, r=20, t=70, b=160)\n",
    "        ),\n",
    "        frames=frames\n",
    "    )\n",
    "\n",
    "    fig_anim.show()\n",
    "else:\n",
    "    print(\"No yearly data found to animate.\")"
   ]
  },
  {
   "cell_type": "code",
   "execution_count": 5,
   "id": "e0115414",
   "metadata": {},
   "outputs": [
    {
     "name": "stdout",
     "output_type": "stream",
     "text": [
      "With an annual income of S$ 1,000,000 in 2023, you belong to the top 0.4% earners.\n"
     ]
    }
   ],
   "source": [
    "income_top_percent(2023, 1_000_000)"
   ]
  },
  {
   "cell_type": "code",
   "execution_count": 7,
   "id": "6cf86717",
   "metadata": {},
   "outputs": [
    {
     "name": "stdout",
     "output_type": "stream",
     "text": [
      "To be in the top 10.0% of earners in 2023, you would need an annual income of approximately S$ 204,834.\n"
     ]
    }
   ],
   "source": [
    "income_needed_for_top_percent(2023, 10)"
   ]
  },
  {
   "cell_type": "code",
   "execution_count": 8,
   "id": "85f2713b",
   "metadata": {},
   "outputs": [
    {
     "data": {
      "application/vnd.plotly.v1+json": {
       "config": {
        "plotlyServerURL": "https://plot.ly"
       },
       "data": [
        {
         "hovertemplate": "=Median (50th)<br>Year=%{x}<br>Annual income (SGD)=%{y}<extra></extra>",
         "legendgroup": "Median (50th)",
         "line": {
          "color": "#636efa",
          "dash": "solid"
         },
         "marker": {
          "symbol": "circle"
         },
         "mode": "markers+lines",
         "name": "Median (50th)",
         "orientation": "v",
         "showlegend": true,
         "type": "scatter",
         "x": [
          2004,
          2005,
          2006,
          2007,
          2008,
          2009,
          2010,
          2011,
          2012,
          2013,
          2014,
          2015,
          2016,
          2017,
          2018,
          2019,
          2020,
          2021,
          2022,
          2023
         ],
         "xaxis": "x",
         "y": [
          48445.73450377567,
          49114.91588575416,
          49859.29961940856,
          50779.490895466464,
          52342.64348233823,
          53393.52717930422,
          52292.73417229861,
          52835.48943772105,
          53029.29493290126,
          52866.93760611778,
          53286.31536567349,
          53861.98150171847,
          54738.050987720235,
          55143.68736810371,
          56258.802254201466,
          57218.19154453749,
          57792.385628371034,
          59669.70736843233,
          61413.05609933179,
          63632.34497995711
         ],
         "yaxis": "y"
        },
        {
         "hovertemplate": "=Top 20% (80th)<br>Year=%{x}<br>Annual income (SGD)=%{y}<extra></extra>",
         "legendgroup": "Top 20% (80th)",
         "line": {
          "color": "#EF553B",
          "dash": "solid"
         },
         "marker": {
          "symbol": "circle"
         },
         "mode": "markers+lines",
         "name": "Top 20% (80th)",
         "orientation": "v",
         "showlegend": true,
         "type": "scatter",
         "x": [
          2004,
          2005,
          2006,
          2007,
          2008,
          2009,
          2010,
          2011,
          2012,
          2013,
          2014,
          2015,
          2016,
          2017,
          2018,
          2019,
          2020,
          2021,
          2022,
          2023
         ],
         "xaxis": "x",
         "y": [
          89137.36044131892,
          91308.65281702703,
          93827.78466453672,
          96366.43260454878,
          100289.21464080343,
          105420.90724802621,
          103768.34020362805,
          106770.87562896768,
          108843.32046229467,
          108306.1832550351,
          110539.45104016589,
          112121.371622807,
          114521.91536278128,
          115900.39606340414,
          119338.43819931282,
          122505.33957906936,
          123822.73563961625,
          128157.11021254002,
          132707.94230713122,
          137379.27574063587
         ],
         "yaxis": "y"
        },
        {
         "hovertemplate": "=Top 10% (90th)<br>Year=%{x}<br>Annual income (SGD)=%{y}<extra></extra>",
         "legendgroup": "Top 10% (90th)",
         "line": {
          "color": "#00cc96",
          "dash": "solid"
         },
         "marker": {
          "symbol": "circle"
         },
         "mode": "markers+lines",
         "name": "Top 10% (90th)",
         "orientation": "v",
         "showlegend": true,
         "type": "scatter",
         "x": [
          2004,
          2005,
          2006,
          2007,
          2008,
          2009,
          2010,
          2011,
          2012,
          2013,
          2014,
          2015,
          2016,
          2017,
          2018,
          2019,
          2020,
          2021,
          2022,
          2023
         ],
         "xaxis": "x",
         "y": [
          140111.10539275545,
          142518.19545977615,
          146654.72577244812,
          149752.76752985822,
          161470.39182381396,
          167162.10046608583,
          164180.17000374256,
          167632.71256492907,
          170701.6537195027,
          169771.4512297435,
          171273.2759610326,
          174377.61373975617,
          176668.49135188392,
          178077.09836690003,
          181258.41274430993,
          184931.70080387435,
          186353.37174313146,
          191193.25632918463,
          196648.1103405337,
          204834.37086553327
         ],
         "yaxis": "y"
        },
        {
         "hovertemplate": "=Top 5% (95th)<br>Year=%{x}<br>Annual income (SGD)=%{y}<extra></extra>",
         "legendgroup": "Top 5% (95th)",
         "line": {
          "color": "#ab63fa",
          "dash": "solid"
         },
         "marker": {
          "symbol": "circle"
         },
         "mode": "markers+lines",
         "name": "Top 5% (95th)",
         "orientation": "v",
         "showlegend": true,
         "type": "scatter",
         "x": [
          2004,
          2005,
          2006,
          2007,
          2008,
          2009,
          2010,
          2011,
          2012,
          2013,
          2014,
          2015,
          2016,
          2017,
          2018,
          2019,
          2020,
          2021,
          2022,
          2023
         ],
         "xaxis": "x",
         "y": [
          208083.96076760735,
          217615.11580452786,
          230324.5631201807,
          239982.01353032613,
          256715.33234463693,
          261652.14186167213,
          257572.18148428915,
          262099.30299548752,
          264951.3100218859,
          263261.37479346595,
          262353.1887928419,
          267102.28407202614,
          269012.20079488173,
          269578.7646557401,
          271701.87818944786,
          276398.47300491715,
          278561.445946667,
          284406.8662438622,
          291574.78156065795,
          297121.7873261205
         ],
         "yaxis": "y"
        },
        {
         "hovertemplate": "=Top 1% (99th)<br>Year=%{x}<br>Annual income (SGD)=%{y}<extra></extra>",
         "legendgroup": "Top 1% (99th)",
         "line": {
          "color": "#FFA15A",
          "dash": "solid"
         },
         "marker": {
          "symbol": "circle"
         },
         "mode": "markers+lines",
         "name": "Top 1% (99th)",
         "orientation": "v",
         "showlegend": true,
         "type": "scatter",
         "x": [
          2004,
          2005,
          2006,
          2007,
          2008,
          2009,
          2010,
          2011,
          2012,
          2013,
          2014,
          2015,
          2016,
          2017,
          2018,
          2019,
          2020,
          2021,
          2022,
          2023
         ],
         "xaxis": "x",
         "y": [
          464462.7304497377,
          483003.6542857138,
          531161.511406325,
          598696.8340078421,
          685184.9145381555,
          656988.4078569923,
          604765.9191021764,
          648243.1304895459,
          657429.2897399593,
          637855.8358546109,
          629884.1853777895,
          661276.4098908028,
          667944.3919331955,
          651568.392826594,
          655793.8142946874,
          674107.9378146906,
          677001.0762505939,
          713607.9476594266,
          762606.2502067252,
          771995.5529886761
         ],
         "yaxis": "y"
        }
       ],
       "layout": {
        "hovermode": "x unified",
        "legend": {
         "title": {
          "text": ""
         },
         "tracegroupgap": 0
        },
        "margin": {
         "b": 40,
         "l": 40,
         "r": 20,
         "t": 60
        },
        "template": {
         "data": {
          "bar": [
           {
            "error_x": {
             "color": "#2a3f5f"
            },
            "error_y": {
             "color": "#2a3f5f"
            },
            "marker": {
             "line": {
              "color": "#E5ECF6",
              "width": 0.5
             },
             "pattern": {
              "fillmode": "overlay",
              "size": 10,
              "solidity": 0.2
             }
            },
            "type": "bar"
           }
          ],
          "barpolar": [
           {
            "marker": {
             "line": {
              "color": "#E5ECF6",
              "width": 0.5
             },
             "pattern": {
              "fillmode": "overlay",
              "size": 10,
              "solidity": 0.2
             }
            },
            "type": "barpolar"
           }
          ],
          "carpet": [
           {
            "aaxis": {
             "endlinecolor": "#2a3f5f",
             "gridcolor": "white",
             "linecolor": "white",
             "minorgridcolor": "white",
             "startlinecolor": "#2a3f5f"
            },
            "baxis": {
             "endlinecolor": "#2a3f5f",
             "gridcolor": "white",
             "linecolor": "white",
             "minorgridcolor": "white",
             "startlinecolor": "#2a3f5f"
            },
            "type": "carpet"
           }
          ],
          "choropleth": [
           {
            "colorbar": {
             "outlinewidth": 0,
             "ticks": ""
            },
            "type": "choropleth"
           }
          ],
          "contour": [
           {
            "colorbar": {
             "outlinewidth": 0,
             "ticks": ""
            },
            "colorscale": [
             [
              0,
              "#0d0887"
             ],
             [
              0.1111111111111111,
              "#46039f"
             ],
             [
              0.2222222222222222,
              "#7201a8"
             ],
             [
              0.3333333333333333,
              "#9c179e"
             ],
             [
              0.4444444444444444,
              "#bd3786"
             ],
             [
              0.5555555555555556,
              "#d8576b"
             ],
             [
              0.6666666666666666,
              "#ed7953"
             ],
             [
              0.7777777777777778,
              "#fb9f3a"
             ],
             [
              0.8888888888888888,
              "#fdca26"
             ],
             [
              1,
              "#f0f921"
             ]
            ],
            "type": "contour"
           }
          ],
          "contourcarpet": [
           {
            "colorbar": {
             "outlinewidth": 0,
             "ticks": ""
            },
            "type": "contourcarpet"
           }
          ],
          "heatmap": [
           {
            "colorbar": {
             "outlinewidth": 0,
             "ticks": ""
            },
            "colorscale": [
             [
              0,
              "#0d0887"
             ],
             [
              0.1111111111111111,
              "#46039f"
             ],
             [
              0.2222222222222222,
              "#7201a8"
             ],
             [
              0.3333333333333333,
              "#9c179e"
             ],
             [
              0.4444444444444444,
              "#bd3786"
             ],
             [
              0.5555555555555556,
              "#d8576b"
             ],
             [
              0.6666666666666666,
              "#ed7953"
             ],
             [
              0.7777777777777778,
              "#fb9f3a"
             ],
             [
              0.8888888888888888,
              "#fdca26"
             ],
             [
              1,
              "#f0f921"
             ]
            ],
            "type": "heatmap"
           }
          ],
          "heatmapgl": [
           {
            "colorbar": {
             "outlinewidth": 0,
             "ticks": ""
            },
            "colorscale": [
             [
              0,
              "#0d0887"
             ],
             [
              0.1111111111111111,
              "#46039f"
             ],
             [
              0.2222222222222222,
              "#7201a8"
             ],
             [
              0.3333333333333333,
              "#9c179e"
             ],
             [
              0.4444444444444444,
              "#bd3786"
             ],
             [
              0.5555555555555556,
              "#d8576b"
             ],
             [
              0.6666666666666666,
              "#ed7953"
             ],
             [
              0.7777777777777778,
              "#fb9f3a"
             ],
             [
              0.8888888888888888,
              "#fdca26"
             ],
             [
              1,
              "#f0f921"
             ]
            ],
            "type": "heatmapgl"
           }
          ],
          "histogram": [
           {
            "marker": {
             "pattern": {
              "fillmode": "overlay",
              "size": 10,
              "solidity": 0.2
             }
            },
            "type": "histogram"
           }
          ],
          "histogram2d": [
           {
            "colorbar": {
             "outlinewidth": 0,
             "ticks": ""
            },
            "colorscale": [
             [
              0,
              "#0d0887"
             ],
             [
              0.1111111111111111,
              "#46039f"
             ],
             [
              0.2222222222222222,
              "#7201a8"
             ],
             [
              0.3333333333333333,
              "#9c179e"
             ],
             [
              0.4444444444444444,
              "#bd3786"
             ],
             [
              0.5555555555555556,
              "#d8576b"
             ],
             [
              0.6666666666666666,
              "#ed7953"
             ],
             [
              0.7777777777777778,
              "#fb9f3a"
             ],
             [
              0.8888888888888888,
              "#fdca26"
             ],
             [
              1,
              "#f0f921"
             ]
            ],
            "type": "histogram2d"
           }
          ],
          "histogram2dcontour": [
           {
            "colorbar": {
             "outlinewidth": 0,
             "ticks": ""
            },
            "colorscale": [
             [
              0,
              "#0d0887"
             ],
             [
              0.1111111111111111,
              "#46039f"
             ],
             [
              0.2222222222222222,
              "#7201a8"
             ],
             [
              0.3333333333333333,
              "#9c179e"
             ],
             [
              0.4444444444444444,
              "#bd3786"
             ],
             [
              0.5555555555555556,
              "#d8576b"
             ],
             [
              0.6666666666666666,
              "#ed7953"
             ],
             [
              0.7777777777777778,
              "#fb9f3a"
             ],
             [
              0.8888888888888888,
              "#fdca26"
             ],
             [
              1,
              "#f0f921"
             ]
            ],
            "type": "histogram2dcontour"
           }
          ],
          "mesh3d": [
           {
            "colorbar": {
             "outlinewidth": 0,
             "ticks": ""
            },
            "type": "mesh3d"
           }
          ],
          "parcoords": [
           {
            "line": {
             "colorbar": {
              "outlinewidth": 0,
              "ticks": ""
             }
            },
            "type": "parcoords"
           }
          ],
          "pie": [
           {
            "automargin": true,
            "type": "pie"
           }
          ],
          "scatter": [
           {
            "fillpattern": {
             "fillmode": "overlay",
             "size": 10,
             "solidity": 0.2
            },
            "type": "scatter"
           }
          ],
          "scatter3d": [
           {
            "line": {
             "colorbar": {
              "outlinewidth": 0,
              "ticks": ""
             }
            },
            "marker": {
             "colorbar": {
              "outlinewidth": 0,
              "ticks": ""
             }
            },
            "type": "scatter3d"
           }
          ],
          "scattercarpet": [
           {
            "marker": {
             "colorbar": {
              "outlinewidth": 0,
              "ticks": ""
             }
            },
            "type": "scattercarpet"
           }
          ],
          "scattergeo": [
           {
            "marker": {
             "colorbar": {
              "outlinewidth": 0,
              "ticks": ""
             }
            },
            "type": "scattergeo"
           }
          ],
          "scattergl": [
           {
            "marker": {
             "colorbar": {
              "outlinewidth": 0,
              "ticks": ""
             }
            },
            "type": "scattergl"
           }
          ],
          "scattermapbox": [
           {
            "marker": {
             "colorbar": {
              "outlinewidth": 0,
              "ticks": ""
             }
            },
            "type": "scattermapbox"
           }
          ],
          "scatterpolar": [
           {
            "marker": {
             "colorbar": {
              "outlinewidth": 0,
              "ticks": ""
             }
            },
            "type": "scatterpolar"
           }
          ],
          "scatterpolargl": [
           {
            "marker": {
             "colorbar": {
              "outlinewidth": 0,
              "ticks": ""
             }
            },
            "type": "scatterpolargl"
           }
          ],
          "scatterternary": [
           {
            "marker": {
             "colorbar": {
              "outlinewidth": 0,
              "ticks": ""
             }
            },
            "type": "scatterternary"
           }
          ],
          "surface": [
           {
            "colorbar": {
             "outlinewidth": 0,
             "ticks": ""
            },
            "colorscale": [
             [
              0,
              "#0d0887"
             ],
             [
              0.1111111111111111,
              "#46039f"
             ],
             [
              0.2222222222222222,
              "#7201a8"
             ],
             [
              0.3333333333333333,
              "#9c179e"
             ],
             [
              0.4444444444444444,
              "#bd3786"
             ],
             [
              0.5555555555555556,
              "#d8576b"
             ],
             [
              0.6666666666666666,
              "#ed7953"
             ],
             [
              0.7777777777777778,
              "#fb9f3a"
             ],
             [
              0.8888888888888888,
              "#fdca26"
             ],
             [
              1,
              "#f0f921"
             ]
            ],
            "type": "surface"
           }
          ],
          "table": [
           {
            "cells": {
             "fill": {
              "color": "#EBF0F8"
             },
             "line": {
              "color": "white"
             }
            },
            "header": {
             "fill": {
              "color": "#C8D4E3"
             },
             "line": {
              "color": "white"
             }
            },
            "type": "table"
           }
          ]
         },
         "layout": {
          "annotationdefaults": {
           "arrowcolor": "#2a3f5f",
           "arrowhead": 0,
           "arrowwidth": 1
          },
          "autotypenumbers": "strict",
          "coloraxis": {
           "colorbar": {
            "outlinewidth": 0,
            "ticks": ""
           }
          },
          "colorscale": {
           "diverging": [
            [
             0,
             "#8e0152"
            ],
            [
             0.1,
             "#c51b7d"
            ],
            [
             0.2,
             "#de77ae"
            ],
            [
             0.3,
             "#f1b6da"
            ],
            [
             0.4,
             "#fde0ef"
            ],
            [
             0.5,
             "#f7f7f7"
            ],
            [
             0.6,
             "#e6f5d0"
            ],
            [
             0.7,
             "#b8e186"
            ],
            [
             0.8,
             "#7fbc41"
            ],
            [
             0.9,
             "#4d9221"
            ],
            [
             1,
             "#276419"
            ]
           ],
           "sequential": [
            [
             0,
             "#0d0887"
            ],
            [
             0.1111111111111111,
             "#46039f"
            ],
            [
             0.2222222222222222,
             "#7201a8"
            ],
            [
             0.3333333333333333,
             "#9c179e"
            ],
            [
             0.4444444444444444,
             "#bd3786"
            ],
            [
             0.5555555555555556,
             "#d8576b"
            ],
            [
             0.6666666666666666,
             "#ed7953"
            ],
            [
             0.7777777777777778,
             "#fb9f3a"
            ],
            [
             0.8888888888888888,
             "#fdca26"
            ],
            [
             1,
             "#f0f921"
            ]
           ],
           "sequentialminus": [
            [
             0,
             "#0d0887"
            ],
            [
             0.1111111111111111,
             "#46039f"
            ],
            [
             0.2222222222222222,
             "#7201a8"
            ],
            [
             0.3333333333333333,
             "#9c179e"
            ],
            [
             0.4444444444444444,
             "#bd3786"
            ],
            [
             0.5555555555555556,
             "#d8576b"
            ],
            [
             0.6666666666666666,
             "#ed7953"
            ],
            [
             0.7777777777777778,
             "#fb9f3a"
            ],
            [
             0.8888888888888888,
             "#fdca26"
            ],
            [
             1,
             "#f0f921"
            ]
           ]
          },
          "colorway": [
           "#636efa",
           "#EF553B",
           "#00cc96",
           "#ab63fa",
           "#FFA15A",
           "#19d3f3",
           "#FF6692",
           "#B6E880",
           "#FF97FF",
           "#FECB52"
          ],
          "font": {
           "color": "#2a3f5f"
          },
          "geo": {
           "bgcolor": "white",
           "lakecolor": "white",
           "landcolor": "#E5ECF6",
           "showlakes": true,
           "showland": true,
           "subunitcolor": "white"
          },
          "hoverlabel": {
           "align": "left"
          },
          "hovermode": "closest",
          "mapbox": {
           "style": "light"
          },
          "paper_bgcolor": "white",
          "plot_bgcolor": "#E5ECF6",
          "polar": {
           "angularaxis": {
            "gridcolor": "white",
            "linecolor": "white",
            "ticks": ""
           },
           "bgcolor": "#E5ECF6",
           "radialaxis": {
            "gridcolor": "white",
            "linecolor": "white",
            "ticks": ""
           }
          },
          "scene": {
           "xaxis": {
            "backgroundcolor": "#E5ECF6",
            "gridcolor": "white",
            "gridwidth": 2,
            "linecolor": "white",
            "showbackground": true,
            "ticks": "",
            "zerolinecolor": "white"
           },
           "yaxis": {
            "backgroundcolor": "#E5ECF6",
            "gridcolor": "white",
            "gridwidth": 2,
            "linecolor": "white",
            "showbackground": true,
            "ticks": "",
            "zerolinecolor": "white"
           },
           "zaxis": {
            "backgroundcolor": "#E5ECF6",
            "gridcolor": "white",
            "gridwidth": 2,
            "linecolor": "white",
            "showbackground": true,
            "ticks": "",
            "zerolinecolor": "white"
           }
          },
          "shapedefaults": {
           "line": {
            "color": "#2a3f5f"
           }
          },
          "ternary": {
           "aaxis": {
            "gridcolor": "white",
            "linecolor": "white",
            "ticks": ""
           },
           "baxis": {
            "gridcolor": "white",
            "linecolor": "white",
            "ticks": ""
           },
           "bgcolor": "#E5ECF6",
           "caxis": {
            "gridcolor": "white",
            "linecolor": "white",
            "ticks": ""
           }
          },
          "title": {
           "x": 0.05
          },
          "xaxis": {
           "automargin": true,
           "gridcolor": "white",
           "linecolor": "white",
           "ticks": "",
           "title": {
            "standoff": 15
           },
           "zerolinecolor": "white",
           "zerolinewidth": 2
          },
          "yaxis": {
           "automargin": true,
           "gridcolor": "white",
           "linecolor": "white",
           "ticks": "",
           "title": {
            "standoff": 15
           },
           "zerolinecolor": "white",
           "zerolinewidth": 2
          }
         }
        },
        "title": {
         "text": "Income thresholds over time"
        },
        "xaxis": {
         "anchor": "y",
         "domain": [
          0,
          1
         ],
         "title": {
          "text": "Year"
         }
        },
        "yaxis": {
         "anchor": "x",
         "domain": [
          0,
          1
         ],
         "tickformat": ",.0f",
         "tickprefix": "S$ ",
         "title": {
          "text": "Annual income (SGD)"
         }
        }
       }
      }
     },
     "metadata": {},
     "output_type": "display_data"
    },
    {
     "data": {
      "application/vnd.plotly.v1+json": {
       "config": {
        "plotlyServerURL": "https://plot.ly"
       },
       "data": [
        {
         "hovertemplate": "=Gini<br>Year=%{x}<br>Index value=%{y}<extra></extra>",
         "legendgroup": "Gini",
         "line": {
          "color": "#636efa",
          "dash": "solid"
         },
         "marker": {
          "symbol": "circle"
         },
         "mode": "markers+lines",
         "name": "Gini",
         "orientation": "v",
         "showlegend": true,
         "type": "scatter",
         "x": [
          2004,
          2005,
          2006,
          2007,
          2008,
          2009,
          2010,
          2011,
          2012,
          2013,
          2014,
          2015,
          2016,
          2017,
          2018,
          2019,
          2020,
          2021,
          2022,
          2023
         ],
         "xaxis": "x",
         "y": [
          0.42877919445207135,
          0.43295798417155007,
          0.4433335596598498,
          0.45373840484908035,
          0.4706895543321491,
          0.4646693953731964,
          0.45616268477107014,
          0.4648753693895946,
          0.4671409015396375,
          0.46423189472677984,
          0.4629320310524454,
          0.4661754202908447,
          0.46559007484582837,
          0.46272234132888346,
          0.4632882802230527,
          0.4657318578856662,
          0.46435975403397256,
          0.4685632511276576,
          0.4784059630656412,
          0.4744952496483692
         ],
         "yaxis": "y"
        },
        {
         "hovertemplate": "=Theil_T<br>Year=%{x}<br>Index value=%{y}<extra></extra>",
         "legendgroup": "Theil_T",
         "line": {
          "color": "#EF553B",
          "dash": "solid"
         },
         "marker": {
          "symbol": "circle"
         },
         "mode": "markers+lines",
         "name": "Theil_T",
         "orientation": "v",
         "showlegend": true,
         "type": "scatter",
         "x": [
          2004,
          2005,
          2006,
          2007,
          2008,
          2009,
          2010,
          2011,
          2012,
          2013,
          2014,
          2015,
          2016,
          2017,
          2018,
          2019,
          2020,
          2021,
          2022,
          2023
         ],
         "xaxis": "x",
         "y": [
          0.434989606347961,
          0.44600675321179994,
          0.4675361026372053,
          0.49507040206208763,
          0.5368372086985702,
          0.4964033241486816,
          0.46167990779663426,
          0.4872636311571311,
          0.48554118852421746,
          0.4760747812224881,
          0.4697003952580691,
          0.47729179430623847,
          0.4744630133043645,
          0.46325673376652676,
          0.46512350478008446,
          0.46832992415553,
          0.4605549708400114,
          0.47449758935273445,
          0.5110558342658048,
          0.48671030481337096
         ],
         "yaxis": "y"
        },
        {
         "hovertemplate": "=Atkinson(0.5)<br>Year=%{x}<br>Index value=%{y}<extra></extra>",
         "legendgroup": "Atkinson(0.5)",
         "line": {
          "color": "#00cc96",
          "dash": "solid"
         },
         "marker": {
          "symbol": "circle"
         },
         "mode": "markers+lines",
         "name": "Atkinson(0.5)",
         "orientation": "v",
         "showlegend": true,
         "type": "scatter",
         "x": [
          2004,
          2005,
          2006,
          2007,
          2008,
          2009,
          2010,
          2011,
          2012,
          2013,
          2014,
          2015,
          2016,
          2017,
          2018,
          2019,
          2020,
          2021,
          2022,
          2023
         ],
         "xaxis": "x",
         "y": [
          0.16490912680390168,
          0.16840427728991292,
          0.17596386725101376,
          0.18453326977673612,
          0.19806565896280892,
          0.18889791435189784,
          0.1797651104891419,
          0.1874495585110163,
          0.18806516343750923,
          0.1853025374063485,
          0.18365079398827922,
          0.18627828737321728,
          0.18555560444709696,
          0.18249740964933003,
          0.18296163796727305,
          0.18449225020784377,
          0.18271604812255426,
          0.18673890561345463,
          0.1967234977461958,
          0.19134280438339435
         ],
         "yaxis": "y"
        },
        {
         "hovertemplate": "=Atkinson(1)<br>Year=%{x}<br>Index value=%{y}<extra></extra>",
         "legendgroup": "Atkinson(1)",
         "line": {
          "color": "#ab63fa",
          "dash": "solid"
         },
         "marker": {
          "symbol": "circle"
         },
         "mode": "markers+lines",
         "name": "Atkinson(1)",
         "orientation": "v",
         "showlegend": true,
         "type": "scatter",
         "x": [
          2004,
          2005,
          2006,
          2007,
          2008,
          2009,
          2010,
          2011,
          2012,
          2013,
          2014,
          2015,
          2016,
          2017,
          2018,
          2019,
          2020,
          2021,
          2022,
          2023
         ],
         "xaxis": "x",
         "y": [
          0.263027899944938,
          0.26761082908500045,
          0.27860326059623086,
          0.2901692959707963,
          0.30898473635514245,
          0.30075252791727525,
          0.29029987793591083,
          0.3003770628837391,
          0.30258863673297276,
          0.29920223293452275,
          0.29766960809139287,
          0.30129636568742824,
          0.30070741275438384,
          0.2973282165973501,
          0.2982464971897463,
          0.3011236059288377,
          0.29951029893904535,
          0.3048961085780537,
          0.31689248776530954,
          0.3122676768401639
         ],
         "yaxis": "y"
        },
        {
         "hovertemplate": "=Atkinson(2)<br>Year=%{x}<br>Index value=%{y}<extra></extra>",
         "legendgroup": "Atkinson(2)",
         "line": {
          "color": "#FFA15A",
          "dash": "solid"
         },
         "marker": {
          "symbol": "circle"
         },
         "mode": "markers+lines",
         "name": "Atkinson(2)",
         "orientation": "v",
         "showlegend": true,
         "type": "scatter",
         "x": [
          2004,
          2005,
          2006,
          2007,
          2008,
          2009,
          2010,
          2011,
          2012,
          2013,
          2014,
          2015,
          2016,
          2017,
          2018,
          2019,
          2020,
          2021,
          2022,
          2023
         ],
         "xaxis": "x",
         "y": [
          0.37323241317249556,
          0.3779347981079231,
          0.39138627691871064,
          0.4046891013596443,
          0.4270174075908253,
          0.42411449684667846,
          0.41457317391177484,
          0.42570603928617967,
          0.4302246997580933,
          0.4270956011306204,
          0.42687689375738136,
          0.4307266324589647,
          0.4310502351303436,
          0.4286626050253286,
          0.43090564121329533,
          0.4356713757075593,
          0.43512905270460367,
          0.4419408893392708,
          0.45366777355335375,
          0.45259385181636114
         ],
         "yaxis": "y"
        }
       ],
       "layout": {
        "hovermode": "x unified",
        "legend": {
         "title": {
          "text": ""
         },
         "tracegroupgap": 0
        },
        "margin": {
         "b": 40,
         "l": 40,
         "r": 20,
         "t": 60
        },
        "template": {
         "data": {
          "bar": [
           {
            "error_x": {
             "color": "#2a3f5f"
            },
            "error_y": {
             "color": "#2a3f5f"
            },
            "marker": {
             "line": {
              "color": "#E5ECF6",
              "width": 0.5
             },
             "pattern": {
              "fillmode": "overlay",
              "size": 10,
              "solidity": 0.2
             }
            },
            "type": "bar"
           }
          ],
          "barpolar": [
           {
            "marker": {
             "line": {
              "color": "#E5ECF6",
              "width": 0.5
             },
             "pattern": {
              "fillmode": "overlay",
              "size": 10,
              "solidity": 0.2
             }
            },
            "type": "barpolar"
           }
          ],
          "carpet": [
           {
            "aaxis": {
             "endlinecolor": "#2a3f5f",
             "gridcolor": "white",
             "linecolor": "white",
             "minorgridcolor": "white",
             "startlinecolor": "#2a3f5f"
            },
            "baxis": {
             "endlinecolor": "#2a3f5f",
             "gridcolor": "white",
             "linecolor": "white",
             "minorgridcolor": "white",
             "startlinecolor": "#2a3f5f"
            },
            "type": "carpet"
           }
          ],
          "choropleth": [
           {
            "colorbar": {
             "outlinewidth": 0,
             "ticks": ""
            },
            "type": "choropleth"
           }
          ],
          "contour": [
           {
            "colorbar": {
             "outlinewidth": 0,
             "ticks": ""
            },
            "colorscale": [
             [
              0,
              "#0d0887"
             ],
             [
              0.1111111111111111,
              "#46039f"
             ],
             [
              0.2222222222222222,
              "#7201a8"
             ],
             [
              0.3333333333333333,
              "#9c179e"
             ],
             [
              0.4444444444444444,
              "#bd3786"
             ],
             [
              0.5555555555555556,
              "#d8576b"
             ],
             [
              0.6666666666666666,
              "#ed7953"
             ],
             [
              0.7777777777777778,
              "#fb9f3a"
             ],
             [
              0.8888888888888888,
              "#fdca26"
             ],
             [
              1,
              "#f0f921"
             ]
            ],
            "type": "contour"
           }
          ],
          "contourcarpet": [
           {
            "colorbar": {
             "outlinewidth": 0,
             "ticks": ""
            },
            "type": "contourcarpet"
           }
          ],
          "heatmap": [
           {
            "colorbar": {
             "outlinewidth": 0,
             "ticks": ""
            },
            "colorscale": [
             [
              0,
              "#0d0887"
             ],
             [
              0.1111111111111111,
              "#46039f"
             ],
             [
              0.2222222222222222,
              "#7201a8"
             ],
             [
              0.3333333333333333,
              "#9c179e"
             ],
             [
              0.4444444444444444,
              "#bd3786"
             ],
             [
              0.5555555555555556,
              "#d8576b"
             ],
             [
              0.6666666666666666,
              "#ed7953"
             ],
             [
              0.7777777777777778,
              "#fb9f3a"
             ],
             [
              0.8888888888888888,
              "#fdca26"
             ],
             [
              1,
              "#f0f921"
             ]
            ],
            "type": "heatmap"
           }
          ],
          "heatmapgl": [
           {
            "colorbar": {
             "outlinewidth": 0,
             "ticks": ""
            },
            "colorscale": [
             [
              0,
              "#0d0887"
             ],
             [
              0.1111111111111111,
              "#46039f"
             ],
             [
              0.2222222222222222,
              "#7201a8"
             ],
             [
              0.3333333333333333,
              "#9c179e"
             ],
             [
              0.4444444444444444,
              "#bd3786"
             ],
             [
              0.5555555555555556,
              "#d8576b"
             ],
             [
              0.6666666666666666,
              "#ed7953"
             ],
             [
              0.7777777777777778,
              "#fb9f3a"
             ],
             [
              0.8888888888888888,
              "#fdca26"
             ],
             [
              1,
              "#f0f921"
             ]
            ],
            "type": "heatmapgl"
           }
          ],
          "histogram": [
           {
            "marker": {
             "pattern": {
              "fillmode": "overlay",
              "size": 10,
              "solidity": 0.2
             }
            },
            "type": "histogram"
           }
          ],
          "histogram2d": [
           {
            "colorbar": {
             "outlinewidth": 0,
             "ticks": ""
            },
            "colorscale": [
             [
              0,
              "#0d0887"
             ],
             [
              0.1111111111111111,
              "#46039f"
             ],
             [
              0.2222222222222222,
              "#7201a8"
             ],
             [
              0.3333333333333333,
              "#9c179e"
             ],
             [
              0.4444444444444444,
              "#bd3786"
             ],
             [
              0.5555555555555556,
              "#d8576b"
             ],
             [
              0.6666666666666666,
              "#ed7953"
             ],
             [
              0.7777777777777778,
              "#fb9f3a"
             ],
             [
              0.8888888888888888,
              "#fdca26"
             ],
             [
              1,
              "#f0f921"
             ]
            ],
            "type": "histogram2d"
           }
          ],
          "histogram2dcontour": [
           {
            "colorbar": {
             "outlinewidth": 0,
             "ticks": ""
            },
            "colorscale": [
             [
              0,
              "#0d0887"
             ],
             [
              0.1111111111111111,
              "#46039f"
             ],
             [
              0.2222222222222222,
              "#7201a8"
             ],
             [
              0.3333333333333333,
              "#9c179e"
             ],
             [
              0.4444444444444444,
              "#bd3786"
             ],
             [
              0.5555555555555556,
              "#d8576b"
             ],
             [
              0.6666666666666666,
              "#ed7953"
             ],
             [
              0.7777777777777778,
              "#fb9f3a"
             ],
             [
              0.8888888888888888,
              "#fdca26"
             ],
             [
              1,
              "#f0f921"
             ]
            ],
            "type": "histogram2dcontour"
           }
          ],
          "mesh3d": [
           {
            "colorbar": {
             "outlinewidth": 0,
             "ticks": ""
            },
            "type": "mesh3d"
           }
          ],
          "parcoords": [
           {
            "line": {
             "colorbar": {
              "outlinewidth": 0,
              "ticks": ""
             }
            },
            "type": "parcoords"
           }
          ],
          "pie": [
           {
            "automargin": true,
            "type": "pie"
           }
          ],
          "scatter": [
           {
            "fillpattern": {
             "fillmode": "overlay",
             "size": 10,
             "solidity": 0.2
            },
            "type": "scatter"
           }
          ],
          "scatter3d": [
           {
            "line": {
             "colorbar": {
              "outlinewidth": 0,
              "ticks": ""
             }
            },
            "marker": {
             "colorbar": {
              "outlinewidth": 0,
              "ticks": ""
             }
            },
            "type": "scatter3d"
           }
          ],
          "scattercarpet": [
           {
            "marker": {
             "colorbar": {
              "outlinewidth": 0,
              "ticks": ""
             }
            },
            "type": "scattercarpet"
           }
          ],
          "scattergeo": [
           {
            "marker": {
             "colorbar": {
              "outlinewidth": 0,
              "ticks": ""
             }
            },
            "type": "scattergeo"
           }
          ],
          "scattergl": [
           {
            "marker": {
             "colorbar": {
              "outlinewidth": 0,
              "ticks": ""
             }
            },
            "type": "scattergl"
           }
          ],
          "scattermapbox": [
           {
            "marker": {
             "colorbar": {
              "outlinewidth": 0,
              "ticks": ""
             }
            },
            "type": "scattermapbox"
           }
          ],
          "scatterpolar": [
           {
            "marker": {
             "colorbar": {
              "outlinewidth": 0,
              "ticks": ""
             }
            },
            "type": "scatterpolar"
           }
          ],
          "scatterpolargl": [
           {
            "marker": {
             "colorbar": {
              "outlinewidth": 0,
              "ticks": ""
             }
            },
            "type": "scatterpolargl"
           }
          ],
          "scatterternary": [
           {
            "marker": {
             "colorbar": {
              "outlinewidth": 0,
              "ticks": ""
             }
            },
            "type": "scatterternary"
           }
          ],
          "surface": [
           {
            "colorbar": {
             "outlinewidth": 0,
             "ticks": ""
            },
            "colorscale": [
             [
              0,
              "#0d0887"
             ],
             [
              0.1111111111111111,
              "#46039f"
             ],
             [
              0.2222222222222222,
              "#7201a8"
             ],
             [
              0.3333333333333333,
              "#9c179e"
             ],
             [
              0.4444444444444444,
              "#bd3786"
             ],
             [
              0.5555555555555556,
              "#d8576b"
             ],
             [
              0.6666666666666666,
              "#ed7953"
             ],
             [
              0.7777777777777778,
              "#fb9f3a"
             ],
             [
              0.8888888888888888,
              "#fdca26"
             ],
             [
              1,
              "#f0f921"
             ]
            ],
            "type": "surface"
           }
          ],
          "table": [
           {
            "cells": {
             "fill": {
              "color": "#EBF0F8"
             },
             "line": {
              "color": "white"
             }
            },
            "header": {
             "fill": {
              "color": "#C8D4E3"
             },
             "line": {
              "color": "white"
             }
            },
            "type": "table"
           }
          ]
         },
         "layout": {
          "annotationdefaults": {
           "arrowcolor": "#2a3f5f",
           "arrowhead": 0,
           "arrowwidth": 1
          },
          "autotypenumbers": "strict",
          "coloraxis": {
           "colorbar": {
            "outlinewidth": 0,
            "ticks": ""
           }
          },
          "colorscale": {
           "diverging": [
            [
             0,
             "#8e0152"
            ],
            [
             0.1,
             "#c51b7d"
            ],
            [
             0.2,
             "#de77ae"
            ],
            [
             0.3,
             "#f1b6da"
            ],
            [
             0.4,
             "#fde0ef"
            ],
            [
             0.5,
             "#f7f7f7"
            ],
            [
             0.6,
             "#e6f5d0"
            ],
            [
             0.7,
             "#b8e186"
            ],
            [
             0.8,
             "#7fbc41"
            ],
            [
             0.9,
             "#4d9221"
            ],
            [
             1,
             "#276419"
            ]
           ],
           "sequential": [
            [
             0,
             "#0d0887"
            ],
            [
             0.1111111111111111,
             "#46039f"
            ],
            [
             0.2222222222222222,
             "#7201a8"
            ],
            [
             0.3333333333333333,
             "#9c179e"
            ],
            [
             0.4444444444444444,
             "#bd3786"
            ],
            [
             0.5555555555555556,
             "#d8576b"
            ],
            [
             0.6666666666666666,
             "#ed7953"
            ],
            [
             0.7777777777777778,
             "#fb9f3a"
            ],
            [
             0.8888888888888888,
             "#fdca26"
            ],
            [
             1,
             "#f0f921"
            ]
           ],
           "sequentialminus": [
            [
             0,
             "#0d0887"
            ],
            [
             0.1111111111111111,
             "#46039f"
            ],
            [
             0.2222222222222222,
             "#7201a8"
            ],
            [
             0.3333333333333333,
             "#9c179e"
            ],
            [
             0.4444444444444444,
             "#bd3786"
            ],
            [
             0.5555555555555556,
             "#d8576b"
            ],
            [
             0.6666666666666666,
             "#ed7953"
            ],
            [
             0.7777777777777778,
             "#fb9f3a"
            ],
            [
             0.8888888888888888,
             "#fdca26"
            ],
            [
             1,
             "#f0f921"
            ]
           ]
          },
          "colorway": [
           "#636efa",
           "#EF553B",
           "#00cc96",
           "#ab63fa",
           "#FFA15A",
           "#19d3f3",
           "#FF6692",
           "#B6E880",
           "#FF97FF",
           "#FECB52"
          ],
          "font": {
           "color": "#2a3f5f"
          },
          "geo": {
           "bgcolor": "white",
           "lakecolor": "white",
           "landcolor": "#E5ECF6",
           "showlakes": true,
           "showland": true,
           "subunitcolor": "white"
          },
          "hoverlabel": {
           "align": "left"
          },
          "hovermode": "closest",
          "mapbox": {
           "style": "light"
          },
          "paper_bgcolor": "white",
          "plot_bgcolor": "#E5ECF6",
          "polar": {
           "angularaxis": {
            "gridcolor": "white",
            "linecolor": "white",
            "ticks": ""
           },
           "bgcolor": "#E5ECF6",
           "radialaxis": {
            "gridcolor": "white",
            "linecolor": "white",
            "ticks": ""
           }
          },
          "scene": {
           "xaxis": {
            "backgroundcolor": "#E5ECF6",
            "gridcolor": "white",
            "gridwidth": 2,
            "linecolor": "white",
            "showbackground": true,
            "ticks": "",
            "zerolinecolor": "white"
           },
           "yaxis": {
            "backgroundcolor": "#E5ECF6",
            "gridcolor": "white",
            "gridwidth": 2,
            "linecolor": "white",
            "showbackground": true,
            "ticks": "",
            "zerolinecolor": "white"
           },
           "zaxis": {
            "backgroundcolor": "#E5ECF6",
            "gridcolor": "white",
            "gridwidth": 2,
            "linecolor": "white",
            "showbackground": true,
            "ticks": "",
            "zerolinecolor": "white"
           }
          },
          "shapedefaults": {
           "line": {
            "color": "#2a3f5f"
           }
          },
          "ternary": {
           "aaxis": {
            "gridcolor": "white",
            "linecolor": "white",
            "ticks": ""
           },
           "baxis": {
            "gridcolor": "white",
            "linecolor": "white",
            "ticks": ""
           },
           "bgcolor": "#E5ECF6",
           "caxis": {
            "gridcolor": "white",
            "linecolor": "white",
            "ticks": ""
           }
          },
          "title": {
           "x": 0.05
          },
          "xaxis": {
           "automargin": true,
           "gridcolor": "white",
           "linecolor": "white",
           "ticks": "",
           "title": {
            "standoff": 15
           },
           "zerolinecolor": "white",
           "zerolinewidth": 2
          },
          "yaxis": {
           "automargin": true,
           "gridcolor": "white",
           "linecolor": "white",
           "ticks": "",
           "title": {
            "standoff": 15
           },
           "zerolinecolor": "white",
           "zerolinewidth": 2
          }
         }
        },
        "title": {
         "text": "Inequality over time (Gini, Theil, Atkinson)"
        },
        "xaxis": {
         "anchor": "y",
         "domain": [
          0,
          1
         ],
         "title": {
          "text": "Year"
         }
        },
        "yaxis": {
         "anchor": "x",
         "domain": [
          0,
          1
         ],
         "title": {
          "text": "Index value"
         }
        }
       }
      }
     },
     "metadata": {},
     "output_type": "display_data"
    },
    {
     "data": {
      "application/vnd.plotly.v1+json": {
       "config": {
        "plotlyServerURL": "https://plot.ly"
       },
       "data": [
        {
         "hovertemplate": "variable=Kakwani<br>year=%{x}<br>value=%{y}<extra></extra>",
         "legendgroup": "Kakwani",
         "line": {
          "color": "#636efa",
          "dash": "solid"
         },
         "marker": {
          "symbol": "circle"
         },
         "mode": "markers+lines",
         "name": "Kakwani",
         "orientation": "v",
         "showlegend": true,
         "type": "scatter",
         "x": [
          2004,
          2005,
          2006,
          2007,
          2008,
          2009,
          2010,
          2011,
          2012,
          2013,
          2014,
          2015,
          2016,
          2017,
          2018,
          2019,
          2020,
          2021,
          2022,
          2023
         ],
         "xaxis": "x",
         "y": [
          0.3863886715144891,
          0.3874881052030521,
          0.3816948961617087,
          0.3739838772611622,
          0.37779082979586864,
          0.37774965814759043,
          0.36225294156615395,
          0.37369662479899446,
          0.38022902941578973,
          0.40432473261836344,
          0.3765853158080241,
          0.4076056063323895,
          0.37000451842905546,
          0.38951121166302527,
          0.37255770710050096,
          0.38310897736436367,
          0.3651928006209655,
          0.36101816386699415,
          0.3547495897954249,
          0.34777904933877035
         ],
         "yaxis": "y"
        },
        {
         "hovertemplate": "variable=RS<br>year=%{x}<br>value=%{y}<extra></extra>",
         "legendgroup": "RS",
         "line": {
          "color": "#EF553B",
          "dash": "solid"
         },
         "marker": {
          "symbol": "circle"
         },
         "mode": "markers+lines",
         "name": "RS",
         "orientation": "v",
         "showlegend": true,
         "type": "scatter",
         "x": [
          2004,
          2005,
          2006,
          2007,
          2008,
          2009,
          2010,
          2011,
          2012,
          2013,
          2014,
          2015,
          2016,
          2017,
          2018,
          2019,
          2020,
          2021,
          2022,
          2023
         ],
         "xaxis": "x",
         "y": [
          0.023735506925428917,
          0.025683356695513804,
          0.0258758360611393,
          0.02583023895055936,
          0.026082555830498122,
          0.026301593969151993,
          0.0264369705255606,
          0.02576647586332914,
          0.026475168408005567,
          0.02518084990563707,
          0.025663242720358914,
          0.025952460813841616,
          0.025904139506390367,
          0.02688697841735954,
          0.027257330610093167,
          0.027837945802701936,
          0.027225446185613955,
          0.027834190356857413,
          0.028929666152704647,
          0.028409420908280136
         ],
         "yaxis": "y"
        },
        {
         "hovertemplate": "variable=Avg_ETR<br>year=%{x}<br>value=%{y}<extra></extra>",
         "legendgroup": "Avg_ETR",
         "line": {
          "color": "#00cc96",
          "dash": "solid"
         },
         "marker": {
          "symbol": "circle"
         },
         "mode": "markers+lines",
         "name": "Avg_ETR",
         "orientation": "v",
         "showlegend": true,
         "type": "scatter",
         "x": [
          2004,
          2005,
          2006,
          2007,
          2008,
          2009,
          2010,
          2011,
          2012,
          2013,
          2014,
          2015,
          2016,
          2017,
          2018,
          2019,
          2020,
          2021,
          2022,
          2023
         ],
         "xaxis": "x",
         "y": [
          0.05787395177655022,
          0.062161497257085654,
          0.06348796421179495,
          0.06460562021997501,
          0.06458102157448849,
          0.06509469734684255,
          0.06801558183820998,
          0.06450276839239333,
          0.0650968653622701,
          0.05862752646347764,
          0.0637994647246151,
          0.05985925019148204,
          0.06542958580767931,
          0.064570353709196,
          0.06817485096651958,
          0.06774097634838562,
          0.06937864486977634,
          0.07158035705458052,
          0.07540065224849071,
          0.07551911649398238
         ],
         "yaxis": "y"
        }
       ],
       "layout": {
        "hovermode": "x unified",
        "legend": {
         "title": {
          "text": "variable"
         },
         "tracegroupgap": 0
        },
        "margin": {
         "b": 40,
         "l": 40,
         "r": 20,
         "t": 60
        },
        "template": {
         "data": {
          "bar": [
           {
            "error_x": {
             "color": "#2a3f5f"
            },
            "error_y": {
             "color": "#2a3f5f"
            },
            "marker": {
             "line": {
              "color": "#E5ECF6",
              "width": 0.5
             },
             "pattern": {
              "fillmode": "overlay",
              "size": 10,
              "solidity": 0.2
             }
            },
            "type": "bar"
           }
          ],
          "barpolar": [
           {
            "marker": {
             "line": {
              "color": "#E5ECF6",
              "width": 0.5
             },
             "pattern": {
              "fillmode": "overlay",
              "size": 10,
              "solidity": 0.2
             }
            },
            "type": "barpolar"
           }
          ],
          "carpet": [
           {
            "aaxis": {
             "endlinecolor": "#2a3f5f",
             "gridcolor": "white",
             "linecolor": "white",
             "minorgridcolor": "white",
             "startlinecolor": "#2a3f5f"
            },
            "baxis": {
             "endlinecolor": "#2a3f5f",
             "gridcolor": "white",
             "linecolor": "white",
             "minorgridcolor": "white",
             "startlinecolor": "#2a3f5f"
            },
            "type": "carpet"
           }
          ],
          "choropleth": [
           {
            "colorbar": {
             "outlinewidth": 0,
             "ticks": ""
            },
            "type": "choropleth"
           }
          ],
          "contour": [
           {
            "colorbar": {
             "outlinewidth": 0,
             "ticks": ""
            },
            "colorscale": [
             [
              0,
              "#0d0887"
             ],
             [
              0.1111111111111111,
              "#46039f"
             ],
             [
              0.2222222222222222,
              "#7201a8"
             ],
             [
              0.3333333333333333,
              "#9c179e"
             ],
             [
              0.4444444444444444,
              "#bd3786"
             ],
             [
              0.5555555555555556,
              "#d8576b"
             ],
             [
              0.6666666666666666,
              "#ed7953"
             ],
             [
              0.7777777777777778,
              "#fb9f3a"
             ],
             [
              0.8888888888888888,
              "#fdca26"
             ],
             [
              1,
              "#f0f921"
             ]
            ],
            "type": "contour"
           }
          ],
          "contourcarpet": [
           {
            "colorbar": {
             "outlinewidth": 0,
             "ticks": ""
            },
            "type": "contourcarpet"
           }
          ],
          "heatmap": [
           {
            "colorbar": {
             "outlinewidth": 0,
             "ticks": ""
            },
            "colorscale": [
             [
              0,
              "#0d0887"
             ],
             [
              0.1111111111111111,
              "#46039f"
             ],
             [
              0.2222222222222222,
              "#7201a8"
             ],
             [
              0.3333333333333333,
              "#9c179e"
             ],
             [
              0.4444444444444444,
              "#bd3786"
             ],
             [
              0.5555555555555556,
              "#d8576b"
             ],
             [
              0.6666666666666666,
              "#ed7953"
             ],
             [
              0.7777777777777778,
              "#fb9f3a"
             ],
             [
              0.8888888888888888,
              "#fdca26"
             ],
             [
              1,
              "#f0f921"
             ]
            ],
            "type": "heatmap"
           }
          ],
          "heatmapgl": [
           {
            "colorbar": {
             "outlinewidth": 0,
             "ticks": ""
            },
            "colorscale": [
             [
              0,
              "#0d0887"
             ],
             [
              0.1111111111111111,
              "#46039f"
             ],
             [
              0.2222222222222222,
              "#7201a8"
             ],
             [
              0.3333333333333333,
              "#9c179e"
             ],
             [
              0.4444444444444444,
              "#bd3786"
             ],
             [
              0.5555555555555556,
              "#d8576b"
             ],
             [
              0.6666666666666666,
              "#ed7953"
             ],
             [
              0.7777777777777778,
              "#fb9f3a"
             ],
             [
              0.8888888888888888,
              "#fdca26"
             ],
             [
              1,
              "#f0f921"
             ]
            ],
            "type": "heatmapgl"
           }
          ],
          "histogram": [
           {
            "marker": {
             "pattern": {
              "fillmode": "overlay",
              "size": 10,
              "solidity": 0.2
             }
            },
            "type": "histogram"
           }
          ],
          "histogram2d": [
           {
            "colorbar": {
             "outlinewidth": 0,
             "ticks": ""
            },
            "colorscale": [
             [
              0,
              "#0d0887"
             ],
             [
              0.1111111111111111,
              "#46039f"
             ],
             [
              0.2222222222222222,
              "#7201a8"
             ],
             [
              0.3333333333333333,
              "#9c179e"
             ],
             [
              0.4444444444444444,
              "#bd3786"
             ],
             [
              0.5555555555555556,
              "#d8576b"
             ],
             [
              0.6666666666666666,
              "#ed7953"
             ],
             [
              0.7777777777777778,
              "#fb9f3a"
             ],
             [
              0.8888888888888888,
              "#fdca26"
             ],
             [
              1,
              "#f0f921"
             ]
            ],
            "type": "histogram2d"
           }
          ],
          "histogram2dcontour": [
           {
            "colorbar": {
             "outlinewidth": 0,
             "ticks": ""
            },
            "colorscale": [
             [
              0,
              "#0d0887"
             ],
             [
              0.1111111111111111,
              "#46039f"
             ],
             [
              0.2222222222222222,
              "#7201a8"
             ],
             [
              0.3333333333333333,
              "#9c179e"
             ],
             [
              0.4444444444444444,
              "#bd3786"
             ],
             [
              0.5555555555555556,
              "#d8576b"
             ],
             [
              0.6666666666666666,
              "#ed7953"
             ],
             [
              0.7777777777777778,
              "#fb9f3a"
             ],
             [
              0.8888888888888888,
              "#fdca26"
             ],
             [
              1,
              "#f0f921"
             ]
            ],
            "type": "histogram2dcontour"
           }
          ],
          "mesh3d": [
           {
            "colorbar": {
             "outlinewidth": 0,
             "ticks": ""
            },
            "type": "mesh3d"
           }
          ],
          "parcoords": [
           {
            "line": {
             "colorbar": {
              "outlinewidth": 0,
              "ticks": ""
             }
            },
            "type": "parcoords"
           }
          ],
          "pie": [
           {
            "automargin": true,
            "type": "pie"
           }
          ],
          "scatter": [
           {
            "fillpattern": {
             "fillmode": "overlay",
             "size": 10,
             "solidity": 0.2
            },
            "type": "scatter"
           }
          ],
          "scatter3d": [
           {
            "line": {
             "colorbar": {
              "outlinewidth": 0,
              "ticks": ""
             }
            },
            "marker": {
             "colorbar": {
              "outlinewidth": 0,
              "ticks": ""
             }
            },
            "type": "scatter3d"
           }
          ],
          "scattercarpet": [
           {
            "marker": {
             "colorbar": {
              "outlinewidth": 0,
              "ticks": ""
             }
            },
            "type": "scattercarpet"
           }
          ],
          "scattergeo": [
           {
            "marker": {
             "colorbar": {
              "outlinewidth": 0,
              "ticks": ""
             }
            },
            "type": "scattergeo"
           }
          ],
          "scattergl": [
           {
            "marker": {
             "colorbar": {
              "outlinewidth": 0,
              "ticks": ""
             }
            },
            "type": "scattergl"
           }
          ],
          "scattermapbox": [
           {
            "marker": {
             "colorbar": {
              "outlinewidth": 0,
              "ticks": ""
             }
            },
            "type": "scattermapbox"
           }
          ],
          "scatterpolar": [
           {
            "marker": {
             "colorbar": {
              "outlinewidth": 0,
              "ticks": ""
             }
            },
            "type": "scatterpolar"
           }
          ],
          "scatterpolargl": [
           {
            "marker": {
             "colorbar": {
              "outlinewidth": 0,
              "ticks": ""
             }
            },
            "type": "scatterpolargl"
           }
          ],
          "scatterternary": [
           {
            "marker": {
             "colorbar": {
              "outlinewidth": 0,
              "ticks": ""
             }
            },
            "type": "scatterternary"
           }
          ],
          "surface": [
           {
            "colorbar": {
             "outlinewidth": 0,
             "ticks": ""
            },
            "colorscale": [
             [
              0,
              "#0d0887"
             ],
             [
              0.1111111111111111,
              "#46039f"
             ],
             [
              0.2222222222222222,
              "#7201a8"
             ],
             [
              0.3333333333333333,
              "#9c179e"
             ],
             [
              0.4444444444444444,
              "#bd3786"
             ],
             [
              0.5555555555555556,
              "#d8576b"
             ],
             [
              0.6666666666666666,
              "#ed7953"
             ],
             [
              0.7777777777777778,
              "#fb9f3a"
             ],
             [
              0.8888888888888888,
              "#fdca26"
             ],
             [
              1,
              "#f0f921"
             ]
            ],
            "type": "surface"
           }
          ],
          "table": [
           {
            "cells": {
             "fill": {
              "color": "#EBF0F8"
             },
             "line": {
              "color": "white"
             }
            },
            "header": {
             "fill": {
              "color": "#C8D4E3"
             },
             "line": {
              "color": "white"
             }
            },
            "type": "table"
           }
          ]
         },
         "layout": {
          "annotationdefaults": {
           "arrowcolor": "#2a3f5f",
           "arrowhead": 0,
           "arrowwidth": 1
          },
          "autotypenumbers": "strict",
          "coloraxis": {
           "colorbar": {
            "outlinewidth": 0,
            "ticks": ""
           }
          },
          "colorscale": {
           "diverging": [
            [
             0,
             "#8e0152"
            ],
            [
             0.1,
             "#c51b7d"
            ],
            [
             0.2,
             "#de77ae"
            ],
            [
             0.3,
             "#f1b6da"
            ],
            [
             0.4,
             "#fde0ef"
            ],
            [
             0.5,
             "#f7f7f7"
            ],
            [
             0.6,
             "#e6f5d0"
            ],
            [
             0.7,
             "#b8e186"
            ],
            [
             0.8,
             "#7fbc41"
            ],
            [
             0.9,
             "#4d9221"
            ],
            [
             1,
             "#276419"
            ]
           ],
           "sequential": [
            [
             0,
             "#0d0887"
            ],
            [
             0.1111111111111111,
             "#46039f"
            ],
            [
             0.2222222222222222,
             "#7201a8"
            ],
            [
             0.3333333333333333,
             "#9c179e"
            ],
            [
             0.4444444444444444,
             "#bd3786"
            ],
            [
             0.5555555555555556,
             "#d8576b"
            ],
            [
             0.6666666666666666,
             "#ed7953"
            ],
            [
             0.7777777777777778,
             "#fb9f3a"
            ],
            [
             0.8888888888888888,
             "#fdca26"
            ],
            [
             1,
             "#f0f921"
            ]
           ],
           "sequentialminus": [
            [
             0,
             "#0d0887"
            ],
            [
             0.1111111111111111,
             "#46039f"
            ],
            [
             0.2222222222222222,
             "#7201a8"
            ],
            [
             0.3333333333333333,
             "#9c179e"
            ],
            [
             0.4444444444444444,
             "#bd3786"
            ],
            [
             0.5555555555555556,
             "#d8576b"
            ],
            [
             0.6666666666666666,
             "#ed7953"
            ],
            [
             0.7777777777777778,
             "#fb9f3a"
            ],
            [
             0.8888888888888888,
             "#fdca26"
            ],
            [
             1,
             "#f0f921"
            ]
           ]
          },
          "colorway": [
           "#636efa",
           "#EF553B",
           "#00cc96",
           "#ab63fa",
           "#FFA15A",
           "#19d3f3",
           "#FF6692",
           "#B6E880",
           "#FF97FF",
           "#FECB52"
          ],
          "font": {
           "color": "#2a3f5f"
          },
          "geo": {
           "bgcolor": "white",
           "lakecolor": "white",
           "landcolor": "#E5ECF6",
           "showlakes": true,
           "showland": true,
           "subunitcolor": "white"
          },
          "hoverlabel": {
           "align": "left"
          },
          "hovermode": "closest",
          "mapbox": {
           "style": "light"
          },
          "paper_bgcolor": "white",
          "plot_bgcolor": "#E5ECF6",
          "polar": {
           "angularaxis": {
            "gridcolor": "white",
            "linecolor": "white",
            "ticks": ""
           },
           "bgcolor": "#E5ECF6",
           "radialaxis": {
            "gridcolor": "white",
            "linecolor": "white",
            "ticks": ""
           }
          },
          "scene": {
           "xaxis": {
            "backgroundcolor": "#E5ECF6",
            "gridcolor": "white",
            "gridwidth": 2,
            "linecolor": "white",
            "showbackground": true,
            "ticks": "",
            "zerolinecolor": "white"
           },
           "yaxis": {
            "backgroundcolor": "#E5ECF6",
            "gridcolor": "white",
            "gridwidth": 2,
            "linecolor": "white",
            "showbackground": true,
            "ticks": "",
            "zerolinecolor": "white"
           },
           "zaxis": {
            "backgroundcolor": "#E5ECF6",
            "gridcolor": "white",
            "gridwidth": 2,
            "linecolor": "white",
            "showbackground": true,
            "ticks": "",
            "zerolinecolor": "white"
           }
          },
          "shapedefaults": {
           "line": {
            "color": "#2a3f5f"
           }
          },
          "ternary": {
           "aaxis": {
            "gridcolor": "white",
            "linecolor": "white",
            "ticks": ""
           },
           "baxis": {
            "gridcolor": "white",
            "linecolor": "white",
            "ticks": ""
           },
           "bgcolor": "#E5ECF6",
           "caxis": {
            "gridcolor": "white",
            "linecolor": "white",
            "ticks": ""
           }
          },
          "title": {
           "x": 0.05
          },
          "xaxis": {
           "automargin": true,
           "gridcolor": "white",
           "linecolor": "white",
           "ticks": "",
           "title": {
            "standoff": 15
           },
           "zerolinecolor": "white",
           "zerolinewidth": 2
          },
          "yaxis": {
           "automargin": true,
           "gridcolor": "white",
           "linecolor": "white",
           "ticks": "",
           "title": {
            "standoff": 15
           },
           "zerolinecolor": "white",
           "zerolinewidth": 2
          }
         }
        },
        "title": {
         "text": "Tax progressivity (Kakwani), redistribution (RS) & average ETR"
        },
        "xaxis": {
         "anchor": "y",
         "domain": [
          0,
          1
         ],
         "title": {
          "text": "year"
         }
        },
        "yaxis": {
         "anchor": "x",
         "domain": [
          0,
          1
         ],
         "tickformat": ".3f",
         "title": {
          "text": "Index / Rate"
         }
        }
       }
      }
     },
     "metadata": {},
     "output_type": "display_data"
    },
    {
     "data": {
      "application/vnd.plotly.v1+json": {
       "config": {
        "plotlyServerURL": "https://plot.ly"
       },
       "data": [
        {
         "hovertemplate": "P%{x:.0f}<br>Growth: %{y:.2%}<extra></extra>",
         "legendgroup": "",
         "line": {
          "color": "#636efa",
          "dash": "solid"
         },
         "marker": {
          "symbol": "circle"
         },
         "mode": "markers+lines",
         "name": "",
         "orientation": "v",
         "showlegend": false,
         "type": "scatter",
         "x": [
          1,
          2,
          3,
          4,
          5,
          6.000000000000001,
          6.999999999999999,
          8,
          9,
          10,
          11,
          12,
          13,
          14.000000000000002,
          15.000000000000002,
          16,
          17,
          18.000000000000004,
          19,
          20,
          21.000000000000004,
          22,
          23,
          24.000000000000004,
          25,
          26,
          27,
          28.000000000000004,
          29.000000000000004,
          30,
          31,
          32,
          33,
          34,
          35,
          36.00000000000001,
          37,
          38,
          39,
          40,
          41,
          42.00000000000001,
          43,
          44,
          45,
          46,
          47,
          48.00000000000001,
          49,
          50,
          51,
          52,
          53,
          54,
          55.00000000000001,
          56.00000000000001,
          57.00000000000001,
          58.00000000000001,
          59,
          60,
          61,
          62,
          63,
          64,
          65,
          66,
          67,
          68,
          69,
          70,
          71.00000000000001,
          72,
          73,
          74,
          75,
          76,
          77,
          78,
          79,
          80,
          81,
          82,
          83,
          84.00000000000001,
          85,
          86,
          87,
          88,
          89,
          90,
          91,
          92,
          93,
          94,
          95,
          96.00000000000001,
          97,
          98,
          99
         ],
         "xaxis": "x",
         "y": [
          0.016959265653384605,
          0.03175497867153153,
          0.035316540557578734,
          0.033627163392513516,
          0.04668874834356245,
          0.05917251080050784,
          0.07111596384485722,
          0.08255344213524131,
          0.08228989311009362,
          0.08168745103931378,
          0.08110900601746777,
          0.08085497605076576,
          0.0860598932694005,
          0.0911216681299052,
          0.09604612545358468,
          0.10083877825569766,
          0.10550484833387604,
          0.11004928524647226,
          0.11447678382584534,
          0.1187918003568539,
          0.12299856753775529,
          0.12710110832909693,
          0.13110324878584736,
          0.13500862995880364,
          0.14198017743613806,
          0.1496525089397881,
          0.15714583892633105,
          0.16446635953095762,
          0.17161998054149263,
          0.17861234531001569,
          0.18544884560043653,
          0.19213463545412884,
          0.1986746441485589,
          0.20507358831738093,
          0.2113359832946312,
          0.2150269656392826,
          0.21633463752014082,
          0.22141268566088568,
          0.22848769560323967,
          0.23536944489403283,
          0.24206574548660817,
          0.24858399390035404,
          0.2549311984739712,
          0.2611140045010795,
          0.2671387174376918,
          0.27301132435192504,
          0.27873751376934575,
          0.28931736313927614,
          0.3015439708971422,
          0.3134767308564154,
          0.32512611050501294,
          0.3365020859991629,
          0.34472538928562,
          0.3470274456219635,
          0.35063357865959893,
          0.3585122490254113,
          0.36612625532709364,
          0.3734887133515402,
          0.38061188634115223,
          0.3875072531568943,
          0.39546594714998773,
          0.4108156971368549,
          0.42569701805852517,
          0.43728801655154675,
          0.44172462387059824,
          0.44597630552990536,
          0.4500543875296755,
          0.45396928947474086,
          0.4577306134671703,
          0.4613472227386126,
          0.4854625320761342,
          0.5042063480872783,
          0.5187950672093622,
          0.5326798382624359,
          0.545910412239843,
          0.5585319598854199,
          0.5675985750912164,
          0.5581869762182596,
          0.549411122960687,
          0.5412087037407358,
          0.5335252925094798,
          0.5263131396090387,
          0.5195301785004314,
          0.5253764558239246,
          0.5073780580664551,
          0.49139042444013514,
          0.4770944206125771,
          0.4642350532556145,
          0.45260612681076606,
          0.4619424369777643,
          0.5240903954146233,
          0.5394355849315351,
          0.5081757239925078,
          0.4820674925505877,
          0.4278937513014381,
          0.3943255540567446,
          0.38532119739763754,
          0.39289233174325705,
          0.662125941173268
         ],
         "yaxis": "y"
        }
       ],
       "layout": {
        "hovermode": "x",
        "legend": {
         "tracegroupgap": 0
        },
        "margin": {
         "b": 40,
         "l": 40,
         "r": 20,
         "t": 60
        },
        "template": {
         "data": {
          "bar": [
           {
            "error_x": {
             "color": "#2a3f5f"
            },
            "error_y": {
             "color": "#2a3f5f"
            },
            "marker": {
             "line": {
              "color": "#E5ECF6",
              "width": 0.5
             },
             "pattern": {
              "fillmode": "overlay",
              "size": 10,
              "solidity": 0.2
             }
            },
            "type": "bar"
           }
          ],
          "barpolar": [
           {
            "marker": {
             "line": {
              "color": "#E5ECF6",
              "width": 0.5
             },
             "pattern": {
              "fillmode": "overlay",
              "size": 10,
              "solidity": 0.2
             }
            },
            "type": "barpolar"
           }
          ],
          "carpet": [
           {
            "aaxis": {
             "endlinecolor": "#2a3f5f",
             "gridcolor": "white",
             "linecolor": "white",
             "minorgridcolor": "white",
             "startlinecolor": "#2a3f5f"
            },
            "baxis": {
             "endlinecolor": "#2a3f5f",
             "gridcolor": "white",
             "linecolor": "white",
             "minorgridcolor": "white",
             "startlinecolor": "#2a3f5f"
            },
            "type": "carpet"
           }
          ],
          "choropleth": [
           {
            "colorbar": {
             "outlinewidth": 0,
             "ticks": ""
            },
            "type": "choropleth"
           }
          ],
          "contour": [
           {
            "colorbar": {
             "outlinewidth": 0,
             "ticks": ""
            },
            "colorscale": [
             [
              0,
              "#0d0887"
             ],
             [
              0.1111111111111111,
              "#46039f"
             ],
             [
              0.2222222222222222,
              "#7201a8"
             ],
             [
              0.3333333333333333,
              "#9c179e"
             ],
             [
              0.4444444444444444,
              "#bd3786"
             ],
             [
              0.5555555555555556,
              "#d8576b"
             ],
             [
              0.6666666666666666,
              "#ed7953"
             ],
             [
              0.7777777777777778,
              "#fb9f3a"
             ],
             [
              0.8888888888888888,
              "#fdca26"
             ],
             [
              1,
              "#f0f921"
             ]
            ],
            "type": "contour"
           }
          ],
          "contourcarpet": [
           {
            "colorbar": {
             "outlinewidth": 0,
             "ticks": ""
            },
            "type": "contourcarpet"
           }
          ],
          "heatmap": [
           {
            "colorbar": {
             "outlinewidth": 0,
             "ticks": ""
            },
            "colorscale": [
             [
              0,
              "#0d0887"
             ],
             [
              0.1111111111111111,
              "#46039f"
             ],
             [
              0.2222222222222222,
              "#7201a8"
             ],
             [
              0.3333333333333333,
              "#9c179e"
             ],
             [
              0.4444444444444444,
              "#bd3786"
             ],
             [
              0.5555555555555556,
              "#d8576b"
             ],
             [
              0.6666666666666666,
              "#ed7953"
             ],
             [
              0.7777777777777778,
              "#fb9f3a"
             ],
             [
              0.8888888888888888,
              "#fdca26"
             ],
             [
              1,
              "#f0f921"
             ]
            ],
            "type": "heatmap"
           }
          ],
          "heatmapgl": [
           {
            "colorbar": {
             "outlinewidth": 0,
             "ticks": ""
            },
            "colorscale": [
             [
              0,
              "#0d0887"
             ],
             [
              0.1111111111111111,
              "#46039f"
             ],
             [
              0.2222222222222222,
              "#7201a8"
             ],
             [
              0.3333333333333333,
              "#9c179e"
             ],
             [
              0.4444444444444444,
              "#bd3786"
             ],
             [
              0.5555555555555556,
              "#d8576b"
             ],
             [
              0.6666666666666666,
              "#ed7953"
             ],
             [
              0.7777777777777778,
              "#fb9f3a"
             ],
             [
              0.8888888888888888,
              "#fdca26"
             ],
             [
              1,
              "#f0f921"
             ]
            ],
            "type": "heatmapgl"
           }
          ],
          "histogram": [
           {
            "marker": {
             "pattern": {
              "fillmode": "overlay",
              "size": 10,
              "solidity": 0.2
             }
            },
            "type": "histogram"
           }
          ],
          "histogram2d": [
           {
            "colorbar": {
             "outlinewidth": 0,
             "ticks": ""
            },
            "colorscale": [
             [
              0,
              "#0d0887"
             ],
             [
              0.1111111111111111,
              "#46039f"
             ],
             [
              0.2222222222222222,
              "#7201a8"
             ],
             [
              0.3333333333333333,
              "#9c179e"
             ],
             [
              0.4444444444444444,
              "#bd3786"
             ],
             [
              0.5555555555555556,
              "#d8576b"
             ],
             [
              0.6666666666666666,
              "#ed7953"
             ],
             [
              0.7777777777777778,
              "#fb9f3a"
             ],
             [
              0.8888888888888888,
              "#fdca26"
             ],
             [
              1,
              "#f0f921"
             ]
            ],
            "type": "histogram2d"
           }
          ],
          "histogram2dcontour": [
           {
            "colorbar": {
             "outlinewidth": 0,
             "ticks": ""
            },
            "colorscale": [
             [
              0,
              "#0d0887"
             ],
             [
              0.1111111111111111,
              "#46039f"
             ],
             [
              0.2222222222222222,
              "#7201a8"
             ],
             [
              0.3333333333333333,
              "#9c179e"
             ],
             [
              0.4444444444444444,
              "#bd3786"
             ],
             [
              0.5555555555555556,
              "#d8576b"
             ],
             [
              0.6666666666666666,
              "#ed7953"
             ],
             [
              0.7777777777777778,
              "#fb9f3a"
             ],
             [
              0.8888888888888888,
              "#fdca26"
             ],
             [
              1,
              "#f0f921"
             ]
            ],
            "type": "histogram2dcontour"
           }
          ],
          "mesh3d": [
           {
            "colorbar": {
             "outlinewidth": 0,
             "ticks": ""
            },
            "type": "mesh3d"
           }
          ],
          "parcoords": [
           {
            "line": {
             "colorbar": {
              "outlinewidth": 0,
              "ticks": ""
             }
            },
            "type": "parcoords"
           }
          ],
          "pie": [
           {
            "automargin": true,
            "type": "pie"
           }
          ],
          "scatter": [
           {
            "fillpattern": {
             "fillmode": "overlay",
             "size": 10,
             "solidity": 0.2
            },
            "type": "scatter"
           }
          ],
          "scatter3d": [
           {
            "line": {
             "colorbar": {
              "outlinewidth": 0,
              "ticks": ""
             }
            },
            "marker": {
             "colorbar": {
              "outlinewidth": 0,
              "ticks": ""
             }
            },
            "type": "scatter3d"
           }
          ],
          "scattercarpet": [
           {
            "marker": {
             "colorbar": {
              "outlinewidth": 0,
              "ticks": ""
             }
            },
            "type": "scattercarpet"
           }
          ],
          "scattergeo": [
           {
            "marker": {
             "colorbar": {
              "outlinewidth": 0,
              "ticks": ""
             }
            },
            "type": "scattergeo"
           }
          ],
          "scattergl": [
           {
            "marker": {
             "colorbar": {
              "outlinewidth": 0,
              "ticks": ""
             }
            },
            "type": "scattergl"
           }
          ],
          "scattermapbox": [
           {
            "marker": {
             "colorbar": {
              "outlinewidth": 0,
              "ticks": ""
             }
            },
            "type": "scattermapbox"
           }
          ],
          "scatterpolar": [
           {
            "marker": {
             "colorbar": {
              "outlinewidth": 0,
              "ticks": ""
             }
            },
            "type": "scatterpolar"
           }
          ],
          "scatterpolargl": [
           {
            "marker": {
             "colorbar": {
              "outlinewidth": 0,
              "ticks": ""
             }
            },
            "type": "scatterpolargl"
           }
          ],
          "scatterternary": [
           {
            "marker": {
             "colorbar": {
              "outlinewidth": 0,
              "ticks": ""
             }
            },
            "type": "scatterternary"
           }
          ],
          "surface": [
           {
            "colorbar": {
             "outlinewidth": 0,
             "ticks": ""
            },
            "colorscale": [
             [
              0,
              "#0d0887"
             ],
             [
              0.1111111111111111,
              "#46039f"
             ],
             [
              0.2222222222222222,
              "#7201a8"
             ],
             [
              0.3333333333333333,
              "#9c179e"
             ],
             [
              0.4444444444444444,
              "#bd3786"
             ],
             [
              0.5555555555555556,
              "#d8576b"
             ],
             [
              0.6666666666666666,
              "#ed7953"
             ],
             [
              0.7777777777777778,
              "#fb9f3a"
             ],
             [
              0.8888888888888888,
              "#fdca26"
             ],
             [
              1,
              "#f0f921"
             ]
            ],
            "type": "surface"
           }
          ],
          "table": [
           {
            "cells": {
             "fill": {
              "color": "#EBF0F8"
             },
             "line": {
              "color": "white"
             }
            },
            "header": {
             "fill": {
              "color": "#C8D4E3"
             },
             "line": {
              "color": "white"
             }
            },
            "type": "table"
           }
          ]
         },
         "layout": {
          "annotationdefaults": {
           "arrowcolor": "#2a3f5f",
           "arrowhead": 0,
           "arrowwidth": 1
          },
          "autotypenumbers": "strict",
          "coloraxis": {
           "colorbar": {
            "outlinewidth": 0,
            "ticks": ""
           }
          },
          "colorscale": {
           "diverging": [
            [
             0,
             "#8e0152"
            ],
            [
             0.1,
             "#c51b7d"
            ],
            [
             0.2,
             "#de77ae"
            ],
            [
             0.3,
             "#f1b6da"
            ],
            [
             0.4,
             "#fde0ef"
            ],
            [
             0.5,
             "#f7f7f7"
            ],
            [
             0.6,
             "#e6f5d0"
            ],
            [
             0.7,
             "#b8e186"
            ],
            [
             0.8,
             "#7fbc41"
            ],
            [
             0.9,
             "#4d9221"
            ],
            [
             1,
             "#276419"
            ]
           ],
           "sequential": [
            [
             0,
             "#0d0887"
            ],
            [
             0.1111111111111111,
             "#46039f"
            ],
            [
             0.2222222222222222,
             "#7201a8"
            ],
            [
             0.3333333333333333,
             "#9c179e"
            ],
            [
             0.4444444444444444,
             "#bd3786"
            ],
            [
             0.5555555555555556,
             "#d8576b"
            ],
            [
             0.6666666666666666,
             "#ed7953"
            ],
            [
             0.7777777777777778,
             "#fb9f3a"
            ],
            [
             0.8888888888888888,
             "#fdca26"
            ],
            [
             1,
             "#f0f921"
            ]
           ],
           "sequentialminus": [
            [
             0,
             "#0d0887"
            ],
            [
             0.1111111111111111,
             "#46039f"
            ],
            [
             0.2222222222222222,
             "#7201a8"
            ],
            [
             0.3333333333333333,
             "#9c179e"
            ],
            [
             0.4444444444444444,
             "#bd3786"
            ],
            [
             0.5555555555555556,
             "#d8576b"
            ],
            [
             0.6666666666666666,
             "#ed7953"
            ],
            [
             0.7777777777777778,
             "#fb9f3a"
            ],
            [
             0.8888888888888888,
             "#fdca26"
            ],
            [
             1,
             "#f0f921"
            ]
           ]
          },
          "colorway": [
           "#636efa",
           "#EF553B",
           "#00cc96",
           "#ab63fa",
           "#FFA15A",
           "#19d3f3",
           "#FF6692",
           "#B6E880",
           "#FF97FF",
           "#FECB52"
          ],
          "font": {
           "color": "#2a3f5f"
          },
          "geo": {
           "bgcolor": "white",
           "lakecolor": "white",
           "landcolor": "#E5ECF6",
           "showlakes": true,
           "showland": true,
           "subunitcolor": "white"
          },
          "hoverlabel": {
           "align": "left"
          },
          "hovermode": "closest",
          "mapbox": {
           "style": "light"
          },
          "paper_bgcolor": "white",
          "plot_bgcolor": "#E5ECF6",
          "polar": {
           "angularaxis": {
            "gridcolor": "white",
            "linecolor": "white",
            "ticks": ""
           },
           "bgcolor": "#E5ECF6",
           "radialaxis": {
            "gridcolor": "white",
            "linecolor": "white",
            "ticks": ""
           }
          },
          "scene": {
           "xaxis": {
            "backgroundcolor": "#E5ECF6",
            "gridcolor": "white",
            "gridwidth": 2,
            "linecolor": "white",
            "showbackground": true,
            "ticks": "",
            "zerolinecolor": "white"
           },
           "yaxis": {
            "backgroundcolor": "#E5ECF6",
            "gridcolor": "white",
            "gridwidth": 2,
            "linecolor": "white",
            "showbackground": true,
            "ticks": "",
            "zerolinecolor": "white"
           },
           "zaxis": {
            "backgroundcolor": "#E5ECF6",
            "gridcolor": "white",
            "gridwidth": 2,
            "linecolor": "white",
            "showbackground": true,
            "ticks": "",
            "zerolinecolor": "white"
           }
          },
          "shapedefaults": {
           "line": {
            "color": "#2a3f5f"
           }
          },
          "ternary": {
           "aaxis": {
            "gridcolor": "white",
            "linecolor": "white",
            "ticks": ""
           },
           "baxis": {
            "gridcolor": "white",
            "linecolor": "white",
            "ticks": ""
           },
           "bgcolor": "#E5ECF6",
           "caxis": {
            "gridcolor": "white",
            "linecolor": "white",
            "ticks": ""
           }
          },
          "title": {
           "x": 0.05
          },
          "xaxis": {
           "automargin": true,
           "gridcolor": "white",
           "linecolor": "white",
           "ticks": "",
           "title": {
            "standoff": 15
           },
           "zerolinecolor": "white",
           "zerolinewidth": 2
          },
          "yaxis": {
           "automargin": true,
           "gridcolor": "white",
           "linecolor": "white",
           "ticks": "",
           "title": {
            "standoff": 15
           },
           "zerolinecolor": "white",
           "zerolinewidth": 2
          }
         }
        },
        "title": {
         "text": "Growth Incidence Curve: 2004 → 2023"
        },
        "xaxis": {
         "anchor": "y",
         "domain": [
          0,
          1
         ],
         "ticks": "outside",
         "title": {
          "text": "Percentile"
         }
        },
        "yaxis": {
         "anchor": "x",
         "domain": [
          0,
          1
         ],
         "tickformat": ".1%",
         "title": {
          "text": "Growth vs base"
         }
        }
       }
      }
     },
     "metadata": {},
     "output_type": "display_data"
    },
    {
     "data": {
      "application/vnd.plotly.v1+json": {
       "config": {
        "plotlyServerURL": "https://plot.ly"
       },
       "data": [
        {
         "hovertemplate": "=JS_divergence<br>year=%{x}<br>Distance=%{y}<extra></extra>",
         "legendgroup": "JS_divergence",
         "line": {
          "color": "#636efa",
          "dash": "solid"
         },
         "marker": {
          "symbol": "circle"
         },
         "mode": "markers+lines",
         "name": "JS_divergence",
         "orientation": "v",
         "showlegend": true,
         "type": "scatter",
         "x": [
          2004,
          2005,
          2006,
          2007,
          2008,
          2009,
          2010,
          2011,
          2012,
          2013,
          2014,
          2015,
          2016,
          2017,
          2018,
          2019,
          2020,
          2021,
          2022,
          2023
         ],
         "xaxis": "x",
         "y": [
          0,
          0.0003006122673097065,
          0.0004954022777283935,
          0.0009791286643225463,
          0.002117830836209992,
          0.003241752649085301,
          0.0026864871681815373,
          0.0033235139636280816,
          0.004156398936217249,
          0.004310754399382073,
          0.004986178664456257,
          0.0050576573695315956,
          0.005596984566549488,
          0.006005877091131724,
          0.00718478064476404,
          0.008562118885914209,
          0.009350957823440292,
          0.01199189406954262,
          0.014685566173679263,
          0.018327731066675644
         ],
         "yaxis": "y"
        },
        {
         "hovertemplate": "=Wasserstein1_approx<br>year=%{x}<br>Distance=%{y}<extra></extra>",
         "legendgroup": "Wasserstein1_approx",
         "line": {
          "color": "#EF553B",
          "dash": "solid"
         },
         "marker": {
          "symbol": "circle"
         },
         "mode": "markers+lines",
         "name": "Wasserstein1_approx",
         "orientation": "v",
         "showlegend": true,
         "type": "scatter",
         "x": [
          2004,
          2005,
          2006,
          2007,
          2008,
          2009,
          2010,
          2011,
          2012,
          2013,
          2014,
          2015,
          2016,
          2017,
          2018,
          2019,
          2020,
          2021,
          2022,
          2023
         ],
         "xaxis": "x",
         "y": [
          0,
          1576.592641937801,
          3574.8661350036687,
          5497.076815283654,
          8674.597916983521,
          9469.561736936084,
          7971.770238441214,
          9255.765563888895,
          9848.326426203286,
          9432.650760545643,
          9762.599159307472,
          10746.676471625073,
          11558.216734898344,
          11761.489997295132,
          12957.313566682322,
          14368.911150207592,
          15026.540814107197,
          17462.949994082323,
          20381.997899332644,
          22834.90799796862
         ],
         "yaxis": "y"
        }
       ],
       "layout": {
        "hovermode": "x unified",
        "legend": {
         "title": {
          "text": ""
         },
         "tracegroupgap": 0
        },
        "margin": {
         "b": 40,
         "l": 40,
         "r": 20,
         "t": 60
        },
        "template": {
         "data": {
          "bar": [
           {
            "error_x": {
             "color": "#2a3f5f"
            },
            "error_y": {
             "color": "#2a3f5f"
            },
            "marker": {
             "line": {
              "color": "#E5ECF6",
              "width": 0.5
             },
             "pattern": {
              "fillmode": "overlay",
              "size": 10,
              "solidity": 0.2
             }
            },
            "type": "bar"
           }
          ],
          "barpolar": [
           {
            "marker": {
             "line": {
              "color": "#E5ECF6",
              "width": 0.5
             },
             "pattern": {
              "fillmode": "overlay",
              "size": 10,
              "solidity": 0.2
             }
            },
            "type": "barpolar"
           }
          ],
          "carpet": [
           {
            "aaxis": {
             "endlinecolor": "#2a3f5f",
             "gridcolor": "white",
             "linecolor": "white",
             "minorgridcolor": "white",
             "startlinecolor": "#2a3f5f"
            },
            "baxis": {
             "endlinecolor": "#2a3f5f",
             "gridcolor": "white",
             "linecolor": "white",
             "minorgridcolor": "white",
             "startlinecolor": "#2a3f5f"
            },
            "type": "carpet"
           }
          ],
          "choropleth": [
           {
            "colorbar": {
             "outlinewidth": 0,
             "ticks": ""
            },
            "type": "choropleth"
           }
          ],
          "contour": [
           {
            "colorbar": {
             "outlinewidth": 0,
             "ticks": ""
            },
            "colorscale": [
             [
              0,
              "#0d0887"
             ],
             [
              0.1111111111111111,
              "#46039f"
             ],
             [
              0.2222222222222222,
              "#7201a8"
             ],
             [
              0.3333333333333333,
              "#9c179e"
             ],
             [
              0.4444444444444444,
              "#bd3786"
             ],
             [
              0.5555555555555556,
              "#d8576b"
             ],
             [
              0.6666666666666666,
              "#ed7953"
             ],
             [
              0.7777777777777778,
              "#fb9f3a"
             ],
             [
              0.8888888888888888,
              "#fdca26"
             ],
             [
              1,
              "#f0f921"
             ]
            ],
            "type": "contour"
           }
          ],
          "contourcarpet": [
           {
            "colorbar": {
             "outlinewidth": 0,
             "ticks": ""
            },
            "type": "contourcarpet"
           }
          ],
          "heatmap": [
           {
            "colorbar": {
             "outlinewidth": 0,
             "ticks": ""
            },
            "colorscale": [
             [
              0,
              "#0d0887"
             ],
             [
              0.1111111111111111,
              "#46039f"
             ],
             [
              0.2222222222222222,
              "#7201a8"
             ],
             [
              0.3333333333333333,
              "#9c179e"
             ],
             [
              0.4444444444444444,
              "#bd3786"
             ],
             [
              0.5555555555555556,
              "#d8576b"
             ],
             [
              0.6666666666666666,
              "#ed7953"
             ],
             [
              0.7777777777777778,
              "#fb9f3a"
             ],
             [
              0.8888888888888888,
              "#fdca26"
             ],
             [
              1,
              "#f0f921"
             ]
            ],
            "type": "heatmap"
           }
          ],
          "heatmapgl": [
           {
            "colorbar": {
             "outlinewidth": 0,
             "ticks": ""
            },
            "colorscale": [
             [
              0,
              "#0d0887"
             ],
             [
              0.1111111111111111,
              "#46039f"
             ],
             [
              0.2222222222222222,
              "#7201a8"
             ],
             [
              0.3333333333333333,
              "#9c179e"
             ],
             [
              0.4444444444444444,
              "#bd3786"
             ],
             [
              0.5555555555555556,
              "#d8576b"
             ],
             [
              0.6666666666666666,
              "#ed7953"
             ],
             [
              0.7777777777777778,
              "#fb9f3a"
             ],
             [
              0.8888888888888888,
              "#fdca26"
             ],
             [
              1,
              "#f0f921"
             ]
            ],
            "type": "heatmapgl"
           }
          ],
          "histogram": [
           {
            "marker": {
             "pattern": {
              "fillmode": "overlay",
              "size": 10,
              "solidity": 0.2
             }
            },
            "type": "histogram"
           }
          ],
          "histogram2d": [
           {
            "colorbar": {
             "outlinewidth": 0,
             "ticks": ""
            },
            "colorscale": [
             [
              0,
              "#0d0887"
             ],
             [
              0.1111111111111111,
              "#46039f"
             ],
             [
              0.2222222222222222,
              "#7201a8"
             ],
             [
              0.3333333333333333,
              "#9c179e"
             ],
             [
              0.4444444444444444,
              "#bd3786"
             ],
             [
              0.5555555555555556,
              "#d8576b"
             ],
             [
              0.6666666666666666,
              "#ed7953"
             ],
             [
              0.7777777777777778,
              "#fb9f3a"
             ],
             [
              0.8888888888888888,
              "#fdca26"
             ],
             [
              1,
              "#f0f921"
             ]
            ],
            "type": "histogram2d"
           }
          ],
          "histogram2dcontour": [
           {
            "colorbar": {
             "outlinewidth": 0,
             "ticks": ""
            },
            "colorscale": [
             [
              0,
              "#0d0887"
             ],
             [
              0.1111111111111111,
              "#46039f"
             ],
             [
              0.2222222222222222,
              "#7201a8"
             ],
             [
              0.3333333333333333,
              "#9c179e"
             ],
             [
              0.4444444444444444,
              "#bd3786"
             ],
             [
              0.5555555555555556,
              "#d8576b"
             ],
             [
              0.6666666666666666,
              "#ed7953"
             ],
             [
              0.7777777777777778,
              "#fb9f3a"
             ],
             [
              0.8888888888888888,
              "#fdca26"
             ],
             [
              1,
              "#f0f921"
             ]
            ],
            "type": "histogram2dcontour"
           }
          ],
          "mesh3d": [
           {
            "colorbar": {
             "outlinewidth": 0,
             "ticks": ""
            },
            "type": "mesh3d"
           }
          ],
          "parcoords": [
           {
            "line": {
             "colorbar": {
              "outlinewidth": 0,
              "ticks": ""
             }
            },
            "type": "parcoords"
           }
          ],
          "pie": [
           {
            "automargin": true,
            "type": "pie"
           }
          ],
          "scatter": [
           {
            "fillpattern": {
             "fillmode": "overlay",
             "size": 10,
             "solidity": 0.2
            },
            "type": "scatter"
           }
          ],
          "scatter3d": [
           {
            "line": {
             "colorbar": {
              "outlinewidth": 0,
              "ticks": ""
             }
            },
            "marker": {
             "colorbar": {
              "outlinewidth": 0,
              "ticks": ""
             }
            },
            "type": "scatter3d"
           }
          ],
          "scattercarpet": [
           {
            "marker": {
             "colorbar": {
              "outlinewidth": 0,
              "ticks": ""
             }
            },
            "type": "scattercarpet"
           }
          ],
          "scattergeo": [
           {
            "marker": {
             "colorbar": {
              "outlinewidth": 0,
              "ticks": ""
             }
            },
            "type": "scattergeo"
           }
          ],
          "scattergl": [
           {
            "marker": {
             "colorbar": {
              "outlinewidth": 0,
              "ticks": ""
             }
            },
            "type": "scattergl"
           }
          ],
          "scattermapbox": [
           {
            "marker": {
             "colorbar": {
              "outlinewidth": 0,
              "ticks": ""
             }
            },
            "type": "scattermapbox"
           }
          ],
          "scatterpolar": [
           {
            "marker": {
             "colorbar": {
              "outlinewidth": 0,
              "ticks": ""
             }
            },
            "type": "scatterpolar"
           }
          ],
          "scatterpolargl": [
           {
            "marker": {
             "colorbar": {
              "outlinewidth": 0,
              "ticks": ""
             }
            },
            "type": "scatterpolargl"
           }
          ],
          "scatterternary": [
           {
            "marker": {
             "colorbar": {
              "outlinewidth": 0,
              "ticks": ""
             }
            },
            "type": "scatterternary"
           }
          ],
          "surface": [
           {
            "colorbar": {
             "outlinewidth": 0,
             "ticks": ""
            },
            "colorscale": [
             [
              0,
              "#0d0887"
             ],
             [
              0.1111111111111111,
              "#46039f"
             ],
             [
              0.2222222222222222,
              "#7201a8"
             ],
             [
              0.3333333333333333,
              "#9c179e"
             ],
             [
              0.4444444444444444,
              "#bd3786"
             ],
             [
              0.5555555555555556,
              "#d8576b"
             ],
             [
              0.6666666666666666,
              "#ed7953"
             ],
             [
              0.7777777777777778,
              "#fb9f3a"
             ],
             [
              0.8888888888888888,
              "#fdca26"
             ],
             [
              1,
              "#f0f921"
             ]
            ],
            "type": "surface"
           }
          ],
          "table": [
           {
            "cells": {
             "fill": {
              "color": "#EBF0F8"
             },
             "line": {
              "color": "white"
             }
            },
            "header": {
             "fill": {
              "color": "#C8D4E3"
             },
             "line": {
              "color": "white"
             }
            },
            "type": "table"
           }
          ]
         },
         "layout": {
          "annotationdefaults": {
           "arrowcolor": "#2a3f5f",
           "arrowhead": 0,
           "arrowwidth": 1
          },
          "autotypenumbers": "strict",
          "coloraxis": {
           "colorbar": {
            "outlinewidth": 0,
            "ticks": ""
           }
          },
          "colorscale": {
           "diverging": [
            [
             0,
             "#8e0152"
            ],
            [
             0.1,
             "#c51b7d"
            ],
            [
             0.2,
             "#de77ae"
            ],
            [
             0.3,
             "#f1b6da"
            ],
            [
             0.4,
             "#fde0ef"
            ],
            [
             0.5,
             "#f7f7f7"
            ],
            [
             0.6,
             "#e6f5d0"
            ],
            [
             0.7,
             "#b8e186"
            ],
            [
             0.8,
             "#7fbc41"
            ],
            [
             0.9,
             "#4d9221"
            ],
            [
             1,
             "#276419"
            ]
           ],
           "sequential": [
            [
             0,
             "#0d0887"
            ],
            [
             0.1111111111111111,
             "#46039f"
            ],
            [
             0.2222222222222222,
             "#7201a8"
            ],
            [
             0.3333333333333333,
             "#9c179e"
            ],
            [
             0.4444444444444444,
             "#bd3786"
            ],
            [
             0.5555555555555556,
             "#d8576b"
            ],
            [
             0.6666666666666666,
             "#ed7953"
            ],
            [
             0.7777777777777778,
             "#fb9f3a"
            ],
            [
             0.8888888888888888,
             "#fdca26"
            ],
            [
             1,
             "#f0f921"
            ]
           ],
           "sequentialminus": [
            [
             0,
             "#0d0887"
            ],
            [
             0.1111111111111111,
             "#46039f"
            ],
            [
             0.2222222222222222,
             "#7201a8"
            ],
            [
             0.3333333333333333,
             "#9c179e"
            ],
            [
             0.4444444444444444,
             "#bd3786"
            ],
            [
             0.5555555555555556,
             "#d8576b"
            ],
            [
             0.6666666666666666,
             "#ed7953"
            ],
            [
             0.7777777777777778,
             "#fb9f3a"
            ],
            [
             0.8888888888888888,
             "#fdca26"
            ],
            [
             1,
             "#f0f921"
            ]
           ]
          },
          "colorway": [
           "#636efa",
           "#EF553B",
           "#00cc96",
           "#ab63fa",
           "#FFA15A",
           "#19d3f3",
           "#FF6692",
           "#B6E880",
           "#FF97FF",
           "#FECB52"
          ],
          "font": {
           "color": "#2a3f5f"
          },
          "geo": {
           "bgcolor": "white",
           "lakecolor": "white",
           "landcolor": "#E5ECF6",
           "showlakes": true,
           "showland": true,
           "subunitcolor": "white"
          },
          "hoverlabel": {
           "align": "left"
          },
          "hovermode": "closest",
          "mapbox": {
           "style": "light"
          },
          "paper_bgcolor": "white",
          "plot_bgcolor": "#E5ECF6",
          "polar": {
           "angularaxis": {
            "gridcolor": "white",
            "linecolor": "white",
            "ticks": ""
           },
           "bgcolor": "#E5ECF6",
           "radialaxis": {
            "gridcolor": "white",
            "linecolor": "white",
            "ticks": ""
           }
          },
          "scene": {
           "xaxis": {
            "backgroundcolor": "#E5ECF6",
            "gridcolor": "white",
            "gridwidth": 2,
            "linecolor": "white",
            "showbackground": true,
            "ticks": "",
            "zerolinecolor": "white"
           },
           "yaxis": {
            "backgroundcolor": "#E5ECF6",
            "gridcolor": "white",
            "gridwidth": 2,
            "linecolor": "white",
            "showbackground": true,
            "ticks": "",
            "zerolinecolor": "white"
           },
           "zaxis": {
            "backgroundcolor": "#E5ECF6",
            "gridcolor": "white",
            "gridwidth": 2,
            "linecolor": "white",
            "showbackground": true,
            "ticks": "",
            "zerolinecolor": "white"
           }
          },
          "shapedefaults": {
           "line": {
            "color": "#2a3f5f"
           }
          },
          "ternary": {
           "aaxis": {
            "gridcolor": "white",
            "linecolor": "white",
            "ticks": ""
           },
           "baxis": {
            "gridcolor": "white",
            "linecolor": "white",
            "ticks": ""
           },
           "bgcolor": "#E5ECF6",
           "caxis": {
            "gridcolor": "white",
            "linecolor": "white",
            "ticks": ""
           }
          },
          "title": {
           "x": 0.05
          },
          "xaxis": {
           "automargin": true,
           "gridcolor": "white",
           "linecolor": "white",
           "ticks": "",
           "title": {
            "standoff": 15
           },
           "zerolinecolor": "white",
           "zerolinewidth": 2
          },
          "yaxis": {
           "automargin": true,
           "gridcolor": "white",
           "linecolor": "white",
           "ticks": "",
           "title": {
            "standoff": 15
           },
           "zerolinecolor": "white",
           "zerolinewidth": 2
          }
         }
        },
        "title": {
         "text": "Distribution distance vs 2004"
        },
        "xaxis": {
         "anchor": "y",
         "domain": [
          0,
          1
         ],
         "title": {
          "text": "year"
         }
        },
        "yaxis": {
         "anchor": "x",
         "domain": [
          0,
          1
         ],
         "title": {
          "text": "Distance"
         }
        }
       }
      }
     },
     "metadata": {},
     "output_type": "display_data"
    },
    {
     "data": {
      "application/vnd.plotly.v1+json": {
       "config": {
        "plotlyServerURL": "https://plot.ly"
       },
       "data": [
        {
         "hovertemplate": "=Top10_share<br>year=%{x}<br>Share / Palma=%{y}<extra></extra>",
         "legendgroup": "Top10_share",
         "line": {
          "color": "#636efa",
          "dash": "solid"
         },
         "marker": {
          "symbol": "circle"
         },
         "mode": "markers+lines",
         "name": "Top10_share",
         "orientation": "v",
         "showlegend": true,
         "type": "scatter",
         "x": [
          2004,
          2005,
          2006,
          2007,
          2008,
          2009,
          2010,
          2011,
          2012,
          2013,
          2014,
          2015,
          2016,
          2017,
          2018,
          2019,
          2020,
          2021,
          2022,
          2023
         ],
         "xaxis": "x",
         "y": [
          0.37441733552466006,
          0.37926693546251966,
          0.3894216012401841,
          0.39983702990311415,
          0.41210173121709687,
          0.3994088157517328,
          0.38971975204692133,
          0.3967929219265211,
          0.39607635304971694,
          0.39287034946354993,
          0.3889687089331982,
          0.39227161538090605,
          0.3904412209470325,
          0.38595786839041263,
          0.3845190068041579,
          0.38528259054177555,
          0.3832726791014563,
          0.387150969939899,
          0.3983278727867407,
          0.39103982259431275
         ],
         "yaxis": "y"
        },
        {
         "hovertemplate": "=Bottom40_share<br>year=%{x}<br>Share / Palma=%{y}<extra></extra>",
         "legendgroup": "Bottom40_share",
         "line": {
          "color": "#EF553B",
          "dash": "solid"
         },
         "marker": {
          "symbol": "circle"
         },
         "mode": "markers+lines",
         "name": "Bottom40_share",
         "orientation": "v",
         "showlegend": true,
         "type": "scatter",
         "x": [
          2004,
          2005,
          2006,
          2007,
          2008,
          2009,
          2010,
          2011,
          2012,
          2013,
          2014,
          2015,
          2016,
          2017,
          2018,
          2019,
          2020,
          2021,
          2022,
          2023
         ],
         "xaxis": "x",
         "y": [
          0.17478185155447612,
          0.1733432862781492,
          0.16890951670533805,
          0.1646533504865486,
          0.1570732285049038,
          0.15637266105617587,
          0.15894799361009027,
          0.15510306083933512,
          0.15307975345768332,
          0.1541181335533881,
          0.15370626853817937,
          0.15249317066848422,
          0.1518840760599175,
          0.15223529032615435,
          0.15088984730876664,
          0.14875351031419937,
          0.14843180988648186,
          0.14536818627105508,
          0.1422634540776977,
          0.14262525079791177
         ],
         "yaxis": "y"
        },
        {
         "hovertemplate": "=Palma<br>year=%{x}<br>Share / Palma=%{y}<extra></extra>",
         "legendgroup": "Palma",
         "line": {
          "color": "#00cc96",
          "dash": "solid"
         },
         "marker": {
          "symbol": "circle"
         },
         "mode": "markers+lines",
         "name": "Palma",
         "orientation": "v",
         "showlegend": true,
         "type": "scatter",
         "x": [
          2004,
          2005,
          2006,
          2007,
          2008,
          2009,
          2010,
          2011,
          2012,
          2013,
          2014,
          2015,
          2016,
          2017,
          2018,
          2019,
          2020,
          2021,
          2022,
          2023
         ],
         "xaxis": "x",
         "y": [
          2.1421980153812563,
          2.1879528397421883,
          2.305504206252206,
          2.428356475720662,
          2.6236280691475766,
          2.5542112863849504,
          2.4518695907727475,
          2.5582533302649817,
          2.5873856215688673,
          2.549150709299601,
          2.5305975652943626,
          2.572388085717578,
          2.5706527706894398,
          2.5352719961549166,
          2.548342474078556,
          2.5900739399559445,
          2.5821465048130636,
          2.6632441380125162,
          2.7999311233452304,
          2.741729254859534
         ],
         "yaxis": "y"
        }
       ],
       "layout": {
        "hovermode": "x unified",
        "legend": {
         "title": {
          "text": ""
         },
         "tracegroupgap": 0
        },
        "margin": {
         "b": 40,
         "l": 40,
         "r": 20,
         "t": 60
        },
        "template": {
         "data": {
          "bar": [
           {
            "error_x": {
             "color": "#2a3f5f"
            },
            "error_y": {
             "color": "#2a3f5f"
            },
            "marker": {
             "line": {
              "color": "#E5ECF6",
              "width": 0.5
             },
             "pattern": {
              "fillmode": "overlay",
              "size": 10,
              "solidity": 0.2
             }
            },
            "type": "bar"
           }
          ],
          "barpolar": [
           {
            "marker": {
             "line": {
              "color": "#E5ECF6",
              "width": 0.5
             },
             "pattern": {
              "fillmode": "overlay",
              "size": 10,
              "solidity": 0.2
             }
            },
            "type": "barpolar"
           }
          ],
          "carpet": [
           {
            "aaxis": {
             "endlinecolor": "#2a3f5f",
             "gridcolor": "white",
             "linecolor": "white",
             "minorgridcolor": "white",
             "startlinecolor": "#2a3f5f"
            },
            "baxis": {
             "endlinecolor": "#2a3f5f",
             "gridcolor": "white",
             "linecolor": "white",
             "minorgridcolor": "white",
             "startlinecolor": "#2a3f5f"
            },
            "type": "carpet"
           }
          ],
          "choropleth": [
           {
            "colorbar": {
             "outlinewidth": 0,
             "ticks": ""
            },
            "type": "choropleth"
           }
          ],
          "contour": [
           {
            "colorbar": {
             "outlinewidth": 0,
             "ticks": ""
            },
            "colorscale": [
             [
              0,
              "#0d0887"
             ],
             [
              0.1111111111111111,
              "#46039f"
             ],
             [
              0.2222222222222222,
              "#7201a8"
             ],
             [
              0.3333333333333333,
              "#9c179e"
             ],
             [
              0.4444444444444444,
              "#bd3786"
             ],
             [
              0.5555555555555556,
              "#d8576b"
             ],
             [
              0.6666666666666666,
              "#ed7953"
             ],
             [
              0.7777777777777778,
              "#fb9f3a"
             ],
             [
              0.8888888888888888,
              "#fdca26"
             ],
             [
              1,
              "#f0f921"
             ]
            ],
            "type": "contour"
           }
          ],
          "contourcarpet": [
           {
            "colorbar": {
             "outlinewidth": 0,
             "ticks": ""
            },
            "type": "contourcarpet"
           }
          ],
          "heatmap": [
           {
            "colorbar": {
             "outlinewidth": 0,
             "ticks": ""
            },
            "colorscale": [
             [
              0,
              "#0d0887"
             ],
             [
              0.1111111111111111,
              "#46039f"
             ],
             [
              0.2222222222222222,
              "#7201a8"
             ],
             [
              0.3333333333333333,
              "#9c179e"
             ],
             [
              0.4444444444444444,
              "#bd3786"
             ],
             [
              0.5555555555555556,
              "#d8576b"
             ],
             [
              0.6666666666666666,
              "#ed7953"
             ],
             [
              0.7777777777777778,
              "#fb9f3a"
             ],
             [
              0.8888888888888888,
              "#fdca26"
             ],
             [
              1,
              "#f0f921"
             ]
            ],
            "type": "heatmap"
           }
          ],
          "heatmapgl": [
           {
            "colorbar": {
             "outlinewidth": 0,
             "ticks": ""
            },
            "colorscale": [
             [
              0,
              "#0d0887"
             ],
             [
              0.1111111111111111,
              "#46039f"
             ],
             [
              0.2222222222222222,
              "#7201a8"
             ],
             [
              0.3333333333333333,
              "#9c179e"
             ],
             [
              0.4444444444444444,
              "#bd3786"
             ],
             [
              0.5555555555555556,
              "#d8576b"
             ],
             [
              0.6666666666666666,
              "#ed7953"
             ],
             [
              0.7777777777777778,
              "#fb9f3a"
             ],
             [
              0.8888888888888888,
              "#fdca26"
             ],
             [
              1,
              "#f0f921"
             ]
            ],
            "type": "heatmapgl"
           }
          ],
          "histogram": [
           {
            "marker": {
             "pattern": {
              "fillmode": "overlay",
              "size": 10,
              "solidity": 0.2
             }
            },
            "type": "histogram"
           }
          ],
          "histogram2d": [
           {
            "colorbar": {
             "outlinewidth": 0,
             "ticks": ""
            },
            "colorscale": [
             [
              0,
              "#0d0887"
             ],
             [
              0.1111111111111111,
              "#46039f"
             ],
             [
              0.2222222222222222,
              "#7201a8"
             ],
             [
              0.3333333333333333,
              "#9c179e"
             ],
             [
              0.4444444444444444,
              "#bd3786"
             ],
             [
              0.5555555555555556,
              "#d8576b"
             ],
             [
              0.6666666666666666,
              "#ed7953"
             ],
             [
              0.7777777777777778,
              "#fb9f3a"
             ],
             [
              0.8888888888888888,
              "#fdca26"
             ],
             [
              1,
              "#f0f921"
             ]
            ],
            "type": "histogram2d"
           }
          ],
          "histogram2dcontour": [
           {
            "colorbar": {
             "outlinewidth": 0,
             "ticks": ""
            },
            "colorscale": [
             [
              0,
              "#0d0887"
             ],
             [
              0.1111111111111111,
              "#46039f"
             ],
             [
              0.2222222222222222,
              "#7201a8"
             ],
             [
              0.3333333333333333,
              "#9c179e"
             ],
             [
              0.4444444444444444,
              "#bd3786"
             ],
             [
              0.5555555555555556,
              "#d8576b"
             ],
             [
              0.6666666666666666,
              "#ed7953"
             ],
             [
              0.7777777777777778,
              "#fb9f3a"
             ],
             [
              0.8888888888888888,
              "#fdca26"
             ],
             [
              1,
              "#f0f921"
             ]
            ],
            "type": "histogram2dcontour"
           }
          ],
          "mesh3d": [
           {
            "colorbar": {
             "outlinewidth": 0,
             "ticks": ""
            },
            "type": "mesh3d"
           }
          ],
          "parcoords": [
           {
            "line": {
             "colorbar": {
              "outlinewidth": 0,
              "ticks": ""
             }
            },
            "type": "parcoords"
           }
          ],
          "pie": [
           {
            "automargin": true,
            "type": "pie"
           }
          ],
          "scatter": [
           {
            "fillpattern": {
             "fillmode": "overlay",
             "size": 10,
             "solidity": 0.2
            },
            "type": "scatter"
           }
          ],
          "scatter3d": [
           {
            "line": {
             "colorbar": {
              "outlinewidth": 0,
              "ticks": ""
             }
            },
            "marker": {
             "colorbar": {
              "outlinewidth": 0,
              "ticks": ""
             }
            },
            "type": "scatter3d"
           }
          ],
          "scattercarpet": [
           {
            "marker": {
             "colorbar": {
              "outlinewidth": 0,
              "ticks": ""
             }
            },
            "type": "scattercarpet"
           }
          ],
          "scattergeo": [
           {
            "marker": {
             "colorbar": {
              "outlinewidth": 0,
              "ticks": ""
             }
            },
            "type": "scattergeo"
           }
          ],
          "scattergl": [
           {
            "marker": {
             "colorbar": {
              "outlinewidth": 0,
              "ticks": ""
             }
            },
            "type": "scattergl"
           }
          ],
          "scattermapbox": [
           {
            "marker": {
             "colorbar": {
              "outlinewidth": 0,
              "ticks": ""
             }
            },
            "type": "scattermapbox"
           }
          ],
          "scatterpolar": [
           {
            "marker": {
             "colorbar": {
              "outlinewidth": 0,
              "ticks": ""
             }
            },
            "type": "scatterpolar"
           }
          ],
          "scatterpolargl": [
           {
            "marker": {
             "colorbar": {
              "outlinewidth": 0,
              "ticks": ""
             }
            },
            "type": "scatterpolargl"
           }
          ],
          "scatterternary": [
           {
            "marker": {
             "colorbar": {
              "outlinewidth": 0,
              "ticks": ""
             }
            },
            "type": "scatterternary"
           }
          ],
          "surface": [
           {
            "colorbar": {
             "outlinewidth": 0,
             "ticks": ""
            },
            "colorscale": [
             [
              0,
              "#0d0887"
             ],
             [
              0.1111111111111111,
              "#46039f"
             ],
             [
              0.2222222222222222,
              "#7201a8"
             ],
             [
              0.3333333333333333,
              "#9c179e"
             ],
             [
              0.4444444444444444,
              "#bd3786"
             ],
             [
              0.5555555555555556,
              "#d8576b"
             ],
             [
              0.6666666666666666,
              "#ed7953"
             ],
             [
              0.7777777777777778,
              "#fb9f3a"
             ],
             [
              0.8888888888888888,
              "#fdca26"
             ],
             [
              1,
              "#f0f921"
             ]
            ],
            "type": "surface"
           }
          ],
          "table": [
           {
            "cells": {
             "fill": {
              "color": "#EBF0F8"
             },
             "line": {
              "color": "white"
             }
            },
            "header": {
             "fill": {
              "color": "#C8D4E3"
             },
             "line": {
              "color": "white"
             }
            },
            "type": "table"
           }
          ]
         },
         "layout": {
          "annotationdefaults": {
           "arrowcolor": "#2a3f5f",
           "arrowhead": 0,
           "arrowwidth": 1
          },
          "autotypenumbers": "strict",
          "coloraxis": {
           "colorbar": {
            "outlinewidth": 0,
            "ticks": ""
           }
          },
          "colorscale": {
           "diverging": [
            [
             0,
             "#8e0152"
            ],
            [
             0.1,
             "#c51b7d"
            ],
            [
             0.2,
             "#de77ae"
            ],
            [
             0.3,
             "#f1b6da"
            ],
            [
             0.4,
             "#fde0ef"
            ],
            [
             0.5,
             "#f7f7f7"
            ],
            [
             0.6,
             "#e6f5d0"
            ],
            [
             0.7,
             "#b8e186"
            ],
            [
             0.8,
             "#7fbc41"
            ],
            [
             0.9,
             "#4d9221"
            ],
            [
             1,
             "#276419"
            ]
           ],
           "sequential": [
            [
             0,
             "#0d0887"
            ],
            [
             0.1111111111111111,
             "#46039f"
            ],
            [
             0.2222222222222222,
             "#7201a8"
            ],
            [
             0.3333333333333333,
             "#9c179e"
            ],
            [
             0.4444444444444444,
             "#bd3786"
            ],
            [
             0.5555555555555556,
             "#d8576b"
            ],
            [
             0.6666666666666666,
             "#ed7953"
            ],
            [
             0.7777777777777778,
             "#fb9f3a"
            ],
            [
             0.8888888888888888,
             "#fdca26"
            ],
            [
             1,
             "#f0f921"
            ]
           ],
           "sequentialminus": [
            [
             0,
             "#0d0887"
            ],
            [
             0.1111111111111111,
             "#46039f"
            ],
            [
             0.2222222222222222,
             "#7201a8"
            ],
            [
             0.3333333333333333,
             "#9c179e"
            ],
            [
             0.4444444444444444,
             "#bd3786"
            ],
            [
             0.5555555555555556,
             "#d8576b"
            ],
            [
             0.6666666666666666,
             "#ed7953"
            ],
            [
             0.7777777777777778,
             "#fb9f3a"
            ],
            [
             0.8888888888888888,
             "#fdca26"
            ],
            [
             1,
             "#f0f921"
            ]
           ]
          },
          "colorway": [
           "#636efa",
           "#EF553B",
           "#00cc96",
           "#ab63fa",
           "#FFA15A",
           "#19d3f3",
           "#FF6692",
           "#B6E880",
           "#FF97FF",
           "#FECB52"
          ],
          "font": {
           "color": "#2a3f5f"
          },
          "geo": {
           "bgcolor": "white",
           "lakecolor": "white",
           "landcolor": "#E5ECF6",
           "showlakes": true,
           "showland": true,
           "subunitcolor": "white"
          },
          "hoverlabel": {
           "align": "left"
          },
          "hovermode": "closest",
          "mapbox": {
           "style": "light"
          },
          "paper_bgcolor": "white",
          "plot_bgcolor": "#E5ECF6",
          "polar": {
           "angularaxis": {
            "gridcolor": "white",
            "linecolor": "white",
            "ticks": ""
           },
           "bgcolor": "#E5ECF6",
           "radialaxis": {
            "gridcolor": "white",
            "linecolor": "white",
            "ticks": ""
           }
          },
          "scene": {
           "xaxis": {
            "backgroundcolor": "#E5ECF6",
            "gridcolor": "white",
            "gridwidth": 2,
            "linecolor": "white",
            "showbackground": true,
            "ticks": "",
            "zerolinecolor": "white"
           },
           "yaxis": {
            "backgroundcolor": "#E5ECF6",
            "gridcolor": "white",
            "gridwidth": 2,
            "linecolor": "white",
            "showbackground": true,
            "ticks": "",
            "zerolinecolor": "white"
           },
           "zaxis": {
            "backgroundcolor": "#E5ECF6",
            "gridcolor": "white",
            "gridwidth": 2,
            "linecolor": "white",
            "showbackground": true,
            "ticks": "",
            "zerolinecolor": "white"
           }
          },
          "shapedefaults": {
           "line": {
            "color": "#2a3f5f"
           }
          },
          "ternary": {
           "aaxis": {
            "gridcolor": "white",
            "linecolor": "white",
            "ticks": ""
           },
           "baxis": {
            "gridcolor": "white",
            "linecolor": "white",
            "ticks": ""
           },
           "bgcolor": "#E5ECF6",
           "caxis": {
            "gridcolor": "white",
            "linecolor": "white",
            "ticks": ""
           }
          },
          "title": {
           "x": 0.05
          },
          "xaxis": {
           "automargin": true,
           "gridcolor": "white",
           "linecolor": "white",
           "ticks": "",
           "title": {
            "standoff": 15
           },
           "zerolinecolor": "white",
           "zerolinewidth": 2
          },
          "yaxis": {
           "automargin": true,
           "gridcolor": "white",
           "linecolor": "white",
           "ticks": "",
           "title": {
            "standoff": 15
           },
           "zerolinecolor": "white",
           "zerolinewidth": 2
          }
         }
        },
        "title": {
         "text": "Top 10 / Bottom 40 income shares and Palma ratio"
        },
        "xaxis": {
         "anchor": "y",
         "domain": [
          0,
          1
         ],
         "title": {
          "text": "year"
         }
        },
        "yaxis": {
         "anchor": "x",
         "domain": [
          0,
          1
         ],
         "tickformat": ".1%",
         "title": {
          "text": "Share / Palma"
         }
        }
       }
      }
     },
     "metadata": {},
     "output_type": "display_data"
    }
   ],
   "source": [
    "# -------------------------\n",
    "# 0) PREP: filter + bins\n",
    "# -------------------------\n",
    "def _parse_bin_bounds(label: str):\n",
    "    s = label.replace(\",\", \"\").strip()\n",
    "    m = re.match(r\"^(\\d+)\\s*&\\s*below$\", s, flags=re.I)\n",
    "    if m: return 0, int(m.group(1))\n",
    "    m = re.match(r\"^(\\d+)\\s*&\\s*above$\", s, flags=re.I)\n",
    "    if m: return int(m.group(1)), math.inf\n",
    "    m = re.match(r\"^(\\d+)\\s*-\\s*(\\d+)$\", s)\n",
    "    if m: return int(m.group(1)), int(m.group(2))\n",
    "    raise ValueError(f\"Unrecognized bin label: {label!r}\")\n",
    "\n",
    "def prepare_data(income_table: pd.DataFrame, resident_type=\"Tax Resident\"):\n",
    "    df = income_table.copy()\n",
    "    df = df[df[\"resident_type\"] == resident_type].copy()\n",
    "    for c in [\"number_of_taxpayers\", \"assessable_income\", \"chargeable_income\", \"net_tax_assessed\"]:\n",
    "        if c in df.columns:\n",
    "            df[c] = pd.to_numeric(df[c], errors=\"coerce\")\n",
    "\n",
    "    # Bin ordering + bounds\n",
    "    labels = df[\"assessed_income_group\"].dropna().unique().tolist()\n",
    "    bin_info = []\n",
    "    for lbl in labels:\n",
    "        lo, hi = _parse_bin_bounds(lbl)\n",
    "        bin_info.append((lbl, lo, hi))\n",
    "    bin_info = sorted(bin_info, key=lambda x: (x[1], float(\"inf\") if x[2]==math.inf else x[2]))\n",
    "    ordered_labels = [b[0] for b in bin_info]\n",
    "    bounds_map = {b[0]:(b[1], b[2]) for b in bin_info}\n",
    "\n",
    "    df[\"assessed_income_group\"] = pd.Categorical(df[\"assessed_income_group\"], ordered=True, categories=ordered_labels)\n",
    "\n",
    "    # Aggregate to year x bin\n",
    "    bybin = (df.groupby([\"year_of_assessment\",\"assessed_income_group\"], observed=True)\n",
    "               .agg(number_of_taxpayers=(\"number_of_taxpayers\",\"sum\"),\n",
    "                    assessable_income=(\"assessable_income\",\"sum\"),\n",
    "                    chargeable_income=(\"chargeable_income\",\"sum\"),\n",
    "                    net_tax_assessed=(\"net_tax_assessed\",\"sum\"))\n",
    "               .reset_index()\n",
    "             )\n",
    "\n",
    "    # Shares\n",
    "    bybin[\"pop_share\"] = bybin.groupby(\"year_of_assessment\")[\"number_of_taxpayers\"].transform(lambda x: x/x.sum())\n",
    "    # Incomes per taxpayer (better rep than midpoints if sums present)\n",
    "    # Guard against 0 taxpayers in a bin (rare)\n",
    "    bybin[\"mean_income_assessable\"] = bybin[\"assessable_income\"] / bybin[\"number_of_taxpayers\"].replace(0, np.nan)\n",
    "    bybin[\"mean_income_chargeable\"] = bybin[\"chargeable_income\"] / bybin[\"number_of_taxpayers\"].replace(0, np.nan)\n",
    "    bybin[\"avg_tax_per_taxpayer\"]   = bybin[\"net_tax_assessed\"] / bybin[\"number_of_taxpayers\"].replace(0, np.nan)\n",
    "\n",
    "    return bybin, bin_info, ordered_labels, bounds_map\n",
    "\n",
    "bybin, bin_info, ordered_labels, bounds_map = prepare_data(income_table)\n",
    "\n",
    "# Representative income if a bin is missing sums (fallback)\n",
    "def _rep_midpoint(lo, hi, top_tail_factor=1.25):\n",
    "    return lo*top_tail_factor if hi==math.inf else 0.5*(lo+hi)\n",
    "\n",
    "rep_map = {lbl:_rep_midpoint(lo,hi) for (lbl,lo,hi) in bin_info}\n",
    "\n",
    "# Select the series (assessable vs chargeable) to represent \"pre-tax\" income ranking\n",
    "# (Assessable ~= broader pre-tax; chargeable = after reliefs; pick what you prefer)\n",
    "PREFERRED_INCOME = \"assessable\" # \"assessable\"   # or \"chargeable\" - Data availability/quality issues for <chargeable> and T <= 2007\n",
    "\n",
    "def _bin_representative_income(row):\n",
    "    lbl = row[\"assessed_income_group\"]\n",
    "    # prefer mean from sums; fallback to midpoint\n",
    "    if PREFERRED_INCOME==\"assessable\" and pd.notnull(row[\"mean_income_assessable\"]):\n",
    "        return row[\"mean_income_assessable\"]\n",
    "    if PREFERRED_INCOME==\"chargeable\" and pd.notnull(row[\"mean_income_chargeable\"]):\n",
    "        return row[\"mean_income_chargeable\"]\n",
    "    return rep_map[str(lbl)]\n",
    "\n",
    "bybin[\"rep_income\"] = bybin.apply(_bin_representative_income, axis=1)\n",
    "\n",
    "# ------------------------------------\n",
    "# 1) Quantiles & thresholds utilities\n",
    "# ------------------------------------\n",
    "def quantile_threshold(year:int, q:float) -> float:\n",
    "    \"\"\"Income at quantile q in [0,1] using uniform-within-bin interpolation.\"\"\"\n",
    "    d = bybin[bybin[\"year_of_assessment\"]==year].sort_values(\"assessed_income_group\")\n",
    "    if d.empty: return np.nan\n",
    "    w  = d[\"pop_share\"].to_numpy()\n",
    "    cdf = np.cumsum(w)\n",
    "    labels = d[\"assessed_income_group\"].astype(str).tolist()\n",
    "    idx = np.searchsorted(cdf, q, side=\"left\")\n",
    "    if idx==0:\n",
    "        lo,hi = bounds_map[labels[0]]\n",
    "        width = (hi-lo) if hi!=math.inf else max(0.25*lo,1.0)\n",
    "        frac = (q/(w[0] if w[0]>0 else 1.0))\n",
    "        return lo + frac*width\n",
    "    if idx>=len(labels):\n",
    "        lo,hi = bounds_map[labels[-1]]\n",
    "        return lo if hi==math.inf else hi\n",
    "    prev = cdf[idx-1]\n",
    "    lo,hi = bounds_map[labels[idx]]\n",
    "    ww = w[idx]\n",
    "    if hi==math.inf:\n",
    "        # effective width ~ previous finite bin\n",
    "        if idx>0:\n",
    "            plo,phi = bounds_map[labels[idx-1]]\n",
    "            width = max(phi-plo,1.0)\n",
    "        else:\n",
    "            width = max(0.25*lo,1.0)\n",
    "    else:\n",
    "        width = max(hi-lo,1.0)\n",
    "    frac = 0.0 if ww==0 else (q-prev)/ww\n",
    "    return lo + min(max(frac,0),1)*width\n",
    "\n",
    "def thresholds_over_time(q_list=(0.50,0.80,0.90,0.95,0.99)):\n",
    "    years = sorted(bybin[\"year_of_assessment\"].dropna().unique().astype(int))\n",
    "    rows=[]\n",
    "    for y in years:\n",
    "        vals = {f\"q{int(q*100)}\": quantile_threshold(y, q) for q in q_list}\n",
    "        rows.append({\"year\":int(y), **vals})\n",
    "    return pd.DataFrame(rows)\n",
    "\n",
    "qt = thresholds_over_time()\n",
    "\n",
    "# ------------------------------------------------\n",
    "# 2) Inequality indices (from grouped/binned data)\n",
    "# ------------------------------------------------\n",
    "def _gini_from_grouped(d: pd.DataFrame, value_col=\"rep_income\", weight_col=\"pop_share\"):\n",
    "    # Gini-Coefficient: Overall inequality\n",
    "    d = d.sort_values(\"assessed_income_group\")\n",
    "    x = d[value_col].fillna(0).to_numpy()\n",
    "    w = d[weight_col].fillna(0).to_numpy()\n",
    "    if w.sum()==0 or np.all(x==0): return np.nan\n",
    "    # Normalize weights to 1\n",
    "    w = w / w.sum()\n",
    "    # Income shares and Lorenz\n",
    "    inc_share = (x*w); inc_share = inc_share / inc_share.sum() if inc_share.sum()>0 else inc_share\n",
    "    cum_pop = np.concatenate([[0], np.cumsum(w)])\n",
    "    cum_inc = np.concatenate([[0], np.cumsum(inc_share)])\n",
    "    area = np.trapz(cum_inc, cum_pop)\n",
    "    return 1 - 2*area\n",
    "\n",
    "def _theil_T_from_grouped(d, value_col=\"rep_income\", weight_col=\"pop_share\", eps=1e-12):\n",
    "    # Entropy-based, more tail-sensitive\n",
    "    x = d[value_col].fillna(0).to_numpy()\n",
    "    w = d[weight_col].fillna(0).to_numpy()\n",
    "    w = w / (w.sum() if w.sum()>0 else 1)\n",
    "    mu = np.sum(w*x)\n",
    "    if mu<=0: return np.nan\n",
    "    r = x/(mu+eps)\n",
    "    r[r<=0] = eps\n",
    "    return np.sum(w * r * np.log(r))\n",
    "\n",
    "def _atkinson_from_grouped(d, epsilon=1, value_col=\"rep_income\", weight_col=\"pop_share\", eps=1e-12):\n",
    "    x = d[value_col].fillna(eps).to_numpy()\n",
    "    x[x<=0]=eps\n",
    "    w = d[weight_col].fillna(0).to_numpy()\n",
    "    w = w / (w.sum() if w.sum()>0 else 1)\n",
    "    mu = np.sum(w*x)\n",
    "    if mu<=0: return np.nan\n",
    "    if np.isclose(epsilon,1):\n",
    "        geo = np.exp(np.sum(w*np.log(x)))\n",
    "        return 1 - (geo/mu)\n",
    "    else:\n",
    "        term = np.sum(w * (x**(1-epsilon)))\n",
    "        eq_income = (term)**(1/(1-epsilon))\n",
    "        return 1 - (eq_income/mu)\n",
    "\n",
    "def inequality_over_time():\n",
    "    years = sorted(bybin[\"year_of_assessment\"].dropna().unique().astype(int))\n",
    "    out=[]\n",
    "    for y in years:\n",
    "        d = bybin[bybin[\"year_of_assessment\"]==y]\n",
    "        g = _gini_from_grouped(d)\n",
    "        t = _theil_T_from_grouped(d)\n",
    "        a05 = _atkinson_from_grouped(d, epsilon=0.5)\n",
    "        a10 = _atkinson_from_grouped(d, epsilon=1.0)\n",
    "        a20 = _atkinson_from_grouped(d, epsilon=2.0)\n",
    "        out.append({\"year\":y, \"Gini\":g, \"Theil_T\":t, \"Atkinson(0.5)\":a05, \"Atkinson(1)\":a10, \"Atkinson(2)\":a20})\n",
    "    return pd.DataFrame(out)\n",
    "\n",
    "ineq_ts = inequality_over_time()\n",
    "\n",
    "# ----------------------------------------------------------\n",
    "# 3) Tax progressivity: Kakwani & Reynolds–Smolensky (RS)\n",
    "# ----------------------------------------------------------\n",
    "# We rank by pre-tax income (rep_income). Concentration of taxes uses cumulative pop vs cumulative tax shares.\n",
    "def _concentration_index(d: pd.DataFrame, share_col: str):\n",
    "    d = d.sort_values(\"rep_income\")  # rank by income\n",
    "    w = d[\"pop_share\"].to_numpy()\n",
    "    s = d[share_col].to_numpy()\n",
    "    if w.sum()==0 or s.sum()==0: return np.nan\n",
    "    w = w/w.sum()\n",
    "    s = s/s.sum()\n",
    "    cum_pop = np.concatenate([[0], np.cumsum(w)])\n",
    "    cum_s   = np.concatenate([[0], np.cumsum(s)])\n",
    "    area = np.trapz(cum_s, cum_pop)\n",
    "    return 1 - 2*area\n",
    "\n",
    "def progressivity_over_time(post_income_base=\"assessable\"):\n",
    "    \"\"\"\n",
    "    post_income_base: \"assessable\" or \"chargeable\"\n",
    "    Disposable income ≈ base - net_tax_assessed (bounded below by 0).\n",
    "    \"\"\"\n",
    "    years = sorted(bybin[\"year_of_assessment\"].dropna().unique().astype(int))\n",
    "    rows=[]\n",
    "    for y in years:\n",
    "        d = bybin[bybin[\"year_of_assessment\"]==y].sort_values(\"assessed_income_group\")\n",
    "        # Pre-tax income ranking\n",
    "        g_pre = _gini_from_grouped(d, value_col=\"rep_income\")\n",
    "        # Tax concentration (progressivity signal)\n",
    "        tax_share = d[\"net_tax_assessed\"].fillna(0)\n",
    "        d = d.assign(tax_share = tax_share)\n",
    "        c_tax = _concentration_index(d.assign(tax_share_share = tax_share / (tax_share.sum() if tax_share.sum()>0 else 1)),\n",
    "                                     share_col=\"tax_share_share\")\n",
    "        # Post-tax income (approx)\n",
    "        if post_income_base==\"assessable\":\n",
    "            post_income = (d[\"assessable_income\"].fillna(0) - d[\"net_tax_assessed\"].fillna(0)) \\\n",
    "                          / d[\"number_of_taxpayers\"].replace(0, np.nan)\n",
    "        else:\n",
    "            post_income = (d[\"chargeable_income\"].fillna(0) - d[\"net_tax_assessed\"].fillna(0)) \\\n",
    "                          / d[\"number_of_taxpayers\"].replace(0, np.nan)\n",
    "        d_post = d.copy()\n",
    "        d_post[\"rep_post\"] = post_income.fillna(0).clip(lower=0)\n",
    "        g_post = _gini_from_grouped(d_post, value_col=\"rep_post\")\n",
    "        # Indexes\n",
    "\n",
    "        # Kakwani: How concentrated taxes are vs pre-tax income → progressivity\n",
    "        kakwani = (c_tax - g_pre) if (pd.notnull(c_tax) and pd.notnull(g_pre)) else np.nan\n",
    "        # Reynolds–Smolensky: How much post-tax income is redistributed\n",
    "        rs = (g_pre - g_post) if (pd.notnull(g_post) and pd.notnull(g_pre)) else np.nan\n",
    "        # Average effective tax rate\n",
    "        total_income = d[\"assessable_income\"].sum() if post_income_base==\"assessable\" else d[\"chargeable_income\"].sum()\n",
    "        total_tax    = d[\"net_tax_assessed\"].sum()\n",
    "        etr = total_tax / total_income if total_income and total_income>0 else np.nan # System-wide tax burden\n",
    "        rows.append({\"year\":y, \"Kakwani\":kakwani, \"RS\":rs, \"Avg_ETR\":etr})\n",
    "    return pd.DataFrame(rows)\n",
    "\n",
    "prog_ts = progressivity_over_time(post_income_base=\"assessable\")\n",
    "\n",
    "# ----------------------------------------------------------\n",
    "# 4) Distances between yearly distributions (shape changes)\n",
    "# ----------------------------------------------------------\n",
    "def _js_divergence(p, q, eps=1e-12):\n",
    "    p = np.asarray(p, float); q = np.asarray(q, float)\n",
    "    p = p / (p.sum() if p.sum()>0 else 1); q = q / (q.sum() if q.sum()>0 else 1)\n",
    "    m = 0.5*(p+q)\n",
    "    def _kl(a,b): \n",
    "        a = np.clip(a, eps, 1); b = np.clip(b, eps, 1); \n",
    "        return np.sum(a*np.log(a/b))\n",
    "    return 0.5*_kl(p,m) + 0.5*_kl(q,m)\n",
    "\n",
    "def _w1_emd_approx(year_a, year_b):\n",
    "    \"\"\"Approximate 1-Wasserstein distance using bin boundaries & CDF diffs.\"\"\"\n",
    "    da = bybin[bybin[\"year_of_assessment\"]==year_a].sort_values(\"assessed_income_group\")\n",
    "    db = bybin[bybin[\"year_of_assessment\"]==year_b].sort_values(\"assessed_income_group\")\n",
    "    pa = da[\"pop_share\"].to_numpy(); pb = db[\"pop_share\"].to_numpy()\n",
    "    # Build CDF at bin *upper* edges to weight by bin width\n",
    "    cdfa = np.cumsum(pa); cdfb = np.cumsum(pb)\n",
    "    # widths by bin\n",
    "    widths=[]\n",
    "    for lbl,lo,hi in bin_info:\n",
    "        width = (hi-lo) if hi!=math.inf else (bin_info[-2][2]-bin_info[-2][1])  # use prev finite width\n",
    "        widths.append(max(width,1.0))\n",
    "    widths = np.array(widths, float)\n",
    "    return float(np.sum(np.abs(cdfa - cdfb) * widths))\n",
    "\n",
    "def distances_vs_year(base_year:int):\n",
    "    years = sorted(bybin[\"year_of_assessment\"].dropna().unique().astype(int))\n",
    "    base = bybin[bybin[\"year_of_assessment\"]==base_year].sort_values(\"assessed_income_group\")\n",
    "    p0 = base[\"pop_share\"].to_numpy()\n",
    "    out=[]\n",
    "    for y in years:\n",
    "        d = bybin[bybin[\"year_of_assessment\"]==y].sort_values(\"assessed_income_group\")\n",
    "        p  = d[\"pop_share\"].to_numpy()\n",
    "        js = _js_divergence(p0, p)\n",
    "        w1 = _w1_emd_approx(base_year, y)\n",
    "        out.append({\"year\":y, \"JS_divergence\":js, \"Wasserstein1_approx\":w1})\n",
    "    return pd.DataFrame(out)\n",
    "\n",
    "# Example: dist_change = distances_vs_year(base_year=int(bybin[\"year_of_assessment\"].min()))\n",
    "\n",
    "# ----------------------------------------------------------\n",
    "# 5) Top income shares & Palma ratio (Top10 / Bottom40)\n",
    "# ----------------------------------------------------------\n",
    "def _income_share_by_percentile(year:int, top_share=0.10, income_col=\"assessable_income\"):\n",
    "    \"\"\"Approximate income share of top `top_share` (e.g., 0.10 for top10) using binned sums + within-bin uniformity.\"\"\"\n",
    "    d = bybin[bybin[\"year_of_assessment\"]==year].sort_values(\"assessed_income_group\")\n",
    "    if d.empty: return np.nan\n",
    "    total = d[income_col].sum()\n",
    "    if total<=0: return np.nan\n",
    "    # Population CDF\n",
    "    d = d.copy()\n",
    "    d[\"cum_pop\"] = d[\"pop_share\"].cumsum()\n",
    "    cutoff = 1 - top_share\n",
    "    # Find boundary bin\n",
    "    idx = (d[\"cum_pop\"]>=cutoff).idxmax()\n",
    "    # Sum fully included top bins\n",
    "    top_bins = d.loc[idx:]\n",
    "    share = top_bins[income_col].sum()\n",
    "    # Remove the boundary bin's lower part if needed (keep only fraction above cutoff)\n",
    "    boundary = d.loc[idx]\n",
    "    prev_cdf = d[\"cum_pop\"].shift(1, fill_value=0).loc[idx]\n",
    "    bin_pop   = boundary[\"pop_share\"]\n",
    "    if bin_pop>0:\n",
    "        frac_in_bin = (boundary[\"cum_pop\"] - cutoff)/bin_pop\n",
    "        frac_in_bin = float(min(max(frac_in_bin,0),1))\n",
    "        # Keep only that fraction of the boundary bin's income\n",
    "        share -= boundary[income_col]*(1-frac_in_bin)\n",
    "    return share / total\n",
    "\n",
    "def palma_ratio(year:int, income_col=\"assessable_income\"):\n",
    "    top10 = _income_share_by_percentile(year, top_share=0.10, income_col=income_col)\n",
    "    # Bottom 40% share\n",
    "    d = bybin[bybin[\"year_of_assessment\"]==year].sort_values(\"assessed_income_group\").copy()\n",
    "    d[\"cum_pop\"] = d[\"pop_share\"].cumsum()\n",
    "    cutoff = 0.40\n",
    "    idx = (d[\"cum_pop\"]>=cutoff).idxmax()\n",
    "    bottom_bins = d.loc[:idx]\n",
    "    share = bottom_bins[income_col].sum()\n",
    "    boundary = d.loc[idx]\n",
    "    prev_cdf = d[\"cum_pop\"].shift(1, fill_value=0).loc[idx]\n",
    "    bin_pop   = boundary[\"pop_share\"]\n",
    "    if bin_pop>0:\n",
    "        frac_in_bin = (cutoff - prev_cdf)/bin_pop\n",
    "        frac_in_bin = float(min(max(frac_in_bin,0),1))\n",
    "        # Keep only that fraction of the boundary bin's income\n",
    "        share = share - boundary[income_col]*(1-frac_in_bin)\n",
    "    bottom40 = share / d[income_col].sum() if d[income_col].sum()>0 else np.nan\n",
    "    return (top10 / bottom40) if (pd.notnull(top10) and pd.notnull(bottom40) and bottom40>0) else np.nan\n",
    "\n",
    "# Build a time series of shares & Palma\n",
    "def top_share_ts():\n",
    "    years = sorted(bybin[\"year_of_assessment\"].dropna().unique().astype(int))\n",
    "    rows=[]\n",
    "    for y in years:\n",
    "        t10 = _income_share_by_percentile(y, top_share=0.10)\n",
    "        b40 = 1 - _income_share_by_percentile(y, top_share=0.60)  # bottom 40 = 1 - top 60\n",
    "        palma = t10 / b40 if (pd.notnull(t10) and pd.notnull(b40) and b40>0) else np.nan\n",
    "        rows.append({\"year\":y, \"Top10_share\":t10, \"Bottom40_share\":b40, \"Palma\":palma})\n",
    "    return pd.DataFrame(rows)\n",
    "\n",
    "shares_ts = top_share_ts()\n",
    "\n",
    "# =========================\n",
    "# PLOTTING (Plotly)\n",
    "# =========================\n",
    "\n",
    "# A) Percentile thresholds over time (levels)\n",
    "q_long = qt.rename(columns={\"q50\":\"Median (50th)\",\"q80\":\"Top 20% (80th)\",\"q90\":\"Top 10% (90th)\",\"q95\":\"Top 5% (95th)\",\"q99\":\"Top 1% (99th)\"}).melt(\n",
    "    id_vars=\"year\", var_name=\"Threshold\", value_name=\"Income_SGD\"\n",
    ")\n",
    "order_thresh = [\"Median (50th)\",\"Top 20% (80th)\",\"Top 10% (90th)\",\"Top 5% (95th)\",\"Top 1% (99th)\"]\n",
    "fig_q = px.line(q_long, x=\"year\", y=\"Income_SGD\", color=\"Threshold\", markers=True,\n",
    "                category_orders={\"Threshold\": order_thresh},\n",
    "                labels={\"year\":\"Year\",\"Income_SGD\":\"Annual income (SGD)\",\"Threshold\":\"\"})\n",
    "fig_q.update_layout(title=\"Income thresholds over time\", yaxis=dict(tickprefix=\"S$ \", tickformat=\",.0f\"),\n",
    "                    hovermode=\"x unified\", margin=dict(l=40,r=20,t=60,b=40))\n",
    "fig_q.show()\n",
    "\n",
    "# B) Inequality indices time series\n",
    "ineq_long = ineq_ts.melt(id_vars=\"year\", var_name=\"Index\", value_name=\"Value\")\n",
    "fig_ineq = px.line(ineq_long, x=\"year\", y=\"Value\", color=\"Index\", markers=True,\n",
    "                   labels={\"year\":\"Year\",\"Value\":\"Index value\",\"Index\":\"\"})\n",
    "fig_ineq.update_layout(title=\"Inequality over time (Gini, Theil, Atkinson)\",\n",
    "                       hovermode=\"x unified\", margin=dict(l=40,r=20,t=60,b=40))\n",
    "fig_ineq.show()\n",
    "\n",
    "# C) Tax progressivity & redistribution\n",
    "fig_prog = px.line(prog_ts, x=\"year\", y=[\"Kakwani\",\"RS\",\"Avg_ETR\"], markers=True)\n",
    "fig_prog.update_layout(title=\"Tax progressivity (Kakwani), redistribution (RS) & average ETR\",\n",
    "                       yaxis=dict(title=\"Index / Rate\", tickformat=\".3f\"),\n",
    "                       hovermode=\"x unified\", margin=dict(l=40,r=20,t=60,b=40))\n",
    "fig_prog.show()\n",
    "\n",
    "# D) Growth Incidence Curve (pick baseline & comparison year)\n",
    "def growth_incidence_curve(year0:int, year1:int, percentiles=np.linspace(0.01,0.99,99)):\n",
    "    rows=[]\n",
    "    for p in percentiles:\n",
    "        y0 = quantile_threshold(year0, p)\n",
    "        y1 = quantile_threshold(year1, p)\n",
    "        g  = (y1 - y0) / y0 if y0 and y0>0 else np.nan\n",
    "        rows.append({\"percentile\":p, \"growth\":g, \"year0\":year0, \"year1\":year1})\n",
    "    return pd.DataFrame(rows)\n",
    "\n",
    "# Example: set earliest and latest years\n",
    "years_all = sorted(bybin[\"year_of_assessment\"].dropna().unique().astype(int))\n",
    "if years_all:\n",
    "    gic = growth_incidence_curve(years_all[0], years_all[-1])\n",
    "    fig_gic = px.line(gic, x=(gic[\"percentile\"]*100), y=\"growth\", markers=True,\n",
    "                      labels={\"x\":\"Percentile\",\"growth\":\"Growth vs base\",\"percentile\":\"Percentile\"})\n",
    "    fig_gic.update_layout(title=f\"Growth Incidence Curve: {years_all[0]} → {years_all[-1]}\",\n",
    "                          yaxis=dict(tickformat=\".1%\"), xaxis=dict(ticks=\"outside\"), \n",
    "                          hovermode=\"x\", margin=dict(l=40,r=20,t=60,b=40))\n",
    "    fig_gic.update_traces(hovertemplate=\"P%{x:.0f}<br>Growth: %{y:.2%}<extra></extra>\")\n",
    "    fig_gic.show()\n",
    "\n",
    "# E) Distribution distances to baseline year\n",
    "if years_all:\n",
    "    base_year = years_all[0]\n",
    "    dist_change = distances_vs_year(base_year)\n",
    "    fig_dist = px.line(dist_change, x=\"year\", y=[\"JS_divergence\",\"Wasserstein1_approx\"], markers=True,\n",
    "                       labels={\"value\":\"Distance\",\"variable\":\"\"})\n",
    "    fig_dist.update_layout(title=f\"Distribution distance vs {base_year}\",\n",
    "                           hovermode=\"x unified\", margin=dict(l=40,r=20,t=60,b=40))\n",
    "    fig_dist.show()\n",
    "\n",
    "# F) Top shares & Palma ratio\n",
    "fig_share = px.line(shares_ts, x=\"year\", y=[\"Top10_share\",\"Bottom40_share\",\"Palma\"], markers=True,\n",
    "                    labels={\"value\":\"Share / Palma\",\"variable\":\"\"})\n",
    "fig_share.update_layout(title=\"Top 10 / Bottom 40 income shares and Palma ratio\",\n",
    "                        yaxis=dict(tickformat=\".1%\"), hovermode=\"x unified\", margin=dict(l=40,r=20,t=60,b=40))\n",
    "# Fix axis formats: Palma is not a percentage; add secondary axis if you prefer\n",
    "fig_share.show()"
   ]
  },
  {
   "cell_type": "code",
   "execution_count": 9,
   "id": "0213a206",
   "metadata": {},
   "outputs": [
    {
     "name": "stdout",
     "output_type": "stream",
     "text": [
      "[scales] income_scale=1000, tax_scale=1000\n"
     ]
    },
    {
     "data": {
      "application/vnd.plotly.v1+json": {
       "config": {
        "plotlyServerURL": "https://plot.ly"
       },
       "data": [
        {
         "mode": "lines+markers",
         "name": "Avg tax (dataset)",
         "type": "scatter",
         "x": [
          "20,000 & below",
          "20,001 - 25,000",
          "25,001 - 30,000",
          "30,001 - 40,000",
          "40,001 - 50,000",
          "50,001 - 60,000",
          "60,001 - 70,000",
          "70,001 - 80,000",
          "80,001 - 100,000",
          "100,001 - 150,000",
          "150,001 - 200,000",
          "200,001 - 300,000",
          "300,001 - 400,000",
          "400,001 - 500,000",
          "500,001 - 1,000,000",
          "1,000,001 & above"
         ],
         "y": [
          null,
          43.917942791100835,
          96.84680723845031,
          202.67642488460467,
          444.37483186792963,
          806.5820836696008,
          1275.0939995649608,
          1791.9545582947144,
          2644.9264798290815,
          5196.004207578567,
          10959.790374984554,
          22537.308947278034,
          42434.10291828367,
          64307.801030410796,
          112433.34054365852,
          428315.813270035
         ]
        },
        {
         "mode": "lines+markers",
         "name": "Avg tax (statutory)",
         "type": "scatter",
         "x": [
          "20,000 & below",
          "20,001 - 25,000",
          "25,001 - 30,000",
          "30,001 - 40,000",
          "40,001 - 50,000",
          "50,001 - 60,000",
          "60,001 - 70,000",
          "70,001 - 80,000",
          "80,001 - 100,000",
          "100,001 - 150,000",
          "150,001 - 200,000",
          "200,001 - 300,000",
          "300,001 - 400,000",
          "400,001 - 500,000",
          "500,001 - 1,000,000",
          "1,000,001 & above"
         ],
         "y": [
          null,
          43.92168193483689,
          96.85700719272639,
          178.51305898877212,
          404.5804485409676,
          752.4519528537378,
          1258.5672291103447,
          1795.4293370794242,
          2618.702425537263,
          5133.064988795035,
          10910.630982926174,
          22546.7871372145,
          42414.36010436537,
          64522.69593762823,
          113946.10281923715,
          455840.07799253985
         ]
        }
       ],
       "layout": {
        "hovermode": "x unified",
        "margin": {
         "b": 90,
         "l": 40,
         "r": 20,
         "t": 60
        },
        "template": {
         "data": {
          "bar": [
           {
            "error_x": {
             "color": "#2a3f5f"
            },
            "error_y": {
             "color": "#2a3f5f"
            },
            "marker": {
             "line": {
              "color": "#E5ECF6",
              "width": 0.5
             },
             "pattern": {
              "fillmode": "overlay",
              "size": 10,
              "solidity": 0.2
             }
            },
            "type": "bar"
           }
          ],
          "barpolar": [
           {
            "marker": {
             "line": {
              "color": "#E5ECF6",
              "width": 0.5
             },
             "pattern": {
              "fillmode": "overlay",
              "size": 10,
              "solidity": 0.2
             }
            },
            "type": "barpolar"
           }
          ],
          "carpet": [
           {
            "aaxis": {
             "endlinecolor": "#2a3f5f",
             "gridcolor": "white",
             "linecolor": "white",
             "minorgridcolor": "white",
             "startlinecolor": "#2a3f5f"
            },
            "baxis": {
             "endlinecolor": "#2a3f5f",
             "gridcolor": "white",
             "linecolor": "white",
             "minorgridcolor": "white",
             "startlinecolor": "#2a3f5f"
            },
            "type": "carpet"
           }
          ],
          "choropleth": [
           {
            "colorbar": {
             "outlinewidth": 0,
             "ticks": ""
            },
            "type": "choropleth"
           }
          ],
          "contour": [
           {
            "colorbar": {
             "outlinewidth": 0,
             "ticks": ""
            },
            "colorscale": [
             [
              0,
              "#0d0887"
             ],
             [
              0.1111111111111111,
              "#46039f"
             ],
             [
              0.2222222222222222,
              "#7201a8"
             ],
             [
              0.3333333333333333,
              "#9c179e"
             ],
             [
              0.4444444444444444,
              "#bd3786"
             ],
             [
              0.5555555555555556,
              "#d8576b"
             ],
             [
              0.6666666666666666,
              "#ed7953"
             ],
             [
              0.7777777777777778,
              "#fb9f3a"
             ],
             [
              0.8888888888888888,
              "#fdca26"
             ],
             [
              1,
              "#f0f921"
             ]
            ],
            "type": "contour"
           }
          ],
          "contourcarpet": [
           {
            "colorbar": {
             "outlinewidth": 0,
             "ticks": ""
            },
            "type": "contourcarpet"
           }
          ],
          "heatmap": [
           {
            "colorbar": {
             "outlinewidth": 0,
             "ticks": ""
            },
            "colorscale": [
             [
              0,
              "#0d0887"
             ],
             [
              0.1111111111111111,
              "#46039f"
             ],
             [
              0.2222222222222222,
              "#7201a8"
             ],
             [
              0.3333333333333333,
              "#9c179e"
             ],
             [
              0.4444444444444444,
              "#bd3786"
             ],
             [
              0.5555555555555556,
              "#d8576b"
             ],
             [
              0.6666666666666666,
              "#ed7953"
             ],
             [
              0.7777777777777778,
              "#fb9f3a"
             ],
             [
              0.8888888888888888,
              "#fdca26"
             ],
             [
              1,
              "#f0f921"
             ]
            ],
            "type": "heatmap"
           }
          ],
          "heatmapgl": [
           {
            "colorbar": {
             "outlinewidth": 0,
             "ticks": ""
            },
            "colorscale": [
             [
              0,
              "#0d0887"
             ],
             [
              0.1111111111111111,
              "#46039f"
             ],
             [
              0.2222222222222222,
              "#7201a8"
             ],
             [
              0.3333333333333333,
              "#9c179e"
             ],
             [
              0.4444444444444444,
              "#bd3786"
             ],
             [
              0.5555555555555556,
              "#d8576b"
             ],
             [
              0.6666666666666666,
              "#ed7953"
             ],
             [
              0.7777777777777778,
              "#fb9f3a"
             ],
             [
              0.8888888888888888,
              "#fdca26"
             ],
             [
              1,
              "#f0f921"
             ]
            ],
            "type": "heatmapgl"
           }
          ],
          "histogram": [
           {
            "marker": {
             "pattern": {
              "fillmode": "overlay",
              "size": 10,
              "solidity": 0.2
             }
            },
            "type": "histogram"
           }
          ],
          "histogram2d": [
           {
            "colorbar": {
             "outlinewidth": 0,
             "ticks": ""
            },
            "colorscale": [
             [
              0,
              "#0d0887"
             ],
             [
              0.1111111111111111,
              "#46039f"
             ],
             [
              0.2222222222222222,
              "#7201a8"
             ],
             [
              0.3333333333333333,
              "#9c179e"
             ],
             [
              0.4444444444444444,
              "#bd3786"
             ],
             [
              0.5555555555555556,
              "#d8576b"
             ],
             [
              0.6666666666666666,
              "#ed7953"
             ],
             [
              0.7777777777777778,
              "#fb9f3a"
             ],
             [
              0.8888888888888888,
              "#fdca26"
             ],
             [
              1,
              "#f0f921"
             ]
            ],
            "type": "histogram2d"
           }
          ],
          "histogram2dcontour": [
           {
            "colorbar": {
             "outlinewidth": 0,
             "ticks": ""
            },
            "colorscale": [
             [
              0,
              "#0d0887"
             ],
             [
              0.1111111111111111,
              "#46039f"
             ],
             [
              0.2222222222222222,
              "#7201a8"
             ],
             [
              0.3333333333333333,
              "#9c179e"
             ],
             [
              0.4444444444444444,
              "#bd3786"
             ],
             [
              0.5555555555555556,
              "#d8576b"
             ],
             [
              0.6666666666666666,
              "#ed7953"
             ],
             [
              0.7777777777777778,
              "#fb9f3a"
             ],
             [
              0.8888888888888888,
              "#fdca26"
             ],
             [
              1,
              "#f0f921"
             ]
            ],
            "type": "histogram2dcontour"
           }
          ],
          "mesh3d": [
           {
            "colorbar": {
             "outlinewidth": 0,
             "ticks": ""
            },
            "type": "mesh3d"
           }
          ],
          "parcoords": [
           {
            "line": {
             "colorbar": {
              "outlinewidth": 0,
              "ticks": ""
             }
            },
            "type": "parcoords"
           }
          ],
          "pie": [
           {
            "automargin": true,
            "type": "pie"
           }
          ],
          "scatter": [
           {
            "fillpattern": {
             "fillmode": "overlay",
             "size": 10,
             "solidity": 0.2
            },
            "type": "scatter"
           }
          ],
          "scatter3d": [
           {
            "line": {
             "colorbar": {
              "outlinewidth": 0,
              "ticks": ""
             }
            },
            "marker": {
             "colorbar": {
              "outlinewidth": 0,
              "ticks": ""
             }
            },
            "type": "scatter3d"
           }
          ],
          "scattercarpet": [
           {
            "marker": {
             "colorbar": {
              "outlinewidth": 0,
              "ticks": ""
             }
            },
            "type": "scattercarpet"
           }
          ],
          "scattergeo": [
           {
            "marker": {
             "colorbar": {
              "outlinewidth": 0,
              "ticks": ""
             }
            },
            "type": "scattergeo"
           }
          ],
          "scattergl": [
           {
            "marker": {
             "colorbar": {
              "outlinewidth": 0,
              "ticks": ""
             }
            },
            "type": "scattergl"
           }
          ],
          "scattermapbox": [
           {
            "marker": {
             "colorbar": {
              "outlinewidth": 0,
              "ticks": ""
             }
            },
            "type": "scattermapbox"
           }
          ],
          "scatterpolar": [
           {
            "marker": {
             "colorbar": {
              "outlinewidth": 0,
              "ticks": ""
             }
            },
            "type": "scatterpolar"
           }
          ],
          "scatterpolargl": [
           {
            "marker": {
             "colorbar": {
              "outlinewidth": 0,
              "ticks": ""
             }
            },
            "type": "scatterpolargl"
           }
          ],
          "scatterternary": [
           {
            "marker": {
             "colorbar": {
              "outlinewidth": 0,
              "ticks": ""
             }
            },
            "type": "scatterternary"
           }
          ],
          "surface": [
           {
            "colorbar": {
             "outlinewidth": 0,
             "ticks": ""
            },
            "colorscale": [
             [
              0,
              "#0d0887"
             ],
             [
              0.1111111111111111,
              "#46039f"
             ],
             [
              0.2222222222222222,
              "#7201a8"
             ],
             [
              0.3333333333333333,
              "#9c179e"
             ],
             [
              0.4444444444444444,
              "#bd3786"
             ],
             [
              0.5555555555555556,
              "#d8576b"
             ],
             [
              0.6666666666666666,
              "#ed7953"
             ],
             [
              0.7777777777777778,
              "#fb9f3a"
             ],
             [
              0.8888888888888888,
              "#fdca26"
             ],
             [
              1,
              "#f0f921"
             ]
            ],
            "type": "surface"
           }
          ],
          "table": [
           {
            "cells": {
             "fill": {
              "color": "#EBF0F8"
             },
             "line": {
              "color": "white"
             }
            },
            "header": {
             "fill": {
              "color": "#C8D4E3"
             },
             "line": {
              "color": "white"
             }
            },
            "type": "table"
           }
          ]
         },
         "layout": {
          "annotationdefaults": {
           "arrowcolor": "#2a3f5f",
           "arrowhead": 0,
           "arrowwidth": 1
          },
          "autotypenumbers": "strict",
          "coloraxis": {
           "colorbar": {
            "outlinewidth": 0,
            "ticks": ""
           }
          },
          "colorscale": {
           "diverging": [
            [
             0,
             "#8e0152"
            ],
            [
             0.1,
             "#c51b7d"
            ],
            [
             0.2,
             "#de77ae"
            ],
            [
             0.3,
             "#f1b6da"
            ],
            [
             0.4,
             "#fde0ef"
            ],
            [
             0.5,
             "#f7f7f7"
            ],
            [
             0.6,
             "#e6f5d0"
            ],
            [
             0.7,
             "#b8e186"
            ],
            [
             0.8,
             "#7fbc41"
            ],
            [
             0.9,
             "#4d9221"
            ],
            [
             1,
             "#276419"
            ]
           ],
           "sequential": [
            [
             0,
             "#0d0887"
            ],
            [
             0.1111111111111111,
             "#46039f"
            ],
            [
             0.2222222222222222,
             "#7201a8"
            ],
            [
             0.3333333333333333,
             "#9c179e"
            ],
            [
             0.4444444444444444,
             "#bd3786"
            ],
            [
             0.5555555555555556,
             "#d8576b"
            ],
            [
             0.6666666666666666,
             "#ed7953"
            ],
            [
             0.7777777777777778,
             "#fb9f3a"
            ],
            [
             0.8888888888888888,
             "#fdca26"
            ],
            [
             1,
             "#f0f921"
            ]
           ],
           "sequentialminus": [
            [
             0,
             "#0d0887"
            ],
            [
             0.1111111111111111,
             "#46039f"
            ],
            [
             0.2222222222222222,
             "#7201a8"
            ],
            [
             0.3333333333333333,
             "#9c179e"
            ],
            [
             0.4444444444444444,
             "#bd3786"
            ],
            [
             0.5555555555555556,
             "#d8576b"
            ],
            [
             0.6666666666666666,
             "#ed7953"
            ],
            [
             0.7777777777777778,
             "#fb9f3a"
            ],
            [
             0.8888888888888888,
             "#fdca26"
            ],
            [
             1,
             "#f0f921"
            ]
           ]
          },
          "colorway": [
           "#636efa",
           "#EF553B",
           "#00cc96",
           "#ab63fa",
           "#FFA15A",
           "#19d3f3",
           "#FF6692",
           "#B6E880",
           "#FF97FF",
           "#FECB52"
          ],
          "font": {
           "color": "#2a3f5f"
          },
          "geo": {
           "bgcolor": "white",
           "lakecolor": "white",
           "landcolor": "#E5ECF6",
           "showlakes": true,
           "showland": true,
           "subunitcolor": "white"
          },
          "hoverlabel": {
           "align": "left"
          },
          "hovermode": "closest",
          "mapbox": {
           "style": "light"
          },
          "paper_bgcolor": "white",
          "plot_bgcolor": "#E5ECF6",
          "polar": {
           "angularaxis": {
            "gridcolor": "white",
            "linecolor": "white",
            "ticks": ""
           },
           "bgcolor": "#E5ECF6",
           "radialaxis": {
            "gridcolor": "white",
            "linecolor": "white",
            "ticks": ""
           }
          },
          "scene": {
           "xaxis": {
            "backgroundcolor": "#E5ECF6",
            "gridcolor": "white",
            "gridwidth": 2,
            "linecolor": "white",
            "showbackground": true,
            "ticks": "",
            "zerolinecolor": "white"
           },
           "yaxis": {
            "backgroundcolor": "#E5ECF6",
            "gridcolor": "white",
            "gridwidth": 2,
            "linecolor": "white",
            "showbackground": true,
            "ticks": "",
            "zerolinecolor": "white"
           },
           "zaxis": {
            "backgroundcolor": "#E5ECF6",
            "gridcolor": "white",
            "gridwidth": 2,
            "linecolor": "white",
            "showbackground": true,
            "ticks": "",
            "zerolinecolor": "white"
           }
          },
          "shapedefaults": {
           "line": {
            "color": "#2a3f5f"
           }
          },
          "ternary": {
           "aaxis": {
            "gridcolor": "white",
            "linecolor": "white",
            "ticks": ""
           },
           "baxis": {
            "gridcolor": "white",
            "linecolor": "white",
            "ticks": ""
           },
           "bgcolor": "#E5ECF6",
           "caxis": {
            "gridcolor": "white",
            "linecolor": "white",
            "ticks": ""
           }
          },
          "title": {
           "x": 0.05
          },
          "xaxis": {
           "automargin": true,
           "gridcolor": "white",
           "linecolor": "white",
           "ticks": "",
           "title": {
            "standoff": 15
           },
           "zerolinecolor": "white",
           "zerolinewidth": 2
          },
          "yaxis": {
           "automargin": true,
           "gridcolor": "white",
           "linecolor": "white",
           "ticks": "",
           "title": {
            "standoff": 15
           },
           "zerolinecolor": "white",
           "zerolinewidth": 2
          }
         }
        },
        "title": {
         "text": "Average tax payable — Data vs Statutory — 2023"
        },
        "xaxis": {
         "title": {
          "text": "Assessed income group (SGD)"
         }
        },
        "yaxis": {
         "tickformat": ",.0f",
         "tickprefix": "S$ ",
         "title": {
          "text": "Average tax payable (SGD)"
         }
        }
       }
      }
     },
     "metadata": {},
     "output_type": "display_data"
    },
    {
     "data": {
      "application/vnd.plotly.v1+json": {
       "config": {
        "plotlyServerURL": "https://plot.ly"
       },
       "data": [
        {
         "mode": "lines+markers",
         "name": "ETR (dataset)",
         "type": "scatter",
         "x": [
          "20,000 & below",
          "20,001 - 25,000",
          "25,001 - 30,000",
          "30,001 - 40,000",
          "40,001 - 50,000",
          "50,001 - 60,000",
          "60,001 - 70,000",
          "70,001 - 80,000",
          "80,001 - 100,000",
          "100,001 - 150,000",
          "150,001 - 200,000",
          "200,001 - 300,000",
          "300,001 - 400,000",
          "400,001 - 500,000",
          "500,001 - 1,000,000",
          "1,000,001 & above"
         ],
         "y": [
          null,
          0.0019786347267240502,
          0.003898377434008264,
          0.007006805524455352,
          0.012397067986724375,
          0.018804879059998898,
          0.02543960943059362,
          0.031007047368472502,
          0.038027555887769196,
          0.05440562215384761,
          0.07843125321879883,
          0.10869131751959371,
          0.13718432663555302,
          0.15654856901087233,
          0.17859367635967774,
          0.20696164417110094
         ]
        },
        {
         "mode": "lines+markers",
         "name": "ETR (statutory)",
         "type": "scatter",
         "x": [
          "20,000 & below",
          "20,001 - 25,000",
          "25,001 - 30,000",
          "30,001 - 40,000",
          "40,001 - 50,000",
          "50,001 - 60,000",
          "60,001 - 70,000",
          "70,001 - 80,000",
          "80,001 - 100,000",
          "100,001 - 150,000",
          "150,001 - 200,000",
          "200,001 - 300,000",
          "300,001 - 400,000",
          "400,001 - 500,000",
          "500,001 - 1,000,000",
          "1,000,001 & above"
         ],
         "y": [
          null,
          0.001978803186337005,
          0.003898788013073404,
          0.006171444402683284,
          0.01128689333187187,
          0.01754287413315603,
          0.025109881123772358,
          0.031067173128846128,
          0.03765051830362793,
          0.05374660664519948,
          0.07807945518300671,
          0.10873702825437155,
          0.13712050050404534,
          0.15707170134744072,
          0.1809966092881796,
          0.2202613331040866
         ]
        }
       ],
       "layout": {
        "hovermode": "x unified",
        "margin": {
         "b": 90,
         "l": 40,
         "r": 20,
         "t": 60
        },
        "template": {
         "data": {
          "bar": [
           {
            "error_x": {
             "color": "#2a3f5f"
            },
            "error_y": {
             "color": "#2a3f5f"
            },
            "marker": {
             "line": {
              "color": "#E5ECF6",
              "width": 0.5
             },
             "pattern": {
              "fillmode": "overlay",
              "size": 10,
              "solidity": 0.2
             }
            },
            "type": "bar"
           }
          ],
          "barpolar": [
           {
            "marker": {
             "line": {
              "color": "#E5ECF6",
              "width": 0.5
             },
             "pattern": {
              "fillmode": "overlay",
              "size": 10,
              "solidity": 0.2
             }
            },
            "type": "barpolar"
           }
          ],
          "carpet": [
           {
            "aaxis": {
             "endlinecolor": "#2a3f5f",
             "gridcolor": "white",
             "linecolor": "white",
             "minorgridcolor": "white",
             "startlinecolor": "#2a3f5f"
            },
            "baxis": {
             "endlinecolor": "#2a3f5f",
             "gridcolor": "white",
             "linecolor": "white",
             "minorgridcolor": "white",
             "startlinecolor": "#2a3f5f"
            },
            "type": "carpet"
           }
          ],
          "choropleth": [
           {
            "colorbar": {
             "outlinewidth": 0,
             "ticks": ""
            },
            "type": "choropleth"
           }
          ],
          "contour": [
           {
            "colorbar": {
             "outlinewidth": 0,
             "ticks": ""
            },
            "colorscale": [
             [
              0,
              "#0d0887"
             ],
             [
              0.1111111111111111,
              "#46039f"
             ],
             [
              0.2222222222222222,
              "#7201a8"
             ],
             [
              0.3333333333333333,
              "#9c179e"
             ],
             [
              0.4444444444444444,
              "#bd3786"
             ],
             [
              0.5555555555555556,
              "#d8576b"
             ],
             [
              0.6666666666666666,
              "#ed7953"
             ],
             [
              0.7777777777777778,
              "#fb9f3a"
             ],
             [
              0.8888888888888888,
              "#fdca26"
             ],
             [
              1,
              "#f0f921"
             ]
            ],
            "type": "contour"
           }
          ],
          "contourcarpet": [
           {
            "colorbar": {
             "outlinewidth": 0,
             "ticks": ""
            },
            "type": "contourcarpet"
           }
          ],
          "heatmap": [
           {
            "colorbar": {
             "outlinewidth": 0,
             "ticks": ""
            },
            "colorscale": [
             [
              0,
              "#0d0887"
             ],
             [
              0.1111111111111111,
              "#46039f"
             ],
             [
              0.2222222222222222,
              "#7201a8"
             ],
             [
              0.3333333333333333,
              "#9c179e"
             ],
             [
              0.4444444444444444,
              "#bd3786"
             ],
             [
              0.5555555555555556,
              "#d8576b"
             ],
             [
              0.6666666666666666,
              "#ed7953"
             ],
             [
              0.7777777777777778,
              "#fb9f3a"
             ],
             [
              0.8888888888888888,
              "#fdca26"
             ],
             [
              1,
              "#f0f921"
             ]
            ],
            "type": "heatmap"
           }
          ],
          "heatmapgl": [
           {
            "colorbar": {
             "outlinewidth": 0,
             "ticks": ""
            },
            "colorscale": [
             [
              0,
              "#0d0887"
             ],
             [
              0.1111111111111111,
              "#46039f"
             ],
             [
              0.2222222222222222,
              "#7201a8"
             ],
             [
              0.3333333333333333,
              "#9c179e"
             ],
             [
              0.4444444444444444,
              "#bd3786"
             ],
             [
              0.5555555555555556,
              "#d8576b"
             ],
             [
              0.6666666666666666,
              "#ed7953"
             ],
             [
              0.7777777777777778,
              "#fb9f3a"
             ],
             [
              0.8888888888888888,
              "#fdca26"
             ],
             [
              1,
              "#f0f921"
             ]
            ],
            "type": "heatmapgl"
           }
          ],
          "histogram": [
           {
            "marker": {
             "pattern": {
              "fillmode": "overlay",
              "size": 10,
              "solidity": 0.2
             }
            },
            "type": "histogram"
           }
          ],
          "histogram2d": [
           {
            "colorbar": {
             "outlinewidth": 0,
             "ticks": ""
            },
            "colorscale": [
             [
              0,
              "#0d0887"
             ],
             [
              0.1111111111111111,
              "#46039f"
             ],
             [
              0.2222222222222222,
              "#7201a8"
             ],
             [
              0.3333333333333333,
              "#9c179e"
             ],
             [
              0.4444444444444444,
              "#bd3786"
             ],
             [
              0.5555555555555556,
              "#d8576b"
             ],
             [
              0.6666666666666666,
              "#ed7953"
             ],
             [
              0.7777777777777778,
              "#fb9f3a"
             ],
             [
              0.8888888888888888,
              "#fdca26"
             ],
             [
              1,
              "#f0f921"
             ]
            ],
            "type": "histogram2d"
           }
          ],
          "histogram2dcontour": [
           {
            "colorbar": {
             "outlinewidth": 0,
             "ticks": ""
            },
            "colorscale": [
             [
              0,
              "#0d0887"
             ],
             [
              0.1111111111111111,
              "#46039f"
             ],
             [
              0.2222222222222222,
              "#7201a8"
             ],
             [
              0.3333333333333333,
              "#9c179e"
             ],
             [
              0.4444444444444444,
              "#bd3786"
             ],
             [
              0.5555555555555556,
              "#d8576b"
             ],
             [
              0.6666666666666666,
              "#ed7953"
             ],
             [
              0.7777777777777778,
              "#fb9f3a"
             ],
             [
              0.8888888888888888,
              "#fdca26"
             ],
             [
              1,
              "#f0f921"
             ]
            ],
            "type": "histogram2dcontour"
           }
          ],
          "mesh3d": [
           {
            "colorbar": {
             "outlinewidth": 0,
             "ticks": ""
            },
            "type": "mesh3d"
           }
          ],
          "parcoords": [
           {
            "line": {
             "colorbar": {
              "outlinewidth": 0,
              "ticks": ""
             }
            },
            "type": "parcoords"
           }
          ],
          "pie": [
           {
            "automargin": true,
            "type": "pie"
           }
          ],
          "scatter": [
           {
            "fillpattern": {
             "fillmode": "overlay",
             "size": 10,
             "solidity": 0.2
            },
            "type": "scatter"
           }
          ],
          "scatter3d": [
           {
            "line": {
             "colorbar": {
              "outlinewidth": 0,
              "ticks": ""
             }
            },
            "marker": {
             "colorbar": {
              "outlinewidth": 0,
              "ticks": ""
             }
            },
            "type": "scatter3d"
           }
          ],
          "scattercarpet": [
           {
            "marker": {
             "colorbar": {
              "outlinewidth": 0,
              "ticks": ""
             }
            },
            "type": "scattercarpet"
           }
          ],
          "scattergeo": [
           {
            "marker": {
             "colorbar": {
              "outlinewidth": 0,
              "ticks": ""
             }
            },
            "type": "scattergeo"
           }
          ],
          "scattergl": [
           {
            "marker": {
             "colorbar": {
              "outlinewidth": 0,
              "ticks": ""
             }
            },
            "type": "scattergl"
           }
          ],
          "scattermapbox": [
           {
            "marker": {
             "colorbar": {
              "outlinewidth": 0,
              "ticks": ""
             }
            },
            "type": "scattermapbox"
           }
          ],
          "scatterpolar": [
           {
            "marker": {
             "colorbar": {
              "outlinewidth": 0,
              "ticks": ""
             }
            },
            "type": "scatterpolar"
           }
          ],
          "scatterpolargl": [
           {
            "marker": {
             "colorbar": {
              "outlinewidth": 0,
              "ticks": ""
             }
            },
            "type": "scatterpolargl"
           }
          ],
          "scatterternary": [
           {
            "marker": {
             "colorbar": {
              "outlinewidth": 0,
              "ticks": ""
             }
            },
            "type": "scatterternary"
           }
          ],
          "surface": [
           {
            "colorbar": {
             "outlinewidth": 0,
             "ticks": ""
            },
            "colorscale": [
             [
              0,
              "#0d0887"
             ],
             [
              0.1111111111111111,
              "#46039f"
             ],
             [
              0.2222222222222222,
              "#7201a8"
             ],
             [
              0.3333333333333333,
              "#9c179e"
             ],
             [
              0.4444444444444444,
              "#bd3786"
             ],
             [
              0.5555555555555556,
              "#d8576b"
             ],
             [
              0.6666666666666666,
              "#ed7953"
             ],
             [
              0.7777777777777778,
              "#fb9f3a"
             ],
             [
              0.8888888888888888,
              "#fdca26"
             ],
             [
              1,
              "#f0f921"
             ]
            ],
            "type": "surface"
           }
          ],
          "table": [
           {
            "cells": {
             "fill": {
              "color": "#EBF0F8"
             },
             "line": {
              "color": "white"
             }
            },
            "header": {
             "fill": {
              "color": "#C8D4E3"
             },
             "line": {
              "color": "white"
             }
            },
            "type": "table"
           }
          ]
         },
         "layout": {
          "annotationdefaults": {
           "arrowcolor": "#2a3f5f",
           "arrowhead": 0,
           "arrowwidth": 1
          },
          "autotypenumbers": "strict",
          "coloraxis": {
           "colorbar": {
            "outlinewidth": 0,
            "ticks": ""
           }
          },
          "colorscale": {
           "diverging": [
            [
             0,
             "#8e0152"
            ],
            [
             0.1,
             "#c51b7d"
            ],
            [
             0.2,
             "#de77ae"
            ],
            [
             0.3,
             "#f1b6da"
            ],
            [
             0.4,
             "#fde0ef"
            ],
            [
             0.5,
             "#f7f7f7"
            ],
            [
             0.6,
             "#e6f5d0"
            ],
            [
             0.7,
             "#b8e186"
            ],
            [
             0.8,
             "#7fbc41"
            ],
            [
             0.9,
             "#4d9221"
            ],
            [
             1,
             "#276419"
            ]
           ],
           "sequential": [
            [
             0,
             "#0d0887"
            ],
            [
             0.1111111111111111,
             "#46039f"
            ],
            [
             0.2222222222222222,
             "#7201a8"
            ],
            [
             0.3333333333333333,
             "#9c179e"
            ],
            [
             0.4444444444444444,
             "#bd3786"
            ],
            [
             0.5555555555555556,
             "#d8576b"
            ],
            [
             0.6666666666666666,
             "#ed7953"
            ],
            [
             0.7777777777777778,
             "#fb9f3a"
            ],
            [
             0.8888888888888888,
             "#fdca26"
            ],
            [
             1,
             "#f0f921"
            ]
           ],
           "sequentialminus": [
            [
             0,
             "#0d0887"
            ],
            [
             0.1111111111111111,
             "#46039f"
            ],
            [
             0.2222222222222222,
             "#7201a8"
            ],
            [
             0.3333333333333333,
             "#9c179e"
            ],
            [
             0.4444444444444444,
             "#bd3786"
            ],
            [
             0.5555555555555556,
             "#d8576b"
            ],
            [
             0.6666666666666666,
             "#ed7953"
            ],
            [
             0.7777777777777778,
             "#fb9f3a"
            ],
            [
             0.8888888888888888,
             "#fdca26"
            ],
            [
             1,
             "#f0f921"
            ]
           ]
          },
          "colorway": [
           "#636efa",
           "#EF553B",
           "#00cc96",
           "#ab63fa",
           "#FFA15A",
           "#19d3f3",
           "#FF6692",
           "#B6E880",
           "#FF97FF",
           "#FECB52"
          ],
          "font": {
           "color": "#2a3f5f"
          },
          "geo": {
           "bgcolor": "white",
           "lakecolor": "white",
           "landcolor": "#E5ECF6",
           "showlakes": true,
           "showland": true,
           "subunitcolor": "white"
          },
          "hoverlabel": {
           "align": "left"
          },
          "hovermode": "closest",
          "mapbox": {
           "style": "light"
          },
          "paper_bgcolor": "white",
          "plot_bgcolor": "#E5ECF6",
          "polar": {
           "angularaxis": {
            "gridcolor": "white",
            "linecolor": "white",
            "ticks": ""
           },
           "bgcolor": "#E5ECF6",
           "radialaxis": {
            "gridcolor": "white",
            "linecolor": "white",
            "ticks": ""
           }
          },
          "scene": {
           "xaxis": {
            "backgroundcolor": "#E5ECF6",
            "gridcolor": "white",
            "gridwidth": 2,
            "linecolor": "white",
            "showbackground": true,
            "ticks": "",
            "zerolinecolor": "white"
           },
           "yaxis": {
            "backgroundcolor": "#E5ECF6",
            "gridcolor": "white",
            "gridwidth": 2,
            "linecolor": "white",
            "showbackground": true,
            "ticks": "",
            "zerolinecolor": "white"
           },
           "zaxis": {
            "backgroundcolor": "#E5ECF6",
            "gridcolor": "white",
            "gridwidth": 2,
            "linecolor": "white",
            "showbackground": true,
            "ticks": "",
            "zerolinecolor": "white"
           }
          },
          "shapedefaults": {
           "line": {
            "color": "#2a3f5f"
           }
          },
          "ternary": {
           "aaxis": {
            "gridcolor": "white",
            "linecolor": "white",
            "ticks": ""
           },
           "baxis": {
            "gridcolor": "white",
            "linecolor": "white",
            "ticks": ""
           },
           "bgcolor": "#E5ECF6",
           "caxis": {
            "gridcolor": "white",
            "linecolor": "white",
            "ticks": ""
           }
          },
          "title": {
           "x": 0.05
          },
          "xaxis": {
           "automargin": true,
           "gridcolor": "white",
           "linecolor": "white",
           "ticks": "",
           "title": {
            "standoff": 15
           },
           "zerolinecolor": "white",
           "zerolinewidth": 2
          },
          "yaxis": {
           "automargin": true,
           "gridcolor": "white",
           "linecolor": "white",
           "ticks": "",
           "title": {
            "standoff": 15
           },
           "zerolinecolor": "white",
           "zerolinewidth": 2
          }
         }
        },
        "title": {
         "text": "Effective Tax Rate — Data vs Statutory — 2023"
        },
        "xaxis": {
         "title": {
          "text": "Assessed income group (SGD)"
         }
        },
        "yaxis": {
         "tickformat": ".1%",
         "title": {
          "text": "ETR"
         }
        }
       }
      }
     },
     "metadata": {},
     "output_type": "display_data"
    }
   ],
   "source": [
    "# ==========================================\n",
    "# Robust numeric coercion + scaling\n",
    "# ==========================================\n",
    "\n",
    "# ---------- 1) Helper to coerce messy numerics ----------\n",
    "def _to_numeric_clean(series: pd.Series) -> pd.Series:\n",
    "    \"\"\"\n",
    "    Coerce strings like '1,234', ' 2 345 ', '(1,000)', '–', '-' to floats.\n",
    "    Leaves real numerics unchanged. Returns float dtype.\n",
    "    \"\"\"\n",
    "    s = series.copy()\n",
    "    # Early exit if already numeric\n",
    "    if pd.api.types.is_numeric_dtype(s):\n",
    "        return pd.to_numeric(s, errors=\"coerce\")\n",
    "    s = s.astype(str)\n",
    "\n",
    "    # Normalize unicode dashes and whitespace\n",
    "    s = s.str.replace(r\"[–—−]\", \"-\", regex=True)   # various dashes to ASCII -\n",
    "    s = s.str.replace(r\"\\s+\", \"\", regex=True)      # remove all spaces\n",
    "\n",
    "    # Handle parentheses for negatives: (1234) -> -1234\n",
    "    neg_mask = s.str.match(r\"^\\(.*\\)$\")\n",
    "    s = s.str.replace(r\"^\\((.*)\\)$\", r\"-\\1\", regex=True)\n",
    "\n",
    "    # Remove commas and any stray non-digits except leading minus and decimal point\n",
    "    s = s.str.replace(\",\", \"\", regex=False)\n",
    "    s = s.str.replace(r\"[^0-9\\.\\-]\", \"\", regex=True)\n",
    "\n",
    "    # Empty strings -> NaN\n",
    "    s = s.replace(\"\", np.nan)\n",
    "\n",
    "    return pd.to_numeric(s, errors=\"coerce\")\n",
    "\n",
    "# Columns we expect to be numeric\n",
    "_num_cols = [\n",
    "    \"number_of_taxpayers\",\n",
    "    \"assessable_income\",\n",
    "    \"chargeable_income\",\n",
    "    \"net_tax_assessed\",\n",
    "    \"year_of_assessment\",\n",
    "]\n",
    "\n",
    "# Make a cleaned copy filtered to Tax Residents\n",
    "df_tr = income_table[income_table[\"resident_type\"] == \"Tax Resident\"].copy()\n",
    "\n",
    "for c in _num_cols:\n",
    "    if c in df_tr.columns:\n",
    "        df_tr[c] = _to_numeric_clean(df_tr[c])\n",
    "\n",
    "# (Optional) enforce integer year\n",
    "if \"year_of_assessment\" in df_tr.columns:\n",
    "    df_tr[\"year_of_assessment\"] = df_tr[\"year_of_assessment\"].round().astype(\"Int64\")\n",
    "\n",
    "# ---------- 2) Bin parsing / ordering ----------\n",
    "def parse_bin_bounds(label: str):\n",
    "    s = str(label).replace(\",\", \"\").strip()\n",
    "    m = re.match(r\"^(\\d+)\\s*&\\s*below$\", s, flags=re.I)\n",
    "    if m: return 0, int(m.group(1))\n",
    "    m = re.match(r\"^(\\d+)\\s*&\\s*above$\", s, flags=re.I)\n",
    "    if m: return int(m.group(1)), math.inf\n",
    "    m = re.match(r\"^(\\d+)\\s*-\\s*(\\d+)$\", s)\n",
    "    if m: return int(m.group(1)), int(m.group(2))\n",
    "    raise ValueError(f\"Unrecognized bin label: {label!r}\")\n",
    "\n",
    "labels_unique = df_tr[\"assessed_income_group\"].dropna().unique().tolist()\n",
    "bin_info = []\n",
    "for lbl in labels_unique:\n",
    "    lo, hi = parse_bin_bounds(lbl)\n",
    "    bin_info.append((str(lbl), lo, hi))\n",
    "bin_info.sort(key=lambda x: (x[1], float(\"inf\") if x[2] == math.inf else x[2]))\n",
    "ordered_labels = [b[0] for b in bin_info]\n",
    "\n",
    "def rep_midpoint(lo, hi, top_tail_factor=1.25):\n",
    "    return lo*top_tail_factor if hi == math.inf else 0.5*(lo+hi)\n",
    "rep_map = {lbl: rep_midpoint(lo, hi) for (lbl, lo, hi) in bin_info}\n",
    "\n",
    "# ---------- 3) Aggregate per year x bin ----------\n",
    "bybin = (\n",
    "    df_tr.groupby([\"year_of_assessment\", \"assessed_income_group\"], observed=True)\n",
    "         .agg(number_of_taxpayers=(\"number_of_taxpayers\",\"sum\"),\n",
    "              assessable_income=(\"assessable_income\",\"sum\"),\n",
    "              chargeable_income=(\"chargeable_income\",\"sum\"),\n",
    "              net_tax_assessed=(\"net_tax_assessed\",\"sum\"))\n",
    "         .reset_index()\n",
    ")\n",
    "bybin[\"assessed_income_group\"] = pd.Categorical(bybin[\"assessed_income_group\"], ordered=True, categories=ordered_labels)\n",
    "bybin = bybin.sort_values([\"year_of_assessment\", \"assessed_income_group\"])\n",
    "\n",
    "# Safety: ensure numeric dtypes post-aggregation (object sneaks in sometimes)\n",
    "for c in [\"number_of_taxpayers\",\"assessable_income\",\"chargeable_income\",\"net_tax_assessed\"]:\n",
    "    bybin[c] = pd.to_numeric(bybin[c], errors=\"coerce\")\n",
    "\n",
    "# Population shares per year\n",
    "bybin[\"pop_share\"] = bybin.groupby(\"year_of_assessment\")[\"number_of_taxpayers\"].transform(lambda s: s / s.sum())\n",
    "\n",
    "# ---------- 4) Statutory tax schedule ----------\n",
    "BRACKETS_2024 = [\n",
    "    (  20000, 0.00,      0),\n",
    "    (  30000, 0.02,    200),\n",
    "    (  40000, 0.035,   550),\n",
    "    (  80000, 0.07,   3350),\n",
    "    ( 120000, 0.115,  7950),\n",
    "    ( 160000, 0.15,  13950),\n",
    "    ( 200000, 0.18,  21150),\n",
    "    ( 240000, 0.19,  28750),\n",
    "    ( 280000, 0.195, 36550),\n",
    "    ( 320000, 0.20,  44550),\n",
    "    ( 500000, 0.22,  84150),\n",
    "    (1000000, 0.23, 199150),\n",
    "    (np.inf , 0.24,   None),\n",
    "]\n",
    "\n",
    "def statutory_tax(chargeable_income: float) -> float:\n",
    "    if chargeable_income is None or not np.isfinite(chargeable_income):\n",
    "        return np.nan\n",
    "    lower_prev, cum_prev = 0.0, 0.0\n",
    "    for upper, rate, cum_at_upper in BRACKETS_2024:\n",
    "        if chargeable_income <= upper:\n",
    "            return float(cum_prev + rate * (chargeable_income - lower_prev))\n",
    "        lower_prev = float(upper)\n",
    "        if cum_at_upper is not None:\n",
    "            cum_prev = float(cum_at_upper)\n",
    "    return np.nan\n",
    "\n",
    "# ---------- 5) Auto-detect unit scales (income & tax) ----------\n",
    "CAND = np.array([1, 10, 100, 1000, 10000], dtype=float)\n",
    "\n",
    "# Income scale: align per-capita assessable income with bin midpoints\n",
    "mean_assessable_pc_raw = bybin[\"assessable_income\"] / bybin[\"number_of_taxpayers\"].replace(0, np.nan)\n",
    "rep_mid = bybin[\"assessed_income_group\"].astype(str).map(rep_map)\n",
    "ratio_income = (rep_mid / mean_assessable_pc_raw).replace([np.inf,-np.inf], np.nan).dropna()\n",
    "\n",
    "if ratio_income.empty or not np.isfinite(ratio_income.median()):\n",
    "    income_scale = 1.0\n",
    "else:\n",
    "    med_ratio = float(np.nanmedian(ratio_income.to_numpy()))\n",
    "    income_scale = float(CAND[np.nanargmin(np.abs(CAND - med_ratio))])\n",
    "\n",
    "# Tax scale: align avg tax (data) with statutory tax at scaled mean chargeable\n",
    "mean_chargeable_pc_scaled = (bybin[\"chargeable_income\"] * income_scale) / bybin[\"number_of_taxpayers\"].replace(0, np.nan)\n",
    "stat_at_mean = mean_chargeable_pc_scaled.apply(statutory_tax)\n",
    "avg_tax_data_raw = bybin[\"net_tax_assessed\"] / bybin[\"number_of_taxpayers\"].replace(0, np.nan)\n",
    "ratio_tax = (stat_at_mean / avg_tax_data_raw).replace([np.inf,-np.inf], np.nan).dropna()\n",
    "\n",
    "if ratio_tax.empty or not np.isfinite(ratio_tax.median()):\n",
    "    tax_scale = 1.0\n",
    "else:\n",
    "    med_ratio_t = float(np.nanmedian(ratio_tax.to_numpy()))\n",
    "    tax_scale = float(CAND[np.nanargmin(np.abs(CAND - med_ratio_t))])\n",
    "\n",
    "print(f\"[scales] income_scale={income_scale:.0f}, tax_scale={tax_scale:.0f}\")\n",
    "\n",
    "# Apply scales and recompute per-capita series\n",
    "bybin[\"mean_chargeable_pc\"] = mean_chargeable_pc_scaled  # already income-scaled\n",
    "bybin[\"avg_tax_data\"] = (bybin[\"net_tax_assessed\"] * tax_scale) / bybin[\"number_of_taxpayers\"].replace(0, np.nan)\n",
    "bybin[\"avg_tax_statutory\"] = bybin[\"mean_chargeable_pc\"].apply(statutory_tax)\n",
    "\n",
    "# ---------- 6) Quick sanity: no strings left ----------\n",
    "assert pd.api.types.is_float_dtype(bybin[\"mean_chargeable_pc\"]), \"mean_chargeable_pc not numeric\"\n",
    "assert pd.api.types.is_float_dtype(bybin[\"avg_tax_data\"]), \"avg_tax_data not numeric\"\n",
    "assert pd.api.types.is_float_dtype(bybin[\"avg_tax_statutory\"]), \"avg_tax_statutory not numeric\"\n",
    "\n",
    "# ---------- 7) Plots for the latest year ----------\n",
    "latest_year = int(bybin[\"year_of_assessment\"].dropna().max())\n",
    "d = bybin[bybin[\"year_of_assessment\"] == latest_year].copy().sort_values(\"assessed_income_group\")\n",
    "\n",
    "fig_tax = go.Figure()\n",
    "fig_tax.add_trace(go.Scatter(\n",
    "    x=d[\"assessed_income_group\"].astype(str),\n",
    "    y=d[\"avg_tax_data\"],\n",
    "    mode=\"lines+markers\", name=\"Avg tax (dataset)\"\n",
    "))\n",
    "fig_tax.add_trace(go.Scatter(\n",
    "    x=d[\"assessed_income_group\"].astype(str),\n",
    "    y=d[\"avg_tax_statutory\"],\n",
    "    mode=\"lines+markers\", name=\"Avg tax (statutory)\"\n",
    "))\n",
    "fig_tax.update_layout(\n",
    "    title=f\"Average tax payable — Data vs Statutory — {latest_year}\",\n",
    "    xaxis_title=\"Assessed income group (SGD)\",\n",
    "    yaxis_title=\"Average tax payable (SGD)\",\n",
    "    yaxis=dict(tickprefix=\"S$ \", tickformat=\",.0f\"),\n",
    "    hovermode=\"x unified\", margin=dict(l=40,r=20,t=60,b=90)\n",
    ")\n",
    "fig_tax.show()\n",
    "\n",
    "fig_etr = go.Figure()\n",
    "fig_etr.add_trace(go.Scatter(\n",
    "    x=d[\"assessed_income_group\"].astype(str),\n",
    "    y=d[\"avg_tax_data\"] / d[\"mean_chargeable_pc\"],\n",
    "    mode=\"lines+markers\", name=\"ETR (dataset)\"\n",
    "))\n",
    "fig_etr.add_trace(go.Scatter(\n",
    "    x=d[\"assessed_income_group\"].astype(str),\n",
    "    y=d[\"avg_tax_statutory\"] / d[\"mean_chargeable_pc\"],\n",
    "    mode=\"lines+markers\", name=\"ETR (statutory)\"\n",
    "))\n",
    "fig_etr.update_layout(\n",
    "    title=f\"Effective Tax Rate — Data vs Statutory — {latest_year}\",\n",
    "    xaxis_title=\"Assessed income group (SGD)\",\n",
    "    yaxis_title=\"ETR\",\n",
    "    yaxis=dict(tickformat=\".1%\"),\n",
    "    hovermode=\"x unified\", margin=dict(l=40,r=20,t=60,b=90)\n",
    ")\n",
    "fig_etr.show()"
   ]
  },
  {
   "cell_type": "code",
   "execution_count": 10,
   "id": "7cdfe147",
   "metadata": {},
   "outputs": [],
   "source": [
    "def compute_tax(income_sgd: float, brackets=BRACKETS_2024) -> tuple[float, float]:\n",
    "    \"\"\"\n",
    "    Compute Singapore income tax (SGD) and effective tax rate for YA2024.\n",
    "\n",
    "    The `brackets` are (upper_limit, marginal_rate, _ignored_).\n",
    "    We ignore the third entry and compute piecewise: for each bracket,\n",
    "    tax += rate * max(0, min(income, upper) - lower).\n",
    "\n",
    "    Returns (tax_sgd, effective_rate).\n",
    "    \"\"\"\n",
    "    if not np.isfinite(income_sgd) or income_sgd <= 0:\n",
    "        return 0.0, 0.0\n",
    "\n",
    "    tax = 0.0\n",
    "    lower = 0.0\n",
    "\n",
    "    for upper, rate, *_ in brackets:\n",
    "        taxable = max(0.0, min(income_sgd, float(upper)) - lower)\n",
    "        tax += taxable * float(rate)\n",
    "        if income_sgd <= upper:\n",
    "            break\n",
    "        lower = float(upper)\n",
    "\n",
    "    effective_rate = tax / income_sgd\n",
    "    return tax, effective_rate"
   ]
  },
  {
   "cell_type": "code",
   "execution_count": 11,
   "id": "f96d2368",
   "metadata": {},
   "outputs": [],
   "source": [
    "tax_burden_sgd, effective_tax_rate = compute_tax(150_000)"
   ]
  },
  {
   "cell_type": "code",
   "execution_count": 12,
   "id": "1f82e103",
   "metadata": {},
   "outputs": [
    {
     "data": {
      "text/plain": [
       "(12450.0, 0.083)"
      ]
     },
     "execution_count": 12,
     "metadata": {},
     "output_type": "execute_result"
    }
   ],
   "source": [
    "tax_burden_sgd, effective_tax_rate"
   ]
  },
  {
   "cell_type": "code",
   "execution_count": 14,
   "id": "13286544",
   "metadata": {},
   "outputs": [],
   "source": [
    "# Assuming you already ran:\n",
    "# gic = growth_incidence_curve(years_all[0], years_all[-1])\n",
    "import plotly.express as px\n",
    "\n",
    "fig_gic = px.line(\n",
    "    gic, x=(gic[\"percentile\"]*100), y=\"growth\", markers=True,\n",
    "    labels={\"percentile\":\"Percentile\", \"growth\":\"Growth vs base\"},\n",
    ")\n",
    "fig_gic.update_layout(\n",
    "    title=f\"Growth Incidence Curve: {years_all[0]} → {years_all[-1]}\",\n",
    "    yaxis=dict(tickformat=\".1%\"),\n",
    "    xaxis=dict(title=\"Percentile (P1…P99)\", ticks=\"outside\"),\n",
    "    hovermode=\"x\",\n",
    "    margin=dict(l=40,r=20,t=60,b=40)\n",
    ")\n",
    "fig_gic.update_traces(hovertemplate=\"P%{x:.0f}<br>Growth: %{y:.2%}<extra></extra>\")\n",
    "\n",
    "# Save (requires kaleido: `pip install -U kaleido`)\n",
    "fig_gic.write_image(\"images/sg_gic.png\", scale=3, width=1100, height=650)"
   ]
  },
  {
   "cell_type": "code",
   "execution_count": 15,
   "id": "473f8f3b",
   "metadata": {},
   "outputs": [
    {
     "data": {
      "text/html": [
       "<div>\n",
       "<style scoped>\n",
       "    .dataframe tbody tr th:only-of-type {\n",
       "        vertical-align: middle;\n",
       "    }\n",
       "\n",
       "    .dataframe tbody tr th {\n",
       "        vertical-align: top;\n",
       "    }\n",
       "\n",
       "    .dataframe thead th {\n",
       "        text-align: right;\n",
       "    }\n",
       "</style>\n",
       "<table border=\"1\" class=\"dataframe\">\n",
       "  <thead>\n",
       "    <tr style=\"text-align: right;\">\n",
       "      <th></th>\n",
       "      <th>percentile</th>\n",
       "      <th>growth</th>\n",
       "      <th>year0</th>\n",
       "      <th>year1</th>\n",
       "    </tr>\n",
       "  </thead>\n",
       "  <tbody>\n",
       "    <tr>\n",
       "      <th>0</th>\n",
       "      <td>0.01</td>\n",
       "      <td>0.016959</td>\n",
       "      <td>2004</td>\n",
       "      <td>2023</td>\n",
       "    </tr>\n",
       "    <tr>\n",
       "      <th>1</th>\n",
       "      <td>0.02</td>\n",
       "      <td>0.031755</td>\n",
       "      <td>2004</td>\n",
       "      <td>2023</td>\n",
       "    </tr>\n",
       "    <tr>\n",
       "      <th>2</th>\n",
       "      <td>0.03</td>\n",
       "      <td>0.035317</td>\n",
       "      <td>2004</td>\n",
       "      <td>2023</td>\n",
       "    </tr>\n",
       "    <tr>\n",
       "      <th>3</th>\n",
       "      <td>0.04</td>\n",
       "      <td>0.033627</td>\n",
       "      <td>2004</td>\n",
       "      <td>2023</td>\n",
       "    </tr>\n",
       "    <tr>\n",
       "      <th>4</th>\n",
       "      <td>0.05</td>\n",
       "      <td>0.046689</td>\n",
       "      <td>2004</td>\n",
       "      <td>2023</td>\n",
       "    </tr>\n",
       "    <tr>\n",
       "      <th>...</th>\n",
       "      <td>...</td>\n",
       "      <td>...</td>\n",
       "      <td>...</td>\n",
       "      <td>...</td>\n",
       "    </tr>\n",
       "    <tr>\n",
       "      <th>94</th>\n",
       "      <td>0.95</td>\n",
       "      <td>0.427894</td>\n",
       "      <td>2004</td>\n",
       "      <td>2023</td>\n",
       "    </tr>\n",
       "    <tr>\n",
       "      <th>95</th>\n",
       "      <td>0.96</td>\n",
       "      <td>0.394326</td>\n",
       "      <td>2004</td>\n",
       "      <td>2023</td>\n",
       "    </tr>\n",
       "    <tr>\n",
       "      <th>96</th>\n",
       "      <td>0.97</td>\n",
       "      <td>0.385321</td>\n",
       "      <td>2004</td>\n",
       "      <td>2023</td>\n",
       "    </tr>\n",
       "    <tr>\n",
       "      <th>97</th>\n",
       "      <td>0.98</td>\n",
       "      <td>0.392892</td>\n",
       "      <td>2004</td>\n",
       "      <td>2023</td>\n",
       "    </tr>\n",
       "    <tr>\n",
       "      <th>98</th>\n",
       "      <td>0.99</td>\n",
       "      <td>0.662126</td>\n",
       "      <td>2004</td>\n",
       "      <td>2023</td>\n",
       "    </tr>\n",
       "  </tbody>\n",
       "</table>\n",
       "<p>99 rows × 4 columns</p>\n",
       "</div>"
      ],
      "text/plain": [
       "    percentile    growth  year0  year1\n",
       "0         0.01  0.016959   2004   2023\n",
       "1         0.02  0.031755   2004   2023\n",
       "2         0.03  0.035317   2004   2023\n",
       "3         0.04  0.033627   2004   2023\n",
       "4         0.05  0.046689   2004   2023\n",
       "..         ...       ...    ...    ...\n",
       "94        0.95  0.427894   2004   2023\n",
       "95        0.96  0.394326   2004   2023\n",
       "96        0.97  0.385321   2004   2023\n",
       "97        0.98  0.392892   2004   2023\n",
       "98        0.99  0.662126   2004   2023\n",
       "\n",
       "[99 rows x 4 columns]"
      ]
     },
     "execution_count": 15,
     "metadata": {},
     "output_type": "execute_result"
    }
   ],
   "source": [
    "gic"
   ]
  },
  {
   "cell_type": "code",
   "execution_count": 24,
   "id": "e25f2088",
   "metadata": {},
   "outputs": [
    {
     "name": "stdout",
     "output_type": "stream",
     "text": [
      "Detected deviation segments (> 2σ):\n",
      "  P63–P68  (mean residual = +0.044)\n",
      "  P71–P81  (mean residual = +0.077)\n",
      "  P87–P90  (mean residual = -0.067)\n",
      "  P93–P99  (mean residual = -0.109)\n"
     ]
    },
    {
     "data": {
      "image/png": "[encoded data removed]",
      "text/plain": [
       "<Figure size 1000x600 with 1 Axes>"
      ]
     },
     "metadata": {},
     "output_type": "display_data"
    }
   ],
   "source": [
    "# --- 1) Prep data from your existing 'gic' DataFrame ---\n",
    "# gic columns: 'percentile' in [0,1], 'growth' in fractional units\n",
    "x = (gic[\"percentile\"].to_numpy(dtype=float) * 100.0)  # 1..99\n",
    "y = gic[\"growth\"].to_numpy(dtype=float)\n",
    "\n",
    "# --- 2) Fit a linear trend on the bulk (exclude extreme tail for robustness) ---\n",
    "fit_mask = (x >= 1) & (x <= 97)  # avoid the very top-end jump while fitting\n",
    "coef = np.polyfit(x[fit_mask], y[fit_mask], deg=1)     # slope, intercept\n",
    "y_hat = np.polyval(coef, x)\n",
    "\n",
    "# --- 3) Detect break regime(s): residuals that exceed a robust 2σ threshold ---\n",
    "resid = y - y_hat\n",
    "\n",
    "# robust sigma via MAD on the inliers used for fitting\n",
    "mad = np.median(np.abs(resid[fit_mask] - np.median(resid[fit_mask])))\n",
    "sigma = 1.4826 * mad if mad > 0 else np.std(resid[fit_mask], ddof=1)\n",
    "thr = 2.0 * sigma\n",
    "\n",
    "dev_mask = np.abs(resid) > thr\n",
    "\n",
    "# group consecutive True values into segments (and require >= 2 points)\n",
    "segments = []\n",
    "i = 0\n",
    "while i < len(x):\n",
    "    if dev_mask[i]:\n",
    "        j = i\n",
    "        while j + 1 < len(x) and dev_mask[j + 1]:\n",
    "            j += 1\n",
    "        if (j - i + 1) >= 2:\n",
    "            segments.append((i, j))\n",
    "        i = j + 1\n",
    "    else:\n",
    "        i += 1\n",
    "\n",
    "# Report detected break ranges (in percentiles)\n",
    "if segments:\n",
    "    print(\"Detected deviation segments (> 2σ):\")\n",
    "    for (i, j) in segments:\n",
    "        print(f\"  P{int(round(x[i]))}–P{int(round(x[j]))}  \"\n",
    "              f\"(mean residual = {resid[i:j+1].mean():+.3f})\")\n",
    "else:\n",
    "    print(\"No deviation segment exceeded the 2σ threshold.\")\n",
    "\n",
    "# --- 4) Plot: curve, fitted line, and highlight deviation segments ---\n",
    "plt.figure(figsize=(10, 6))\n",
    "plt.plot(x, y, marker='o', linewidth=2, label=\"Growth vs base\")              # curve\n",
    "plt.plot(x, y_hat, 'k--', linewidth=2, label=f\"Linear fit (P1–P97): y={coef[0]:.3f}x+{coef[1]:.3f}\")\n",
    "\n",
    "# highlight segments\n",
    "first = True\n",
    "for (i, j) in segments:\n",
    "    # segment line in red\n",
    "    plt.plot(x[i:j+1], y[i:j+1], color='crimson', linewidth=2,\n",
    "             label=\"Deviation (>2σ)\" if first else None)\n",
    "    # light shading behind the segment\n",
    "    plt.fill_between(x[i:j+1], y[i:j+1], y_hat[i:j+1], color='crimson', alpha=0.15)\n",
    "    first = False\n",
    "fontsize = 14\n",
    "plt.title(f\"Growth Incidence Curve with Linear Fit & Regime Breaks: {years_all[0]} → {years_all[-1]}\", fontsize=fontsize)\n",
    "plt.xlabel(\"Percentile (P1…P99)\", fontsize=fontsize)\n",
    "plt.ylabel(\"Growth vs base\", fontsize=fontsize)\n",
    "plt.gca().yaxis.set_major_formatter(plt.FuncFormatter(lambda v, _: f\"{v:.0%}\"))\n",
    "plt.ylim(bottom=0)\n",
    "plt.grid(True, alpha=0.3)\n",
    "plt.legend(loc=\"lower right\", fontsize=fontsize, frameon=False)\n",
    "plt.xticks(fontsize=fontsize)\n",
    "plt.yticks(fontsize=fontsize)\n",
    "\n",
    "# Optional: save for web\n",
    "plt.tight_layout()\n",
    "plt.savefig(\"sg_gic_with_fit_breaks.png\", dpi=200)\n",
    "plt.savefig(\"sg_gic_with_fit_breaks.pdf\")\n",
    "plt.show()"
   ]
  }
 ],
 "metadata": {
  "kernelspec": {
   "display_name": "base",
   "language": "python",
   "name": "python3"
  },
  "language_info": {
   "codemirror_mode": {
    "name": "ipython",
    "version": 3
   },
   "file_extension": ".py",
   "mimetype": "text/x-python",
   "name": "python",
   "nbconvert_exporter": "python",
   "pygments_lexer": "ipython3",
   "version": "3.11.5"
  }
 },
 "nbformat": 4,
 "nbformat_minor": 5
}
